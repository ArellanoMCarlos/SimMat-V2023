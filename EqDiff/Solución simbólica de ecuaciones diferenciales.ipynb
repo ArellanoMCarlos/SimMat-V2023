{
 "cells": [
  {
   "cell_type": "markdown",
   "metadata": {},
   "source": [
    "# Solución simbólica de ecuaciones diferenciales\n",
    "En esta ocación comenzaremos con el modelos discreto\n",
    "## Modelo del rendimiento de una cuenta de ahorro\n",
    "\n",
    "<img style=\"center\" src=\"https://static.pexels.com/photos/9660/business-money-pink-coins.jpg\" width=\"500px\" height=\"200px\" alt=\"atom\"/>\n",
    "\n",
    "> **¿Tiene el dinero el mismo valor a lo largo del tiempo?** La respuesta es *no*. Todos lo hemos vivido. \n",
    "\n",
    "> Dos situaciones básicas:\n",
    "1. <font color=blue>Inflación</font>: ¿Cuánto dinero necesitabas para comprar unas papas y un refresco hace 10 años? ¿Cuánto necesitas hoy?\n",
    "2. <font color=blue>Interés</font>: no es lo mismo tener $\\$10000$ MXN disponibles hoy a recibir $\\$10000$ MXN en un año, pues los primeros pueden ser invertidos en un negocio o una cuenta bancaria para generar **interés**. Por lo tanto los $\\$10000$ MXN disponibles hoy valen más que los $\\$10000$ MXN que se recibirán en un año.\n",
    "\n",
    "Referencia:\n",
    "- Vidaurri Aguirre, Héctor Manuel. *Ingeniería económica básica*, ISBN: 978-607-519-017-4. (Disponible en biblioteca)"
   ]
  },
  {
   "cell_type": "markdown",
   "metadata": {},
   "source": [
    "Referencias:\n",
    "- http://www.sympy.org\n",
    "- http://matplotlib.org\n",
    "- http://www.numpy.org\n",
    "- http://ipywidgets.readthedocs.io/en/latest/index.html"
   ]
  },
  {
   "cell_type": "markdown",
   "metadata": {},
   "source": [
    "___\n",
    "## Interés\n",
    "Nos centraremos en como cambia el valor del dinero en el tiempo debido al **interés**. Existen dos tipos:"
   ]
  },
  {
   "cell_type": "markdown",
   "metadata": {},
   "source": [
    "### Capitalización por interés simple\n",
    "Este tipo de interés se calcula <font color=red>única y exclusivamente sobre la cantidad original que se invirtió</font>. Como consecuencia, el interés generado no forma parte del dinero que se invierte, es decir, los <font color=blue>intereses no ganan intereses</font>.\n",
    "\n",
    "Suponga que se tiene un capital inicial $C_0$ y se invierte a un plazo de $k$ periodos (pueden ser meses, trimestres, semestres, años...) a una tasa de **interés simple** por periodo $i$. Al final del primer periodo, el capital $C_1$ que se obtiene es:\n",
    "\n",
    "$$C_1=C_0+iC_0=C_0(1+i).$$\n",
    "\n",
    "De la misma manera, como el interés solo se calcula sobre el capital inicial, al final del segundo periodo, el capital $C_2$ que se obtiene es:\n",
    "\n",
    "$$C_2=C_1+iC_0=C_0+iC_0+iC_0=C_0(1+2i).$$\n",
    "\n",
    "Así, al final del $k-$ésimo periodo, el capital $C_k$ que se obtiene es:\n",
    "\n",
    "$$C_k=C_{k-1}+iC_0=C_0+kiC_0=C_0(1+ki).$$"
   ]
  },
  {
   "cell_type": "markdown",
   "metadata": {},
   "source": [
    "> **Ejemplo.** Suponga que se tiene un capital de $\\$10000$ MXN, el cual se pone en un fondo de inversión que paga una tasa de interés simple del $0.8\\%$ mensual. \n",
    "\n",
    "> Si se tiene una meta de ahorro de $\\$11000$ MXN sin inversiones adicionales, ¿cuántos meses se debería dejar invertido el dinero?"
   ]
  },
  {
   "cell_type": "code",
   "execution_count": 1,
   "metadata": {},
   "outputs": [],
   "source": [
    "import numpy as np\n",
    "import matplotlib.pyplot as plt"
   ]
  },
  {
   "cell_type": "code",
   "execution_count": 6,
   "metadata": {},
   "outputs": [],
   "source": [
    "# Parámetros\n",
    "Ck=11000 # Capital final (meta)\n",
    "C0=10000 # Capital inicial\n",
    "i=0.008  # Tasa de interés"
   ]
  },
  {
   "cell_type": "code",
   "execution_count": 7,
   "metadata": {},
   "outputs": [
    {
     "data": {
      "text/plain": [
       "12.50000000000001"
      ]
     },
     "execution_count": 7,
     "metadata": {},
     "output_type": "execute_result"
    }
   ],
   "source": [
    "# Ck=C0*(1+k*i)\n",
    "k=(Ck/C0-1)/i # Periodo en meses\n",
    "k"
   ]
  },
  {
   "cell_type": "code",
   "execution_count": 8,
   "metadata": {},
   "outputs": [
    {
     "data": {
      "text/plain": [
       "13"
      ]
     },
     "execution_count": 8,
     "metadata": {},
     "output_type": "execute_result"
    }
   ],
   "source": [
    "# Truncamos hacia arriba\n",
    "k=np.ceil(k).astype('int')\n",
    "k"
   ]
  },
  {
   "cell_type": "code",
   "execution_count": 9,
   "metadata": {},
   "outputs": [
    {
     "data": {
      "text/plain": [
       "11040.000000000002"
      ]
     },
     "execution_count": 9,
     "metadata": {},
     "output_type": "execute_result"
    }
   ],
   "source": [
    "Cf=C0*(1+k*i)\n",
    "Cf"
   ]
  },
  {
   "cell_type": "markdown",
   "metadata": {},
   "source": [
    "> Una gráfica que nos permite ilustrar la situación anterior se puede realizar de la siguiente manera."
   ]
  },
  {
   "cell_type": "code",
   "execution_count": 2,
   "metadata": {},
   "outputs": [],
   "source": [
    "from ipywidgets import *"
   ]
  },
  {
   "cell_type": "code",
   "execution_count": 12,
   "metadata": {},
   "outputs": [
    {
     "data": {
      "text/plain": [
       "[0, 1, 2, 3, 4, 5, 6, 7, 8, 9, 10, 11, 12, 13]"
      ]
     },
     "execution_count": 12,
     "metadata": {},
     "output_type": "execute_result"
    }
   ],
   "source": [
    "list(range(k+1))"
   ]
  },
  {
   "cell_type": "code",
   "execution_count": 16,
   "metadata": {},
   "outputs": [
    {
     "data": {
      "application/vnd.jupyter.widget-view+json": {
       "model_id": "5c442165c482492da796249977919865",
       "version_major": 2,
       "version_minor": 0
      },
      "text/plain": [
       "interactive(children=(IntSlider(value=11000, description='Ck', max=15000, min=11000, step=1000), FloatSlider(v…"
      ]
     },
     "metadata": {},
     "output_type": "display_data"
    }
   ],
   "source": [
    "# Gráfico interactivo\n",
    "@interact(Ck=(11000,15000,1000),i=(0.5,1,0.1),C0=(10000,14000,1000))\n",
    "def C_simple(Ck=11000,i=0.8,C0=10000):\n",
    "    i=i/100\n",
    "    k=np.ceil((Ck/C0-1)/i).astype('int')\n",
    "    periodos=np.arange(k+1)\n",
    "    Cf=C0*(1+periodos*i)\n",
    "    plt.plot(periodos,Cf,'o',[0,k],[Ck,Ck],'--k')\n",
    "    plt.grid()\n",
    "    leyenda='''Para una meta de {}MXN se necesitan {} meses con un capital inicial de {}MXN y una tasa de interés de {}%.\n",
    "    Obteniendo {}MXN.'''.format(Ck,k,C0,i*100,round(Cf[-1],2))\n",
    "    print(leyenda)"
   ]
  },
  {
   "cell_type": "markdown",
   "metadata": {},
   "source": [
    "> <font color=blue>**Actividad.**</font>\n",
    "1. ¿Qué pasa si el interés no es del $0.8\\%$ mensual sino del $1\\%$ mensual?\n",
    "2. ¿Qué pasa si la meta no son $\\$11000$ MXN si no $\\$12000$ MXN?"
   ]
  },
  {
   "cell_type": "code",
   "execution_count": null,
   "metadata": {},
   "outputs": [],
   "source": [
    "# :D"
   ]
  },
  {
   "cell_type": "markdown",
   "metadata": {},
   "source": [
    "Como se esperaba, el capital en el $k-$ésimo periodo $C_k=C_0(1+ki)$ crece linealmente con $k$."
   ]
  },
  {
   "cell_type": "markdown",
   "metadata": {},
   "source": [
    "### Capitalización por interés compuesto\n",
    "El capital que genera el interés simple permanece constante todo el tiempo de duración de la inversión. En cambio, el que produce el interés compuesto en un periodo se <font color=red>convierte en capital en el siguiente periodo</font>. Esto es, el interés generado al final de un periodo <font color=blue>se reinvierte para el siguiente periodo para también producir interés</font>.\n",
    "\n",
    "Suponga que se tiene un capital inicial $C_0$, y se va a ceder el uso de este capital por un periodo de tiempo determinado a una tasa de interés $i$. El capital que se obtiene al final del primer periodo $C_1$ se puede calcular por\n",
    "\n",
    "$$C_1=C_0(1+i).$$ \n",
    "\n",
    "Si la anterior suma se vuelve a ceder a la misma tasa de interés, al final del periodo dos el capital $C_2$ es \n",
    "\n",
    "$$C_2=C_1(1+i)=C_0(1+i)^2.$$\n",
    "\n",
    "Si se repite el anterior proceso $k$ veces, el capital al final del $k-$ésimo periodo $C_k$ es \n",
    "\n",
    "$$C_k=C_{k-1}(1+i)=C_0(1+i)^k.$$\n",
    "\n",
    "**Referencia**:\n",
    "- https://es.wikipedia.org/wiki/Inter%C3%A9s_compuesto."
   ]
  },
  {
   "cell_type": "markdown",
   "metadata": {},
   "source": [
    "> **Ejemplo.** Suponga que se tiene un capital de $\\$10000$ MXN, el cual se pone en un fondo de inversión que paga una tasa de interés del $0.8\\%$ mensual. \n",
    "\n",
    "> Si se tiene una meta de ahorro de $\\$11000$ MXN sin inversiones adicionales, ¿cuántos meses se debería dejar invertido el dinero?"
   ]
  },
  {
   "cell_type": "code",
   "execution_count": 3,
   "metadata": {},
   "outputs": [
    {
     "data": {
      "text/plain": [
       "12"
      ]
     },
     "execution_count": 3,
     "metadata": {},
     "output_type": "execute_result"
    }
   ],
   "source": [
    "# Parámetros\n",
    "C0=10000 # Capital inicial\n",
    "Ck=11000 # Meta\n",
    "i=0.008  # Tasa de interés\n",
    "\n",
    "k=np.log(Ck/C0)/np.log(1+i) # Periodos en meses\n",
    "k=np.ceil(k).astype('int')\n",
    "k"
   ]
  },
  {
   "cell_type": "code",
   "execution_count": 20,
   "metadata": {},
   "outputs": [
    {
     "data": {
      "text/plain": [
       "11003.386937161464"
      ]
     },
     "execution_count": 20,
     "metadata": {},
     "output_type": "execute_result"
    }
   ],
   "source": [
    "Cf=C0*(1+i)**k # Capital final\n",
    "Cf"
   ]
  },
  {
   "cell_type": "markdown",
   "metadata": {},
   "source": [
    "> Una gráfica que nos permite ilustrar la situación anterior se puede realizar de la siguiente manera."
   ]
  },
  {
   "cell_type": "code",
   "execution_count": 5,
   "metadata": {},
   "outputs": [],
   "source": [
    "# Grafico interactivo\n",
    "@interact(Ck=(11000,20000,1000),i=(0.5,1,0.1),C0=(5000,10900,100))\n",
    "def C_compuesto(Ck=11000,i=0.8,C0=10000):\n",
    "    i /= 100 # i=i/100\n",
    "    k=np.ceil(np.log(Ck/C0)/np.log(1+i)).astype('int')\n",
    "    periodos=np.arange(k+1)\n",
    "    Cf=C0*(1+i)**periodos\n",
    "    plt.plot(periodos,Cf,'o',label='Capital en el periodo k')\n",
    "    plt.plot([0,k],[Ck,Ck],'--k',label='Meta')\n",
    "    plt.legend()\n",
    "    plt.grid()\n",
    "    leyenda='''Para una meta de {}MXN se necesitan {} meses con un capital inicial de {}MXN y una tasa de interés compuesta de {}%.\n",
    "    Obteniendo {}MXN.'''.format(Ck,k,C0,i*100,round(Cf[-1],2))\n",
    "    print(leyenda)"
   ]
  },
  {
   "cell_type": "markdown",
   "metadata": {},
   "source": [
    "El capital en el $k-$ésimo periodo $C_k=C_0(1+i)^k$ crece de manera exponencial con $k$."
   ]
  },
  {
   "cell_type": "markdown",
   "metadata": {},
   "source": [
    "> <font color=blue>**Actividad.**</font>\n",
    "> - Modificar el código anterior para dejar fija la meta de ahorro y variar la tasa de interés compuesta."
   ]
  },
  {
   "cell_type": "code",
   "execution_count": null,
   "metadata": {},
   "outputs": [],
   "source": []
  },
  {
   "cell_type": "markdown",
   "metadata": {},
   "source": [
    "### Capitalización continua de intereses\n",
    "La capitalización continua se considera un tipo de capitalización compuesta, en la que a cada instante de tiempo $t$ se capitalizan los intereses. Es decir, la frecuencia de capitalización es infinita (o, equivalentemente, el periodo de capitalización tiende a cero).\n",
    "\n",
    "Suponga que se tiene un capital inicial $C_0$, y que el capital acumulado en el tiempo $t$ es $C(t)$. Queremos saber cuanto será el capital pasado un periodo de tiempo $\\Delta t$, dado que la tasa de interés efectiva para este periodo de tiempo es $i$. De acuerdo a lo anterior tenemos\n",
    "\n",
    "$$C(t+\\Delta t)=C(t)(1+i)=C(t)(1+r\\Delta t),$$\n",
    "\n",
    "donde $r=\\frac{i}{\\Delta t}$ es la tasa de interés instantánea. Manipulando la anterior expresión, obtenemos\n",
    "\n",
    "$$\\frac{C(t+\\Delta t)-C(t)}{\\Delta t}=r\\; C(t).$$\n",
    "\n",
    "Haciendo $\\Delta t\\to 0$, obtenemos la siguiente ecuación diferencial \n",
    "\n",
    "$$\\frac{d C(t)}{dt}=r\\; C(t),$$\n",
    "\n",
    "sujeta a la condición inicial (monto o capital inicial) $C(0)=C_0$.\n",
    "\n",
    "La anterior, es una ecuación diferencial lineal de primer orden, para la cual se puede calcular la *solución analítica*."
   ]
  },
  {
   "cell_type": "code",
   "execution_count": 1,
   "metadata": {},
   "outputs": [],
   "source": [
    "import sympy as sym"
   ]
  },
  {
   "cell_type": "code",
   "execution_count": 7,
   "metadata": {},
   "outputs": [],
   "source": [
    "#sym.dsolve?"
   ]
  },
  {
   "cell_type": "code",
   "execution_count": 2,
   "metadata": {},
   "outputs": [
    {
     "data": {
      "text/latex": [
       "$\\displaystyle C{\\left(t \\right)}$"
      ],
      "text/plain": [
       "C(t)"
      ]
     },
     "execution_count": 2,
     "metadata": {},
     "output_type": "execute_result"
    }
   ],
   "source": [
    "# Definición del parámetro 'r', la variable 't' y la función 'C'\n",
    "sym.var('r',real=True)\n",
    "sym.var('t',real=True)\n",
    "C=sym.Function('C')\n",
    "C(t)"
   ]
  },
  {
   "cell_type": "code",
   "execution_count": 3,
   "metadata": {},
   "outputs": [
    {
     "data": {
      "text/latex": [
       "$\\displaystyle - r C{\\left(t \\right)} + \\frac{d}{d t} C{\\left(t \\right)}$"
      ],
      "text/plain": [
       "-r*C(t) + Derivative(C(t), t)"
      ]
     },
     "execution_count": 3,
     "metadata": {},
     "output_type": "execute_result"
    }
   ],
   "source": [
    "# Definición de la ecuación diferencial igualada a cero\n",
    "eq=C(t).diff(t)-r*C(t)\n",
    "eq"
   ]
  },
  {
   "cell_type": "code",
   "execution_count": 4,
   "metadata": {},
   "outputs": [
    {
     "data": {
      "text/latex": [
       "$\\displaystyle C{\\left(t \\right)} = C_{1} e^{r t}$"
      ],
      "text/plain": [
       "Eq(C(t), C1*exp(r*t))"
      ]
     },
     "execution_count": 4,
     "metadata": {},
     "output_type": "execute_result"
    }
   ],
   "source": [
    "# Solución de la ecuación diferencial\n",
    "sol=sym.dsolve(eq,C(t))\n",
    "sol"
   ]
  },
  {
   "cell_type": "code",
   "execution_count": 5,
   "metadata": {},
   "outputs": [
    {
     "data": {
      "text/latex": [
       "$\\displaystyle C{\\left(t \\right)}$"
      ],
      "text/plain": [
       "C(t)"
      ]
     },
     "execution_count": 5,
     "metadata": {},
     "output_type": "execute_result"
    }
   ],
   "source": [
    "sol.args[0] # Lado izquierdo de la ecuación 'sol'"
   ]
  },
  {
   "cell_type": "code",
   "execution_count": 6,
   "metadata": {},
   "outputs": [
    {
     "data": {
      "text/latex": [
       "$\\displaystyle C_{1} e^{r t}$"
      ],
      "text/plain": [
       "C1*exp(r*t)"
      ]
     },
     "execution_count": 6,
     "metadata": {},
     "output_type": "execute_result"
    }
   ],
   "source": [
    "f=sol.args[1] # Lado derecho de la ecuación 'sol'\n",
    "f"
   ]
  },
  {
   "cell_type": "code",
   "execution_count": 7,
   "metadata": {},
   "outputs": [
    {
     "data": {
      "text/latex": [
       "$\\displaystyle 10000 e^{r t}$"
      ],
      "text/plain": [
       "10000*exp(r*t)"
      ]
     },
     "execution_count": 7,
     "metadata": {},
     "output_type": "execute_result"
    }
   ],
   "source": [
    "f.subs('C1',10000) # Establecemos la condición inicial (Capital inicial)"
   ]
  },
  {
   "cell_type": "code",
   "execution_count": 8,
   "metadata": {},
   "outputs": [],
   "source": [
    "import numpy as np\n",
    "import matplotlib.pyplot as plt"
   ]
  },
  {
   "cell_type": "code",
   "execution_count": 9,
   "metadata": {},
   "outputs": [
    {
     "data": {
      "text/latex": [
       "$\\displaystyle 10000 e^{0.007968 t}$"
      ],
      "text/plain": [
       "10000*exp(0.007968*t)"
      ]
     },
     "execution_count": 9,
     "metadata": {},
     "output_type": "execute_result"
    }
   ],
   "source": [
    "i=0.008\n",
    "fs=f.subs({'C1':10000,r:np.round(np.log(1+i),6)})\n",
    "fs"
   ]
  },
  {
   "cell_type": "code",
   "execution_count": 12,
   "metadata": {},
   "outputs": [
    {
     "data": {
      "text/plain": [
       "11.961618951345992"
      ]
     },
     "execution_count": 12,
     "metadata": {},
     "output_type": "execute_result"
    }
   ],
   "source": [
    "Ck=11000\n",
    "tiempo,=sym.solve(fs.as_expr()-Ck,t)\n",
    "float(tiempo)"
   ]
  },
  {
   "cell_type": "markdown",
   "metadata": {},
   "source": [
    "$$C(t) = C_0e^{rt}$$\n",
    "\n",
    "La equivalencia entre la tasa de interés compuesta $i$ y la tasa de interés instantánea $r$ viene dada por\n",
    "\n",
    "$$e^r=1+i.$$"
   ]
  },
  {
   "cell_type": "markdown",
   "metadata": {},
   "source": [
    "___\n",
    "¿Cómo podemos calcular la *solución numérica*?"
   ]
  },
  {
   "cell_type": "markdown",
   "metadata": {},
   "source": [
    "> **Ejemplo.** Suponga que se tiene un capital de $\\$10000$ MXN, el cual se pone en un fondo de inversión que paga una tasa de interés del $0.8\\%$ mensual. \n",
    "\n",
    "> Si se tiene una meta de ahorro de $\\$11000$ MXN sin inversiones adicionales, ¿cuánto tiempo se debe dejar invertido el dinero?\n",
    "\n",
    "> Muestre una gráfica que ilustre la situación."
   ]
  },
  {
   "cell_type": "code",
   "execution_count": 1,
   "metadata": {},
   "outputs": [],
   "source": [
    "from ipywidgets import *\n",
    "import numpy as np\n",
    "import sympy as sym\n",
    "import matplotlib.pyplot as plt"
   ]
  },
  {
   "cell_type": "code",
   "execution_count": 5,
   "metadata": {},
   "outputs": [
    {
     "data": {
      "application/vnd.jupyter.widget-view+json": {
       "model_id": "200717fa0190430b8533e8f1d73d3664",
       "version_major": 2,
       "version_minor": 0
      },
      "text/plain": [
       "interactive(children=(IntSlider(value=11000, description='Ck', max=20000, min=11000, step=1000), FloatSlider(v…"
      ]
     },
     "metadata": {},
     "output_type": "display_data"
    }
   ],
   "source": [
    "# Gráfico interactivo\n",
    "@interact_manual(Ck=(11000,20000,1000),i=(0.5,1,0.1),C0=(5000,10900,100))\n",
    "def C_continuo(Ck=11000,i=0.8,C0=10000):\n",
    "    r=np.round(np.log(1+i/100),5)\n",
    "    sym.var('t')\n",
    "    C=sym.Function('C')\n",
    "    eq=C(t).diff(t)-r*C(t)\n",
    "    sol=sym.dsolve(eq,C(t))\n",
    "    f=(sol.args[1]).subs('C1',C0)\n",
    "    tiempo=sym.solve(f.as_expr()-Ck,t) # Esto tarda un montón\n",
    "    tiempo=float(tiempo[0])\n",
    "    \n",
    "    periodos=np.linspace(0,tiempo,1000)\n",
    "    #def eqdef(C,r): # Ecuación diferencial\n",
    "    #    return r*C\n",
    "    #Cf=odeint(eqdef,C0,periodos,args=())\n",
    "    fn=sym.lambdify(t,f,'numpy')\n",
    "    Cf=fn(periodos)\n",
    "    \n",
    "    leyenda='''\n",
    "    Para una meta de {}MXN se necesitan {} meses con un capital inicial de {}MXN y una tasa de interés compuesta de {}%.\n",
    "    Obteniendo {}MXN.\n",
    "    '''.format(Ck,tiempo,C0,i,round(Cf[-1],2))\n",
    "    print(leyenda)\n",
    "    \n",
    "    plt.plot(periodos,Cf,[0,tiempo],[Ck,Ck],'--k')\n",
    "    plt.grid()"
   ]
  },
  {
   "cell_type": "markdown",
   "metadata": {},
   "source": [
    "___\n",
    "## Tabla de abonos\n",
    "Como aplicación importante del concepto de interés compuesto se encuentra la creación de un modelo de cuenta de ahorro.\n",
    "\n",
    "Referencia:\n",
    "- Vidaurri Aguirre, Héctor Manuel. *Ingeniería económica básica*, ISBN: 978-607-519-017-4. (Disponible en biblioteca)\n",
    "- http://pbpython.com/amortization-model.html\n",
    "- https://pbpython.com/amortization-model-revised.html"
   ]
  },
  {
   "cell_type": "markdown",
   "metadata": {},
   "source": [
    "Ecuación de balance\n",
    "$$\n",
    "C_f=C_i(1+i)^k+\\frac{A(1+i)^{k}-1}{i}\n",
    "$$"
   ]
  },
  {
   "cell_type": "markdown",
   "metadata": {},
   "source": [
    "**Instalación de `numpy_financial`**\n",
    "```python\n",
    "!pip install numpy-financial\n",
    "```\n",
    "o\n",
    "```python\n",
    "!conda install numpy-financial\n",
    "```"
   ]
  },
  {
   "cell_type": "code",
   "execution_count": 8,
   "metadata": {},
   "outputs": [
    {
     "name": "stdout",
     "output_type": "stream",
     "text": [
      "Collecting numpy-financial\n",
      "  Downloading numpy_financial-1.0.0-py3-none-any.whl (14 kB)\n",
      "Requirement already satisfied: numpy>=1.15 in c:\\programdata\\anaconda3\\lib\\site-packages (from numpy-financial) (1.21.5)\n",
      "Installing collected packages: numpy-financial\n",
      "Successfully installed numpy-financial-1.0.0\n"
     ]
    }
   ],
   "source": [
    "!pip install numpy-financial"
   ]
  },
  {
   "cell_type": "code",
   "execution_count": 9,
   "metadata": {},
   "outputs": [],
   "source": [
    "import numpy_financial as npf"
   ]
  },
  {
   "cell_type": "code",
   "execution_count": 21,
   "metadata": {},
   "outputs": [],
   "source": [
    "npf.pmt?"
   ]
  },
  {
   "cell_type": "code",
   "execution_count": 11,
   "metadata": {},
   "outputs": [],
   "source": [
    "# Definimos parámetros\n",
    "Cf=590000  # Meta\n",
    "C0=120000  # Capital inicial\n",
    "i=0.12/12  # Tasa de interés mensual\n",
    "k=12*4     # Tiempo para alcanzar la meta"
   ]
  },
  {
   "cell_type": "code",
   "execution_count": 13,
   "metadata": {},
   "outputs": [
    {
     "data": {
      "text/plain": [
       "6477.0"
      ]
     },
     "execution_count": 13,
     "metadata": {},
     "output_type": "execute_result"
    }
   ],
   "source": [
    "A=npf.pmt(i,k,C0,-Cf) # Abono mensual\n",
    "A=np.ceil(A)\n",
    "A"
   ]
  },
  {
   "cell_type": "code",
   "execution_count": 25,
   "metadata": {},
   "outputs": [
    {
     "data": {
      "text/plain": [
       "590005.9598368284"
      ]
     },
     "execution_count": 25,
     "metadata": {},
     "output_type": "execute_result"
    }
   ],
   "source": [
    "C0*(1+i)**k+A*((1+i)**k-1)/i"
   ]
  },
  {
   "cell_type": "code",
   "execution_count": 27,
   "metadata": {},
   "outputs": [
    {
     "name": "stdout",
     "output_type": "stream",
     "text": [
      "590005.9598368284\n"
     ]
    },
    {
     "data": {
      "image/png": "[encoded data removed]",
      "text/plain": [
       "<Figure size 640x480 with 1 Axes>"
      ]
     },
     "metadata": {},
     "output_type": "display_data"
    }
   ],
   "source": [
    "periodos=np.linspace(1,k,k) # Arreglo desde el mes 1 hasta el mes 48\n",
    "Ck=C0*(1+i)**periodos+A*((1+i)**periodos-1)/i\n",
    "\n",
    "plt.plot(periodos,Ck,'*',[1,k],[Cf,Cf],'--k')\n",
    "plt.grid()\n",
    "print(Ck[-1])"
   ]
  },
  {
   "cell_type": "code",
   "execution_count": null,
   "metadata": {},
   "outputs": [],
   "source": []
  }
 ],
 "metadata": {
  "kernelspec": {
   "display_name": "Python 3 (ipykernel)",
   "language": "python",
   "name": "python3"
  },
  "language_info": {
   "codemirror_mode": {
    "name": "ipython",
    "version": 3
   },
   "file_extension": ".py",
   "mimetype": "text/x-python",
   "name": "python",
   "nbconvert_exporter": "python",
   "pygments_lexer": "ipython3",
   "version": "3.9.12"
  }
 },
 "nbformat": 4,
 "nbformat_minor": 2
}
