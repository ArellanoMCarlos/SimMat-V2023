{
 "cells": [
  {
   "cell_type": "markdown",
   "metadata": {},
   "source": [
    "# Aplicando Python para análisis de precios"
   ]
  },
  {
   "cell_type": "markdown",
   "metadata": {},
   "source": [
    "<img style=\"float: right; margin: 0px 0px 15px 15px;\" src=\"https://upload.wikimedia.org/wikipedia/commons/0/0a/Python.svg\" width=\"300px\" height=\"100px\" />\n",
    "\n",
    "> Veremos un caso de aplicación de simulación montecarlo en la toma de decisiones. Para lograr este objetivo, primero veremos como manipular datos con *pandas*, tanto desde un archivo local de excel como remotamente desde Yahoo Finance.\n",
    "\n",
    "> Python Data Analysis Library: pandas es una librería de código abierto, fácil de usar y que provee alto rendimiento en structuras de datos y herramientas de análisis de datos para el lenguaje de programación Python.\n",
    "\n",
    "**Referencias:**\n",
    "- http://pandas.pydata.org/\n",
    "- http://www.learndatasci.com/python-finance-part-yahoo-finance-api-pandas-matplotlib/\n",
    "- https://www.datacamp.com/community/tutorials/python-excel-tutorial"
   ]
  },
  {
   "cell_type": "markdown",
   "metadata": {},
   "source": [
    "## 0. Motivación\n",
    "\n",
    "<img style=\"float: right; margin: 0px 0px 15px 15px;\" src=\"https://upload.wikimedia.org/wikipedia/commons/d/d7/Philippine-stock-market-board.jpg\" width=\"400px\" height=\"125px\" />\n",
    "\n",
    "Hace una década, los instrumentos financieros estaban en la cúspide de la popularidad. Las instituciones financieras de todo el mundo estaban negociando miles de millones de dólares de estos instrumentos a diario, y los analistas cuantitativos estaban modelándolos utilizando el cálculo estocástico y el poderoso `C++`.\n",
    "\n",
    "Sin embargo, el avance en los últimos años ha sido impresionante y las cosas han cambiado. Por una parte, la [crisis financiera del 2008](https://es.wikipedia.org/wiki/Crisis_financiera_de_2008) fue producida por los instrumentos financieros llamados *derivados*. Por otra parte, los volúmenes transaccionales han bajado y la demanda de modelado con `C++` se ha marchitado con ellos. Además, un nuevo jugador entró en la competencia... `¡Python!`\n",
    "\n",
    "`Python` ha estado ganando muchos seguidores en la industria financiera en los últimos años y con razón. No en vano, junto a `R` son los lenguajes de programación más utilizados en cuanto a análisis financiero."
   ]
  },
  {
   "cell_type": "markdown",
   "metadata": {},
   "source": [
    "# 1. Descarga, manejo y análisis de datos\n",
    "Para esto utilizaremos el paquete *yfinance*.\n",
    "\n",
    "**Nota**: Usualmente, las distribuciones de Python no cuentan, por defecto, con el paquete *yfinance*. Por lo que será necesario instalarlo aparte:\n",
    "\n",
    "- buscar en inicio \"Anaconda prompt\" y ejecutarlo como administrador;\n",
    "- el siguiente comando instala el paquete en Anaconda: `conda install yfinance`;\n",
    "- alternativa: `conda install -c conda-forge yfinance`\n",
    "\n",
    "otra forma, desde el notebook\n",
    "- `!pip install yfinance -y`\n",
    "\n",
    "- una vez finalice la instalación correr el comando: `conda list`, y buscar que sí se haya instalado yfinance\n"
   ]
  },
  {
   "cell_type": "code",
   "execution_count": 5,
   "metadata": {},
   "outputs": [],
   "source": [
    "#!conda list"
   ]
  },
  {
   "cell_type": "code",
   "execution_count": 6,
   "metadata": {},
   "outputs": [],
   "source": [
    "#%pip install yfinance"
   ]
  },
  {
   "cell_type": "markdown",
   "metadata": {},
   "source": [
    "```python\n",
    "import sys\n",
    "\n",
    "sys.path.append('C:...')\n",
    "```"
   ]
  },
  {
   "cell_type": "code",
   "execution_count": 7,
   "metadata": {},
   "outputs": [],
   "source": [
    "import yfinance as yf\n",
    "import pandas as pd"
   ]
  },
  {
   "cell_type": "markdown",
   "metadata": {},
   "source": [
    "Primero importaremos datos desde un archivo con extensión `.csv`"
   ]
  },
  {
   "cell_type": "code",
   "execution_count": 8,
   "metadata": {},
   "outputs": [
    {
     "data": {
      "text/html": [
       "<div>\n",
       "<style scoped>\n",
       "    .dataframe tbody tr th:only-of-type {\n",
       "        vertical-align: middle;\n",
       "    }\n",
       "\n",
       "    .dataframe tbody tr th {\n",
       "        vertical-align: top;\n",
       "    }\n",
       "\n",
       "    .dataframe thead th {\n",
       "        text-align: right;\n",
       "    }\n",
       "</style>\n",
       "<table border=\"1\" class=\"dataframe\">\n",
       "  <thead>\n",
       "    <tr style=\"text-align: right;\">\n",
       "      <th></th>\n",
       "      <th>Date</th>\n",
       "      <th>Open</th>\n",
       "      <th>High</th>\n",
       "      <th>Low</th>\n",
       "      <th>Close</th>\n",
       "      <th>Adj Close</th>\n",
       "      <th>Volume</th>\n",
       "    </tr>\n",
       "  </thead>\n",
       "  <tbody>\n",
       "    <tr>\n",
       "      <th>0</th>\n",
       "      <td>2017-06-01</td>\n",
       "      <td>151.750000</td>\n",
       "      <td>152.289993</td>\n",
       "      <td>150.300003</td>\n",
       "      <td>151.529999</td>\n",
       "      <td>151.529999</td>\n",
       "      <td>14530600</td>\n",
       "    </tr>\n",
       "    <tr>\n",
       "      <th>1</th>\n",
       "      <td>2017-06-02</td>\n",
       "      <td>151.850006</td>\n",
       "      <td>153.630005</td>\n",
       "      <td>151.300003</td>\n",
       "      <td>153.610001</td>\n",
       "      <td>153.610001</td>\n",
       "      <td>16854400</td>\n",
       "    </tr>\n",
       "    <tr>\n",
       "      <th>2</th>\n",
       "      <td>2017-06-05</td>\n",
       "      <td>153.639999</td>\n",
       "      <td>154.710007</td>\n",
       "      <td>153.410004</td>\n",
       "      <td>153.630005</td>\n",
       "      <td>153.630005</td>\n",
       "      <td>12520400</td>\n",
       "    </tr>\n",
       "    <tr>\n",
       "      <th>3</th>\n",
       "      <td>2017-06-06</td>\n",
       "      <td>153.410004</td>\n",
       "      <td>154.520004</td>\n",
       "      <td>152.479996</td>\n",
       "      <td>152.809998</td>\n",
       "      <td>152.809998</td>\n",
       "      <td>13457100</td>\n",
       "    </tr>\n",
       "    <tr>\n",
       "      <th>4</th>\n",
       "      <td>2017-06-07</td>\n",
       "      <td>153.270004</td>\n",
       "      <td>153.750000</td>\n",
       "      <td>152.339996</td>\n",
       "      <td>153.119995</td>\n",
       "      <td>153.119995</td>\n",
       "      <td>12066700</td>\n",
       "    </tr>\n",
       "  </tbody>\n",
       "</table>\n",
       "</div>"
      ],
      "text/plain": [
       "         Date        Open        High         Low       Close   Adj Close  \\\n",
       "0  2017-06-01  151.750000  152.289993  150.300003  151.529999  151.529999   \n",
       "1  2017-06-02  151.850006  153.630005  151.300003  153.610001  153.610001   \n",
       "2  2017-06-05  153.639999  154.710007  153.410004  153.630005  153.630005   \n",
       "3  2017-06-06  153.410004  154.520004  152.479996  152.809998  152.809998   \n",
       "4  2017-06-07  153.270004  153.750000  152.339996  153.119995  153.119995   \n",
       "\n",
       "     Volume  \n",
       "0  14530600  \n",
       "1  16854400  \n",
       "2  12520400  \n",
       "3  13457100  \n",
       "4  12066700  "
      ]
     },
     "execution_count": 8,
     "metadata": {},
     "output_type": "execute_result"
    }
   ],
   "source": [
    "datos=pd.read_csv('META.csv')\n",
    "datos.head() # Muestra las primeras 5 filas"
   ]
  },
  {
   "cell_type": "code",
   "execution_count": 9,
   "metadata": {},
   "outputs": [
    {
     "data": {
      "text/html": [
       "<div>\n",
       "<style scoped>\n",
       "    .dataframe tbody tr th:only-of-type {\n",
       "        vertical-align: middle;\n",
       "    }\n",
       "\n",
       "    .dataframe tbody tr th {\n",
       "        vertical-align: top;\n",
       "    }\n",
       "\n",
       "    .dataframe thead th {\n",
       "        text-align: right;\n",
       "    }\n",
       "</style>\n",
       "<table border=\"1\" class=\"dataframe\">\n",
       "  <thead>\n",
       "    <tr style=\"text-align: right;\">\n",
       "      <th></th>\n",
       "      <th>Date</th>\n",
       "      <th>Open</th>\n",
       "      <th>High</th>\n",
       "      <th>Low</th>\n",
       "      <th>Close</th>\n",
       "      <th>Adj Close</th>\n",
       "      <th>Volume</th>\n",
       "    </tr>\n",
       "  </thead>\n",
       "  <tbody>\n",
       "    <tr>\n",
       "      <th>1261</th>\n",
       "      <td>2022-06-03</td>\n",
       "      <td>195.979996</td>\n",
       "      <td>196.610001</td>\n",
       "      <td>189.779999</td>\n",
       "      <td>190.779999</td>\n",
       "      <td>190.779999</td>\n",
       "      <td>19447300</td>\n",
       "    </tr>\n",
       "    <tr>\n",
       "      <th>1262</th>\n",
       "      <td>2022-06-06</td>\n",
       "      <td>193.990005</td>\n",
       "      <td>196.919998</td>\n",
       "      <td>188.399994</td>\n",
       "      <td>194.250000</td>\n",
       "      <td>194.250000</td>\n",
       "      <td>30574200</td>\n",
       "    </tr>\n",
       "    <tr>\n",
       "      <th>1263</th>\n",
       "      <td>2022-06-07</td>\n",
       "      <td>191.929993</td>\n",
       "      <td>196.529999</td>\n",
       "      <td>191.490005</td>\n",
       "      <td>195.649994</td>\n",
       "      <td>195.649994</td>\n",
       "      <td>18828700</td>\n",
       "    </tr>\n",
       "    <tr>\n",
       "      <th>1264</th>\n",
       "      <td>2022-06-08</td>\n",
       "      <td>194.669998</td>\n",
       "      <td>202.029999</td>\n",
       "      <td>194.410004</td>\n",
       "      <td>196.639999</td>\n",
       "      <td>196.639999</td>\n",
       "      <td>22267200</td>\n",
       "    </tr>\n",
       "    <tr>\n",
       "      <th>1265</th>\n",
       "      <td>2022-06-09</td>\n",
       "      <td>194.279999</td>\n",
       "      <td>199.449997</td>\n",
       "      <td>183.679993</td>\n",
       "      <td>184.000000</td>\n",
       "      <td>184.000000</td>\n",
       "      <td>23501600</td>\n",
       "    </tr>\n",
       "    <tr>\n",
       "      <th>1266</th>\n",
       "      <td>2022-06-10</td>\n",
       "      <td>183.039993</td>\n",
       "      <td>183.100006</td>\n",
       "      <td>175.020004</td>\n",
       "      <td>175.570007</td>\n",
       "      <td>175.570007</td>\n",
       "      <td>27450800</td>\n",
       "    </tr>\n",
       "    <tr>\n",
       "      <th>1267</th>\n",
       "      <td>2022-06-13</td>\n",
       "      <td>170.589996</td>\n",
       "      <td>172.580002</td>\n",
       "      <td>164.029999</td>\n",
       "      <td>164.259995</td>\n",
       "      <td>164.259995</td>\n",
       "      <td>31749300</td>\n",
       "    </tr>\n",
       "    <tr>\n",
       "      <th>1268</th>\n",
       "      <td>2022-06-14</td>\n",
       "      <td>166.029999</td>\n",
       "      <td>166.750000</td>\n",
       "      <td>161.360001</td>\n",
       "      <td>163.729996</td>\n",
       "      <td>163.729996</td>\n",
       "      <td>27244300</td>\n",
       "    </tr>\n",
       "    <tr>\n",
       "      <th>1269</th>\n",
       "      <td>2022-06-15</td>\n",
       "      <td>167.199997</td>\n",
       "      <td>172.160004</td>\n",
       "      <td>163.979996</td>\n",
       "      <td>169.350006</td>\n",
       "      <td>169.350006</td>\n",
       "      <td>30008300</td>\n",
       "    </tr>\n",
       "    <tr>\n",
       "      <th>1270</th>\n",
       "      <td>2022-06-16</td>\n",
       "      <td>163.720001</td>\n",
       "      <td>165.080002</td>\n",
       "      <td>159.610001</td>\n",
       "      <td>160.869995</td>\n",
       "      <td>160.869995</td>\n",
       "      <td>26944100</td>\n",
       "    </tr>\n",
       "  </tbody>\n",
       "</table>\n",
       "</div>"
      ],
      "text/plain": [
       "            Date        Open        High         Low       Close   Adj Close  \\\n",
       "1261  2022-06-03  195.979996  196.610001  189.779999  190.779999  190.779999   \n",
       "1262  2022-06-06  193.990005  196.919998  188.399994  194.250000  194.250000   \n",
       "1263  2022-06-07  191.929993  196.529999  191.490005  195.649994  195.649994   \n",
       "1264  2022-06-08  194.669998  202.029999  194.410004  196.639999  196.639999   \n",
       "1265  2022-06-09  194.279999  199.449997  183.679993  184.000000  184.000000   \n",
       "1266  2022-06-10  183.039993  183.100006  175.020004  175.570007  175.570007   \n",
       "1267  2022-06-13  170.589996  172.580002  164.029999  164.259995  164.259995   \n",
       "1268  2022-06-14  166.029999  166.750000  161.360001  163.729996  163.729996   \n",
       "1269  2022-06-15  167.199997  172.160004  163.979996  169.350006  169.350006   \n",
       "1270  2022-06-16  163.720001  165.080002  159.610001  160.869995  160.869995   \n",
       "\n",
       "        Volume  \n",
       "1261  19447300  \n",
       "1262  30574200  \n",
       "1263  18828700  \n",
       "1264  22267200  \n",
       "1265  23501600  \n",
       "1266  27450800  \n",
       "1267  31749300  \n",
       "1268  27244300  \n",
       "1269  30008300  \n",
       "1270  26944100  "
      ]
     },
     "execution_count": 9,
     "metadata": {},
     "output_type": "execute_result"
    }
   ],
   "source": [
    "datos.tail(10) # Muestra las últimas 10 filas"
   ]
  },
  {
   "cell_type": "code",
   "execution_count": 10,
   "metadata": {},
   "outputs": [
    {
     "data": {
      "text/html": [
       "<div>\n",
       "<style scoped>\n",
       "    .dataframe tbody tr th:only-of-type {\n",
       "        vertical-align: middle;\n",
       "    }\n",
       "\n",
       "    .dataframe tbody tr th {\n",
       "        vertical-align: top;\n",
       "    }\n",
       "\n",
       "    .dataframe thead th {\n",
       "        text-align: right;\n",
       "    }\n",
       "</style>\n",
       "<table border=\"1\" class=\"dataframe\">\n",
       "  <thead>\n",
       "    <tr style=\"text-align: right;\">\n",
       "      <th></th>\n",
       "      <th>Open</th>\n",
       "      <th>High</th>\n",
       "      <th>Low</th>\n",
       "      <th>Close</th>\n",
       "      <th>Adj Close</th>\n",
       "      <th>Volume</th>\n",
       "    </tr>\n",
       "    <tr>\n",
       "      <th>Date</th>\n",
       "      <th></th>\n",
       "      <th></th>\n",
       "      <th></th>\n",
       "      <th></th>\n",
       "      <th></th>\n",
       "      <th></th>\n",
       "    </tr>\n",
       "  </thead>\n",
       "  <tbody>\n",
       "    <tr>\n",
       "      <th>2017-06-01</th>\n",
       "      <td>151.750000</td>\n",
       "      <td>152.289993</td>\n",
       "      <td>150.300003</td>\n",
       "      <td>151.529999</td>\n",
       "      <td>151.529999</td>\n",
       "      <td>14530600</td>\n",
       "    </tr>\n",
       "    <tr>\n",
       "      <th>2017-06-02</th>\n",
       "      <td>151.850006</td>\n",
       "      <td>153.630005</td>\n",
       "      <td>151.300003</td>\n",
       "      <td>153.610001</td>\n",
       "      <td>153.610001</td>\n",
       "      <td>16854400</td>\n",
       "    </tr>\n",
       "  </tbody>\n",
       "</table>\n",
       "</div>"
      ],
      "text/plain": [
       "                  Open        High         Low       Close   Adj Close  \\\n",
       "Date                                                                     \n",
       "2017-06-01  151.750000  152.289993  150.300003  151.529999  151.529999   \n",
       "2017-06-02  151.850006  153.630005  151.300003  153.610001  153.610001   \n",
       "\n",
       "              Volume  \n",
       "Date                  \n",
       "2017-06-01  14530600  \n",
       "2017-06-02  16854400  "
      ]
     },
     "execution_count": 10,
     "metadata": {},
     "output_type": "execute_result"
    }
   ],
   "source": [
    "# Leemos de nuevo para nombrar 'Date' como index\n",
    "datos=pd.read_csv('META.csv',index_col='Date')\n",
    "datos.head(2)"
   ]
  },
  {
   "cell_type": "code",
   "execution_count": 11,
   "metadata": {},
   "outputs": [
    {
     "data": {
      "text/plain": [
       "153.610001"
      ]
     },
     "execution_count": 11,
     "metadata": {},
     "output_type": "execute_result"
    }
   ],
   "source": [
    "# Para conocer el precio en una fecha específica\n",
    "datos.loc['2017-06-02','Adj Close']              # ['fila','columna']"
   ]
  },
  {
   "cell_type": "code",
   "execution_count": 12,
   "metadata": {},
   "outputs": [
    {
     "data": {
      "text/plain": [
       "Open         1.518500e+02\n",
       "High         1.536300e+02\n",
       "Low          1.513000e+02\n",
       "Close        1.536100e+02\n",
       "Adj Close    1.536100e+02\n",
       "Volume       1.685440e+07\n",
       "Name: 2017-06-02, dtype: float64"
      ]
     },
     "execution_count": 12,
     "metadata": {},
     "output_type": "execute_result"
    }
   ],
   "source": [
    "# Ahora todos los precios\n",
    "datos.loc['2017-06-02']"
   ]
  },
  {
   "cell_type": "code",
   "execution_count": 13,
   "metadata": {},
   "outputs": [
    {
     "data": {
      "text/plain": [
       "Open         1.536400e+02\n",
       "High         1.547100e+02\n",
       "Low          1.534100e+02\n",
       "Close        1.536300e+02\n",
       "Adj Close    1.536300e+02\n",
       "Volume       1.252040e+07\n",
       "Name: 2017-06-05, dtype: float64"
      ]
     },
     "execution_count": 13,
     "metadata": {},
     "output_type": "execute_result"
    }
   ],
   "source": [
    "# Buscamos el tercer valor\n",
    "# datos.loc['2017-06-03'] # No existe la fecha\n",
    "\n",
    "datos.iloc[2] # La tercer fecha es la posición 2  ( 0,1,2 )"
   ]
  },
  {
   "cell_type": "code",
   "execution_count": 14,
   "metadata": {},
   "outputs": [
    {
     "data": {
      "text/plain": [
       "<Axes: xlabel='Date'>"
      ]
     },
     "execution_count": 14,
     "metadata": {},
     "output_type": "execute_result"
    },
    {
     "data": {
      "image/png": "[encoded data removed]",
      "text/plain": [
       "<Figure size 1000x500 with 1 Axes>"
      ]
     },
     "metadata": {},
     "output_type": "display_data"
    }
   ],
   "source": [
    "datos.iloc[:,:-1].plot(grid=True,figsize=(10,5))"
   ]
  },
  {
   "cell_type": "code",
   "execution_count": 15,
   "metadata": {},
   "outputs": [
    {
     "data": {
      "text/plain": [
       "<Axes: xlabel='Date'>"
      ]
     },
     "execution_count": 15,
     "metadata": {},
     "output_type": "execute_result"
    },
    {
     "data": {
      "image/png": "[encoded data removed]",
      "text/plain": [
       "<Figure size 1000x500 with 1 Axes>"
      ]
     },
     "metadata": {},
     "output_type": "display_data"
    }
   ],
   "source": [
    "datos['Adj Close'].plot(grid=True,figsize=(10,5))"
   ]
  },
  {
   "cell_type": "code",
   "execution_count": 16,
   "metadata": {},
   "outputs": [
    {
     "data": {
      "text/html": [
       "<div>\n",
       "<style scoped>\n",
       "    .dataframe tbody tr th:only-of-type {\n",
       "        vertical-align: middle;\n",
       "    }\n",
       "\n",
       "    .dataframe tbody tr th {\n",
       "        vertical-align: top;\n",
       "    }\n",
       "\n",
       "    .dataframe thead th {\n",
       "        text-align: right;\n",
       "    }\n",
       "</style>\n",
       "<table border=\"1\" class=\"dataframe\">\n",
       "  <thead>\n",
       "    <tr style=\"text-align: right;\">\n",
       "      <th></th>\n",
       "      <th>Open</th>\n",
       "      <th>High</th>\n",
       "      <th>Low</th>\n",
       "      <th>Close</th>\n",
       "      <th>Adj Close</th>\n",
       "      <th>Volume</th>\n",
       "    </tr>\n",
       "  </thead>\n",
       "  <tbody>\n",
       "    <tr>\n",
       "      <th>count</th>\n",
       "      <td>1271.000000</td>\n",
       "      <td>1271.000000</td>\n",
       "      <td>1271.000000</td>\n",
       "      <td>1271.000000</td>\n",
       "      <td>1271.000000</td>\n",
       "      <td>1.271000e+03</td>\n",
       "    </tr>\n",
       "    <tr>\n",
       "      <th>mean</th>\n",
       "      <td>220.325271</td>\n",
       "      <td>223.155838</td>\n",
       "      <td>217.499205</td>\n",
       "      <td>220.366680</td>\n",
       "      <td>220.366680</td>\n",
       "      <td>2.191758e+07</td>\n",
       "    </tr>\n",
       "    <tr>\n",
       "      <th>std</th>\n",
       "      <td>63.422716</td>\n",
       "      <td>64.165274</td>\n",
       "      <td>62.723751</td>\n",
       "      <td>63.438394</td>\n",
       "      <td>63.438394</td>\n",
       "      <td>1.429516e+07</td>\n",
       "    </tr>\n",
       "    <tr>\n",
       "      <th>min</th>\n",
       "      <td>123.099998</td>\n",
       "      <td>129.740005</td>\n",
       "      <td>123.019997</td>\n",
       "      <td>124.059998</td>\n",
       "      <td>124.059998</td>\n",
       "      <td>6.046300e+06</td>\n",
       "    </tr>\n",
       "    <tr>\n",
       "      <th>25%</th>\n",
       "      <td>174.459999</td>\n",
       "      <td>176.000000</td>\n",
       "      <td>172.049996</td>\n",
       "      <td>174.090004</td>\n",
       "      <td>174.090004</td>\n",
       "      <td>1.374605e+07</td>\n",
       "    </tr>\n",
       "    <tr>\n",
       "      <th>50%</th>\n",
       "      <td>194.380005</td>\n",
       "      <td>197.070007</td>\n",
       "      <td>191.570007</td>\n",
       "      <td>194.110001</td>\n",
       "      <td>194.110001</td>\n",
       "      <td>1.815240e+07</td>\n",
       "    </tr>\n",
       "    <tr>\n",
       "      <th>75%</th>\n",
       "      <td>267.150010</td>\n",
       "      <td>270.159988</td>\n",
       "      <td>263.515000</td>\n",
       "      <td>266.619995</td>\n",
       "      <td>266.619995</td>\n",
       "      <td>2.504500e+07</td>\n",
       "    </tr>\n",
       "    <tr>\n",
       "      <th>max</th>\n",
       "      <td>381.679993</td>\n",
       "      <td>384.329987</td>\n",
       "      <td>378.809998</td>\n",
       "      <td>382.179993</td>\n",
       "      <td>382.179993</td>\n",
       "      <td>1.881199e+08</td>\n",
       "    </tr>\n",
       "  </tbody>\n",
       "</table>\n",
       "</div>"
      ],
      "text/plain": [
       "              Open         High          Low        Close    Adj Close  \\\n",
       "count  1271.000000  1271.000000  1271.000000  1271.000000  1271.000000   \n",
       "mean    220.325271   223.155838   217.499205   220.366680   220.366680   \n",
       "std      63.422716    64.165274    62.723751    63.438394    63.438394   \n",
       "min     123.099998   129.740005   123.019997   124.059998   124.059998   \n",
       "25%     174.459999   176.000000   172.049996   174.090004   174.090004   \n",
       "50%     194.380005   197.070007   191.570007   194.110001   194.110001   \n",
       "75%     267.150010   270.159988   263.515000   266.619995   266.619995   \n",
       "max     381.679993   384.329987   378.809998   382.179993   382.179993   \n",
       "\n",
       "             Volume  \n",
       "count  1.271000e+03  \n",
       "mean   2.191758e+07  \n",
       "std    1.429516e+07  \n",
       "min    6.046300e+06  \n",
       "25%    1.374605e+07  \n",
       "50%    1.815240e+07  \n",
       "75%    2.504500e+07  \n",
       "max    1.881199e+08  "
      ]
     },
     "execution_count": 16,
     "metadata": {},
     "output_type": "execute_result"
    }
   ],
   "source": [
    "# Resumen estadístico\n",
    "datos.describe()"
   ]
  },
  {
   "cell_type": "code",
   "execution_count": 17,
   "metadata": {},
   "outputs": [
    {
     "data": {
      "text/plain": [
       "220.36667979150275"
      ]
     },
     "execution_count": 17,
     "metadata": {},
     "output_type": "execute_result"
    }
   ],
   "source": [
    "# Media de 'Adj Close'\n",
    "datos['Adj Close'].mean()"
   ]
  },
  {
   "cell_type": "code",
   "execution_count": 18,
   "metadata": {},
   "outputs": [
    {
     "data": {
      "text/plain": [
       "Open         6.342272e+01\n",
       "High         6.416527e+01\n",
       "Low          6.272375e+01\n",
       "Close        6.343839e+01\n",
       "Adj Close    6.343839e+01\n",
       "Volume       1.429516e+07\n",
       "dtype: float64"
      ]
     },
     "execution_count": 18,
     "metadata": {},
     "output_type": "execute_result"
    }
   ],
   "source": [
    "# Desviación estandar de todos los precios\n",
    "datos.std()"
   ]
  },
  {
   "cell_type": "markdown",
   "metadata": {},
   "source": [
    "Ahora lo haremos desde Yahoo Finance"
   ]
  },
  {
   "cell_type": "code",
   "execution_count": 19,
   "metadata": {},
   "outputs": [],
   "source": [
    "#yf.download?"
   ]
  },
  {
   "cell_type": "code",
   "execution_count": 20,
   "metadata": {},
   "outputs": [
    {
     "name": "stdout",
     "output_type": "stream",
     "text": [
      "[*********************100%***********************]  3 of 3 completed\n"
     ]
    },
    {
     "data": {
      "text/html": [
       "<div>\n",
       "<style scoped>\n",
       "    .dataframe tbody tr th:only-of-type {\n",
       "        vertical-align: middle;\n",
       "    }\n",
       "\n",
       "    .dataframe tbody tr th {\n",
       "        vertical-align: top;\n",
       "    }\n",
       "\n",
       "    .dataframe thead th {\n",
       "        text-align: right;\n",
       "    }\n",
       "</style>\n",
       "<table border=\"1\" class=\"dataframe\">\n",
       "  <thead>\n",
       "    <tr style=\"text-align: right;\">\n",
       "      <th></th>\n",
       "      <th>META</th>\n",
       "      <th>TSLA</th>\n",
       "      <th>^GSPC</th>\n",
       "    </tr>\n",
       "    <tr>\n",
       "      <th>Date</th>\n",
       "      <th></th>\n",
       "      <th></th>\n",
       "      <th></th>\n",
       "    </tr>\n",
       "  </thead>\n",
       "  <tbody>\n",
       "    <tr>\n",
       "      <th>2017-06-01</th>\n",
       "      <td>151.529999</td>\n",
       "      <td>22.691334</td>\n",
       "      <td>2430.060059</td>\n",
       "    </tr>\n",
       "    <tr>\n",
       "      <th>2017-06-02</th>\n",
       "      <td>153.610001</td>\n",
       "      <td>22.656668</td>\n",
       "      <td>2439.070068</td>\n",
       "    </tr>\n",
       "    <tr>\n",
       "      <th>2017-06-05</th>\n",
       "      <td>153.630005</td>\n",
       "      <td>23.154667</td>\n",
       "      <td>2436.100098</td>\n",
       "    </tr>\n",
       "    <tr>\n",
       "      <th>2017-06-06</th>\n",
       "      <td>152.809998</td>\n",
       "      <td>23.523333</td>\n",
       "      <td>2429.330078</td>\n",
       "    </tr>\n",
       "    <tr>\n",
       "      <th>2017-06-07</th>\n",
       "      <td>153.119995</td>\n",
       "      <td>23.976667</td>\n",
       "      <td>2433.139893</td>\n",
       "    </tr>\n",
       "  </tbody>\n",
       "</table>\n",
       "</div>"
      ],
      "text/plain": [
       "                  META       TSLA        ^GSPC\n",
       "Date                                          \n",
       "2017-06-01  151.529999  22.691334  2430.060059\n",
       "2017-06-02  153.610001  22.656668  2439.070068\n",
       "2017-06-05  153.630005  23.154667  2436.100098\n",
       "2017-06-06  152.809998  23.523333  2429.330078\n",
       "2017-06-07  153.119995  23.976667  2433.139893"
      ]
     },
     "execution_count": 20,
     "metadata": {},
     "output_type": "execute_result"
    }
   ],
   "source": [
    "names=['META','^GSPC','TSLA'] # Meta, S&P, Tesla\n",
    "start='2017-06-01'\n",
    "end='2023-06-20'\n",
    "\n",
    "datos=yf.download(names,start,end)['Adj Close']\n",
    "datos.head()"
   ]
  },
  {
   "cell_type": "markdown",
   "metadata": {},
   "source": [
    "¿Cómo lucen estos datos?"
   ]
  },
  {
   "cell_type": "code",
   "execution_count": 21,
   "metadata": {},
   "outputs": [
    {
     "data": {
      "text/plain": [
       "<Axes: xlabel='Date'>"
      ]
     },
     "execution_count": 21,
     "metadata": {},
     "output_type": "execute_result"
    },
    {
     "data": {
      "image/png": "[encoded data removed]",
      "text/plain": [
       "<Figure size 640x480 with 1 Axes>"
      ]
     },
     "metadata": {},
     "output_type": "display_data"
    }
   ],
   "source": [
    "datos.plot(grid=True)"
   ]
  },
  {
   "cell_type": "markdown",
   "metadata": {},
   "source": [
    "Una vez tenemos los datos, podemos operar con ellos. Por ejemplo un resumen de datos estadísticos se podría obtener con"
   ]
  },
  {
   "cell_type": "code",
   "execution_count": null,
   "metadata": {},
   "outputs": [],
   "source": []
  },
  {
   "cell_type": "markdown",
   "metadata": {},
   "source": [
    "## 1.2. Rendimientos diarios\n",
    "\n",
    "Para una sucesión de precios $\\{S_t\\}_{t=0}^{n}$, el rendimiento simple $R_t$ se define como el el cambio porcentual\n",
    "$$\n",
    "R_t=\\frac{S_t-S_{t-1}}{S_{t-1}}\n",
    "$$\n",
    "para $t=1,\\ldots,n$.\n",
    "\n",
    "Para el ejemplo en curso, ¿cómo calcular esto?"
   ]
  },
  {
   "cell_type": "code",
   "execution_count": 22,
   "metadata": {},
   "outputs": [],
   "source": [
    "# META=datos[['Adj Close']]\n",
    "# META.head()"
   ]
  },
  {
   "cell_type": "code",
   "execution_count": 23,
   "metadata": {},
   "outputs": [],
   "source": [
    "# META.shift().head() # .shift()  ->  recorre los valores una casilla"
   ]
  },
  {
   "cell_type": "code",
   "execution_count": 24,
   "metadata": {},
   "outputs": [
    {
     "data": {
      "text/html": [
       "<div>\n",
       "<style scoped>\n",
       "    .dataframe tbody tr th:only-of-type {\n",
       "        vertical-align: middle;\n",
       "    }\n",
       "\n",
       "    .dataframe tbody tr th {\n",
       "        vertical-align: top;\n",
       "    }\n",
       "\n",
       "    .dataframe thead th {\n",
       "        text-align: right;\n",
       "    }\n",
       "</style>\n",
       "<table border=\"1\" class=\"dataframe\">\n",
       "  <thead>\n",
       "    <tr style=\"text-align: right;\">\n",
       "      <th></th>\n",
       "      <th>META</th>\n",
       "      <th>TSLA</th>\n",
       "      <th>^GSPC</th>\n",
       "    </tr>\n",
       "    <tr>\n",
       "      <th>Date</th>\n",
       "      <th></th>\n",
       "      <th></th>\n",
       "      <th></th>\n",
       "    </tr>\n",
       "  </thead>\n",
       "  <tbody>\n",
       "    <tr>\n",
       "      <th>2017-06-02</th>\n",
       "      <td>0.013727</td>\n",
       "      <td>-0.001528</td>\n",
       "      <td>0.003708</td>\n",
       "    </tr>\n",
       "    <tr>\n",
       "      <th>2017-06-05</th>\n",
       "      <td>0.000130</td>\n",
       "      <td>0.021980</td>\n",
       "      <td>-0.001218</td>\n",
       "    </tr>\n",
       "    <tr>\n",
       "      <th>2017-06-06</th>\n",
       "      <td>-0.005338</td>\n",
       "      <td>0.015922</td>\n",
       "      <td>-0.002779</td>\n",
       "    </tr>\n",
       "    <tr>\n",
       "      <th>2017-06-07</th>\n",
       "      <td>0.002029</td>\n",
       "      <td>0.019272</td>\n",
       "      <td>0.001568</td>\n",
       "    </tr>\n",
       "    <tr>\n",
       "      <th>2017-06-08</th>\n",
       "      <td>0.010384</td>\n",
       "      <td>0.028778</td>\n",
       "      <td>0.000267</td>\n",
       "    </tr>\n",
       "  </tbody>\n",
       "</table>\n",
       "</div>"
      ],
      "text/plain": [
       "                META      TSLA     ^GSPC\n",
       "Date                                    \n",
       "2017-06-02  0.013727 -0.001528  0.003708\n",
       "2017-06-05  0.000130  0.021980 -0.001218\n",
       "2017-06-06 -0.005338  0.015922 -0.002779\n",
       "2017-06-07  0.002029  0.019272  0.001568\n",
       "2017-06-08  0.010384  0.028778  0.000267"
      ]
     },
     "execution_count": 24,
     "metadata": {},
     "output_type": "execute_result"
    }
   ],
   "source": [
    "R=((datos-datos.shift())/datos.shift()).dropna() # dropna()  ->  elimina las filas con NaN\n",
    "R.head()"
   ]
  },
  {
   "cell_type": "markdown",
   "metadata": {},
   "source": [
    "y la gráfica de los rendimientos se puede obtener como..."
   ]
  },
  {
   "cell_type": "code",
   "execution_count": 25,
   "metadata": {},
   "outputs": [
    {
     "data": {
      "text/plain": [
       "array([[<Axes: title={'center': 'META'}>,\n",
       "        <Axes: title={'center': 'TSLA'}>],\n",
       "       [<Axes: title={'center': '^GSPC'}>, <Axes: >]], dtype=object)"
      ]
     },
     "execution_count": 25,
     "metadata": {},
     "output_type": "execute_result"
    },
    {
     "data": {
      "image/png": "[encoded data removed]",
      "text/plain": [
       "<Figure size 640x480 with 4 Axes>"
      ]
     },
     "metadata": {},
     "output_type": "display_data"
    }
   ],
   "source": [
    "# Histograma\n",
    "R.hist(bins=50)"
   ]
  },
  {
   "cell_type": "code",
   "execution_count": 26,
   "metadata": {},
   "outputs": [
    {
     "data": {
      "text/plain": [
       "(META     0.000766\n",
       " TSLA     0.002386\n",
       " ^GSPC    0.000475\n",
       " dtype: float64,\n",
       " META     0.026548\n",
       " TSLA     0.039566\n",
       " ^GSPC    0.012848\n",
       " dtype: float64)"
      ]
     },
     "execution_count": 26,
     "metadata": {},
     "output_type": "execute_result"
    }
   ],
   "source": [
    "# Media y std\n",
    "R.mean(),R.std()"
   ]
  },
  {
   "cell_type": "code",
   "execution_count": 27,
   "metadata": {},
   "outputs": [
    {
     "data": {
      "text/plain": [
       "<Axes: xlabel='Date'>"
      ]
     },
     "execution_count": 27,
     "metadata": {},
     "output_type": "execute_result"
    },
    {
     "data": {
      "image/png": "[encoded data removed]",
      "text/plain": [
       "<Figure size 640x480 with 1 Axes>"
      ]
     },
     "metadata": {},
     "output_type": "display_data"
    }
   ],
   "source": [
    "R.plot()"
   ]
  },
  {
   "cell_type": "markdown",
   "metadata": {},
   "source": [
    "Donde se observa que el rendimiento **tiene una tendencia constante** y, por tanto, se puede plantear la hipótesis de que se puede modelar usando un proceso estocástico estacionario en media."
   ]
  },
  {
   "cell_type": "markdown",
   "metadata": {},
   "source": [
    "Otro rendimiento usado con frecuencia es el rendimiento continuamente compuesto o rendimiento logaritmico. Éste, está definido como\n",
    "\n",
    "$$\n",
    "r_t=\\ln\\left(\\frac{S_t}{S_{t-1}}\\right).\n",
    "$$\n",
    "\n",
    "**Esta ecuación sólo es válida cuando se tienen periodos cortos de tiempo**\n",
    "Es fácil darse cuenta que $r_t=\\ln(1+R_t)$.\n",
    "\n",
    "**Nota:** ver gráficamente que si $0\\leq|x|\\ll 1$, entonces $\\ln(1+x)\\approx x$.\n",
    "\n",
    "Para este caso, la fórmula del rendimiento continuamente compuesto se translada facilmente a código Python (obtener, graficar y comparar)."
   ]
  },
  {
   "cell_type": "code",
   "execution_count": 28,
   "metadata": {},
   "outputs": [],
   "source": [
    "import numpy as np"
   ]
  },
  {
   "cell_type": "code",
   "execution_count": 29,
   "metadata": {},
   "outputs": [
    {
     "data": {
      "text/html": [
       "<div>\n",
       "<style scoped>\n",
       "    .dataframe tbody tr th:only-of-type {\n",
       "        vertical-align: middle;\n",
       "    }\n",
       "\n",
       "    .dataframe tbody tr th {\n",
       "        vertical-align: top;\n",
       "    }\n",
       "\n",
       "    .dataframe thead th {\n",
       "        text-align: right;\n",
       "    }\n",
       "</style>\n",
       "<table border=\"1\" class=\"dataframe\">\n",
       "  <thead>\n",
       "    <tr style=\"text-align: right;\">\n",
       "      <th></th>\n",
       "      <th>META</th>\n",
       "      <th>TSLA</th>\n",
       "      <th>^GSPC</th>\n",
       "    </tr>\n",
       "    <tr>\n",
       "      <th>Date</th>\n",
       "      <th></th>\n",
       "      <th></th>\n",
       "      <th></th>\n",
       "    </tr>\n",
       "  </thead>\n",
       "  <tbody>\n",
       "    <tr>\n",
       "      <th>2017-06-02</th>\n",
       "      <td>0.013633</td>\n",
       "      <td>-0.001529</td>\n",
       "      <td>0.003701</td>\n",
       "    </tr>\n",
       "    <tr>\n",
       "      <th>2017-06-05</th>\n",
       "      <td>0.000130</td>\n",
       "      <td>0.021742</td>\n",
       "      <td>-0.001218</td>\n",
       "    </tr>\n",
       "    <tr>\n",
       "      <th>2017-06-06</th>\n",
       "      <td>-0.005352</td>\n",
       "      <td>0.015796</td>\n",
       "      <td>-0.002783</td>\n",
       "    </tr>\n",
       "    <tr>\n",
       "      <th>2017-06-07</th>\n",
       "      <td>0.002027</td>\n",
       "      <td>0.019088</td>\n",
       "      <td>0.001567</td>\n",
       "    </tr>\n",
       "    <tr>\n",
       "      <th>2017-06-08</th>\n",
       "      <td>0.010331</td>\n",
       "      <td>0.028372</td>\n",
       "      <td>0.000267</td>\n",
       "    </tr>\n",
       "  </tbody>\n",
       "</table>\n",
       "</div>"
      ],
      "text/plain": [
       "                META      TSLA     ^GSPC\n",
       "Date                                    \n",
       "2017-06-02  0.013633 -0.001529  0.003701\n",
       "2017-06-05  0.000130  0.021742 -0.001218\n",
       "2017-06-06 -0.005352  0.015796 -0.002783\n",
       "2017-06-07  0.002027  0.019088  0.001567\n",
       "2017-06-08  0.010331  0.028372  0.000267"
      ]
     },
     "execution_count": 29,
     "metadata": {},
     "output_type": "execute_result"
    }
   ],
   "source": [
    "r=np.log(datos/datos.shift()).dropna()\n",
    "r.head()"
   ]
  },
  {
   "cell_type": "markdown",
   "metadata": {},
   "source": [
    "Donde se observa que el rendimiento tiene una tendencia constante y, por tanto, se puede plantear la hipótesis de que se puede modelar usando un proceso estocástico estacionario en media.\n",
    "\n",
    "Podemos incluso plantear la hipótesis de que los log rendimientos son normales..."
   ]
  },
  {
   "cell_type": "code",
   "execution_count": 30,
   "metadata": {},
   "outputs": [
    {
     "data": {
      "text/plain": [
       "array([[<Axes: title={'center': 'META'}>,\n",
       "        <Axes: title={'center': 'TSLA'}>],\n",
       "       [<Axes: title={'center': '^GSPC'}>, <Axes: >]], dtype=object)"
      ]
     },
     "execution_count": 30,
     "metadata": {},
     "output_type": "execute_result"
    },
    {
     "data": {
      "image/png": "[encoded data removed]",
      "text/plain": [
       "<Figure size 640x480 with 4 Axes>"
      ]
     },
     "metadata": {},
     "output_type": "display_data"
    }
   ],
   "source": [
    "r.hist(bins=50)"
   ]
  },
  {
   "cell_type": "code",
   "execution_count": 31,
   "metadata": {},
   "outputs": [
    {
     "data": {
      "text/plain": [
       "(META     0.000406\n",
       " TSLA     0.001605\n",
       " ^GSPC    0.000392\n",
       " dtype: float64,\n",
       " META     0.026991\n",
       " TSLA     0.039514\n",
       " ^GSPC    0.012901\n",
       " dtype: float64)"
      ]
     },
     "execution_count": 31,
     "metadata": {},
     "output_type": "execute_result"
    }
   ],
   "source": [
    "r.mean(),r.std()"
   ]
  },
  {
   "cell_type": "code",
   "execution_count": 32,
   "metadata": {},
   "outputs": [],
   "source": [
    "#datos.pct_change?"
   ]
  },
  {
   "cell_type": "code",
   "execution_count": 33,
   "metadata": {},
   "outputs": [
    {
     "data": {
      "text/html": [
       "<div>\n",
       "<style scoped>\n",
       "    .dataframe tbody tr th:only-of-type {\n",
       "        vertical-align: middle;\n",
       "    }\n",
       "\n",
       "    .dataframe tbody tr th {\n",
       "        vertical-align: top;\n",
       "    }\n",
       "\n",
       "    .dataframe thead th {\n",
       "        text-align: right;\n",
       "    }\n",
       "</style>\n",
       "<table border=\"1\" class=\"dataframe\">\n",
       "  <thead>\n",
       "    <tr style=\"text-align: right;\">\n",
       "      <th></th>\n",
       "      <th>META</th>\n",
       "      <th>TSLA</th>\n",
       "      <th>^GSPC</th>\n",
       "    </tr>\n",
       "    <tr>\n",
       "      <th>Date</th>\n",
       "      <th></th>\n",
       "      <th></th>\n",
       "      <th></th>\n",
       "    </tr>\n",
       "  </thead>\n",
       "  <tbody>\n",
       "    <tr>\n",
       "      <th>2017-06-02</th>\n",
       "      <td>0.013727</td>\n",
       "      <td>-0.001528</td>\n",
       "      <td>0.003708</td>\n",
       "    </tr>\n",
       "    <tr>\n",
       "      <th>2017-06-05</th>\n",
       "      <td>0.000130</td>\n",
       "      <td>0.021980</td>\n",
       "      <td>-0.001218</td>\n",
       "    </tr>\n",
       "    <tr>\n",
       "      <th>2017-06-06</th>\n",
       "      <td>-0.005338</td>\n",
       "      <td>0.015922</td>\n",
       "      <td>-0.002779</td>\n",
       "    </tr>\n",
       "    <tr>\n",
       "      <th>2017-06-07</th>\n",
       "      <td>0.002029</td>\n",
       "      <td>0.019272</td>\n",
       "      <td>0.001568</td>\n",
       "    </tr>\n",
       "    <tr>\n",
       "      <th>2017-06-08</th>\n",
       "      <td>0.010384</td>\n",
       "      <td>0.028778</td>\n",
       "      <td>0.000267</td>\n",
       "    </tr>\n",
       "  </tbody>\n",
       "</table>\n",
       "</div>"
      ],
      "text/plain": [
       "                META      TSLA     ^GSPC\n",
       "Date                                    \n",
       "2017-06-02  0.013727 -0.001528  0.003708\n",
       "2017-06-05  0.000130  0.021980 -0.001218\n",
       "2017-06-06 -0.005338  0.015922 -0.002779\n",
       "2017-06-07  0.002029  0.019272  0.001568\n",
       "2017-06-08  0.010384  0.028778  0.000267"
      ]
     },
     "execution_count": 33,
     "metadata": {},
     "output_type": "execute_result"
    }
   ],
   "source": [
    "R=datos.pct_change().dropna() # (datos-datos.shift())/datos.shift()\n",
    "R.head()"
   ]
  },
  {
   "cell_type": "markdown",
   "metadata": {},
   "source": [
    "___\n",
    "# 2. Simulación de escenarios futuros de precios"
   ]
  },
  {
   "cell_type": "markdown",
   "metadata": {},
   "source": [
    "Entonces, suponemos que el cambio porcentual de los precios (rendimientos diarios) tiene una distribución normal.\n",
    "\n",
    "¿Cómo se caracteriza una [distribución normal](https://es.wikipedia.org/wiki/Distribuci%C3%B3n_normal)?"
   ]
  },
  {
   "cell_type": "code",
   "execution_count": 34,
   "metadata": {},
   "outputs": [],
   "source": [
    "import matplotlib.pyplot as plt"
   ]
  },
  {
   "cell_type": "code",
   "execution_count": 35,
   "metadata": {},
   "outputs": [
    {
     "data": {
      "image/png": "[encoded data removed]",
      "text/plain": [
       "<Figure size 640x480 with 1 Axes>"
      ]
     },
     "metadata": {},
     "output_type": "display_data"
    }
   ],
   "source": [
    "# Simulamos un posible escenario para... Tesla\n",
    "me=R['TSLA'].mean()\n",
    "std=R['TSLA'].std()\n",
    "dias=90\n",
    "E=np.random.normal(me,std,dias)\n",
    "\n",
    "plt.plot(E)\n",
    "plt.grid()"
   ]
  },
  {
   "cell_type": "code",
   "execution_count": 36,
   "metadata": {},
   "outputs": [],
   "source": [
    "#pd.date_range?"
   ]
  },
  {
   "cell_type": "code",
   "execution_count": 37,
   "metadata": {},
   "outputs": [
    {
     "data": {
      "text/plain": [
       "DatetimeIndex(['2023-06-21', '2023-06-22', '2023-06-23', '2023-06-24',\n",
       "               '2023-06-25', '2023-06-26', '2023-06-27', '2023-06-28',\n",
       "               '2023-06-29', '2023-06-30'],\n",
       "              dtype='datetime64[ns]', freq='D')"
      ]
     },
     "execution_count": 37,
     "metadata": {},
     "output_type": "execute_result"
    }
   ],
   "source": [
    "fechas=pd.date_range('2023-06-21','2023-06-30')\n",
    "fechas"
   ]
  },
  {
   "cell_type": "code",
   "execution_count": 38,
   "metadata": {},
   "outputs": [
    {
     "data": {
      "text/plain": [
       "10"
      ]
     },
     "execution_count": 38,
     "metadata": {},
     "output_type": "execute_result"
    }
   ],
   "source": [
    "len(fechas)"
   ]
  },
  {
   "cell_type": "code",
   "execution_count": 39,
   "metadata": {},
   "outputs": [
    {
     "data": {
      "text/plain": [
       "DatetimeIndex(['2023-06-21', '2023-06-22', '2023-06-23', '2023-06-24',\n",
       "               '2023-06-25', '2023-06-26', '2023-06-27', '2023-06-28',\n",
       "               '2023-06-29', '2023-06-30'],\n",
       "              dtype='datetime64[ns]', freq='D')"
      ]
     },
     "execution_count": 39,
     "metadata": {},
     "output_type": "execute_result"
    }
   ],
   "source": [
    "pd.date_range('2023-06-21',periods=10)"
   ]
  },
  {
   "cell_type": "markdown",
   "metadata": {},
   "source": [
    "Habiendo caracterizado los rendimientos diarios como una variable aleatoria normal con la media y la varianza muestral obtenida de los datos del 2018, podemos generar números aleatorios con estas características para simular el comportamiento de los precios de cierre de las acciones en el 2019 (hay un supuesto de que las cosas no cambiarán fundamentalmente).\n",
    "\n",
    "Sin embargo, cada simulación que hagamos nos conducirá a distintos resultados (los precios siguen evolucionando aleatoriamente). Entonces, lo que haremos es simular varios escenarios para así ver alguna tendencia y tomar decisiones.\n",
    "\n",
    "Hagamos una una función que simule varios escenarios de rendimientos diarios y que devuelva un dataframe con esta simulación."
   ]
  },
  {
   "cell_type": "code",
   "execution_count": 40,
   "metadata": {},
   "outputs": [],
   "source": [
    "import numpy as np\n",
    "import pandas as pd"
   ]
  },
  {
   "cell_type": "code",
   "execution_count": 41,
   "metadata": {},
   "outputs": [],
   "source": [
    "def simulador(me,std,start,end,N):\n",
    "    fechas=pd.date_range(start,end)\n",
    "    dias=len(fechas)\n",
    "    datos=np.random.normal(me,std,(dias,N))\n",
    "    return pd.DataFrame(data=datos,index=fechas)"
   ]
  },
  {
   "cell_type": "code",
   "execution_count": 63,
   "metadata": {},
   "outputs": [
    {
     "data": {
      "text/html": [
       "<div>\n",
       "<style scoped>\n",
       "    .dataframe tbody tr th:only-of-type {\n",
       "        vertical-align: middle;\n",
       "    }\n",
       "\n",
       "    .dataframe tbody tr th {\n",
       "        vertical-align: top;\n",
       "    }\n",
       "\n",
       "    .dataframe thead th {\n",
       "        text-align: right;\n",
       "    }\n",
       "</style>\n",
       "<table border=\"1\" class=\"dataframe\">\n",
       "  <thead>\n",
       "    <tr style=\"text-align: right;\">\n",
       "      <th></th>\n",
       "      <th>0</th>\n",
       "      <th>1</th>\n",
       "      <th>2</th>\n",
       "      <th>3</th>\n",
       "      <th>4</th>\n",
       "      <th>5</th>\n",
       "      <th>6</th>\n",
       "      <th>7</th>\n",
       "      <th>8</th>\n",
       "      <th>9</th>\n",
       "      <th>...</th>\n",
       "      <th>99990</th>\n",
       "      <th>99991</th>\n",
       "      <th>99992</th>\n",
       "      <th>99993</th>\n",
       "      <th>99994</th>\n",
       "      <th>99995</th>\n",
       "      <th>99996</th>\n",
       "      <th>99997</th>\n",
       "      <th>99998</th>\n",
       "      <th>99999</th>\n",
       "    </tr>\n",
       "  </thead>\n",
       "  <tbody>\n",
       "    <tr>\n",
       "      <th>2023-06-21</th>\n",
       "      <td>0.046718</td>\n",
       "      <td>-0.054123</td>\n",
       "      <td>-0.013243</td>\n",
       "      <td>0.022249</td>\n",
       "      <td>-0.021585</td>\n",
       "      <td>-0.045165</td>\n",
       "      <td>-0.038319</td>\n",
       "      <td>-0.030273</td>\n",
       "      <td>0.011481</td>\n",
       "      <td>0.000227</td>\n",
       "      <td>...</td>\n",
       "      <td>0.075840</td>\n",
       "      <td>0.033472</td>\n",
       "      <td>-0.043864</td>\n",
       "      <td>0.038399</td>\n",
       "      <td>0.05030</td>\n",
       "      <td>0.011160</td>\n",
       "      <td>0.011367</td>\n",
       "      <td>-0.004009</td>\n",
       "      <td>-0.062109</td>\n",
       "      <td>0.030166</td>\n",
       "    </tr>\n",
       "    <tr>\n",
       "      <th>2023-06-22</th>\n",
       "      <td>-0.005118</td>\n",
       "      <td>0.032956</td>\n",
       "      <td>0.035349</td>\n",
       "      <td>0.013699</td>\n",
       "      <td>0.028046</td>\n",
       "      <td>-0.005434</td>\n",
       "      <td>0.043225</td>\n",
       "      <td>0.006576</td>\n",
       "      <td>-0.060812</td>\n",
       "      <td>-0.028221</td>\n",
       "      <td>...</td>\n",
       "      <td>0.026322</td>\n",
       "      <td>-0.079618</td>\n",
       "      <td>0.058156</td>\n",
       "      <td>0.021309</td>\n",
       "      <td>-0.02391</td>\n",
       "      <td>0.007608</td>\n",
       "      <td>-0.020306</td>\n",
       "      <td>0.031942</td>\n",
       "      <td>0.045747</td>\n",
       "      <td>0.030461</td>\n",
       "    </tr>\n",
       "  </tbody>\n",
       "</table>\n",
       "<p>2 rows × 100000 columns</p>\n",
       "</div>"
      ],
      "text/plain": [
       "               0         1         2         3         4         5      \\\n",
       "2023-06-21  0.046718 -0.054123 -0.013243  0.022249 -0.021585 -0.045165   \n",
       "2023-06-22 -0.005118  0.032956  0.035349  0.013699  0.028046 -0.005434   \n",
       "\n",
       "               6         7         8         9      ...     99990     99991  \\\n",
       "2023-06-21 -0.038319 -0.030273  0.011481  0.000227  ...  0.075840  0.033472   \n",
       "2023-06-22  0.043225  0.006576 -0.060812 -0.028221  ...  0.026322 -0.079618   \n",
       "\n",
       "               99992     99993    99994     99995     99996     99997  \\\n",
       "2023-06-21 -0.043864  0.038399  0.05030  0.011160  0.011367 -0.004009   \n",
       "2023-06-22  0.058156  0.021309 -0.02391  0.007608 -0.020306  0.031942   \n",
       "\n",
       "               99998     99999  \n",
       "2023-06-21 -0.062109  0.030166  \n",
       "2023-06-22  0.045747  0.030461  \n",
       "\n",
       "[2 rows x 100000 columns]"
      ]
     },
     "execution_count": 63,
     "metadata": {},
     "output_type": "execute_result"
    }
   ],
   "source": [
    "R_TSLA=simulador(R['TSLA'].mean(),R['TSLA'].std(),'2023-06-21','2023-09-21',10**5)\n",
    "R_TSLA.head(2)"
   ]
  },
  {
   "cell_type": "code",
   "execution_count": 64,
   "metadata": {},
   "outputs": [],
   "source": [
    "R_SP=simulador(R['^GSPC'].mean(),R['^GSPC'].std(),'2023-06-21','2023-09-21',10**5)\n",
    "R_META=simulador(R['META'].mean(),R['META'].std(),'2023-06-21','2023-09-21',10**5)"
   ]
  },
  {
   "cell_type": "markdown",
   "metadata": {},
   "source": [
    "## 2.2 Proyección de precios"
   ]
  },
  {
   "cell_type": "markdown",
   "metadata": {},
   "source": [
    "Por tanto, para calcular los precios, tenemos:\n",
    "\n",
    "$$\\begin{align}\n",
    "p_i&=p_{i-1}(R_i+1)\\\\\n",
    "p_{i+1}&=p_i(R_{i+1}+1)=p_{i-1}(R_i+1)(R_{i+1}+1)\\\\\n",
    "&\\vdots\\\\\n",
    "p_{i+k}&=p_{i-1}(R_i+1)\\cdots(R_{i+k}+1).\n",
    "\\end{align}$$\n",
    "\n",
    "Si hacemos $i=0$ en la última ecuación, tenemos que $p_{k}=p_{-1}(R_0+1)\\cdots(R_{k}+1)$, donde $p_{-1}$ es el último precio reportado en el actual año."
   ]
  },
  {
   "cell_type": "code",
   "execution_count": 44,
   "metadata": {},
   "outputs": [
    {
     "data": {
      "text/plain": [
       "META      281.000000\n",
       "TSLA      260.540009\n",
       "^GSPC    4409.589844\n",
       "Name: 2023-06-16 00:00:00, dtype: float64"
      ]
     },
     "execution_count": 44,
     "metadata": {},
     "output_type": "execute_result"
    }
   ],
   "source": [
    "datos.iloc[-1]"
   ]
  },
  {
   "cell_type": "code",
   "execution_count": 45,
   "metadata": {
    "collapsed": true
   },
   "outputs": [
    {
     "data": {
      "text/html": [
       "<div>\n",
       "<style scoped>\n",
       "    .dataframe tbody tr th:only-of-type {\n",
       "        vertical-align: middle;\n",
       "    }\n",
       "\n",
       "    .dataframe tbody tr th {\n",
       "        vertical-align: top;\n",
       "    }\n",
       "\n",
       "    .dataframe thead th {\n",
       "        text-align: right;\n",
       "    }\n",
       "</style>\n",
       "<table border=\"1\" class=\"dataframe\">\n",
       "  <thead>\n",
       "    <tr style=\"text-align: right;\">\n",
       "      <th></th>\n",
       "      <th>0</th>\n",
       "      <th>1</th>\n",
       "      <th>2</th>\n",
       "      <th>3</th>\n",
       "      <th>4</th>\n",
       "      <th>5</th>\n",
       "      <th>6</th>\n",
       "      <th>7</th>\n",
       "      <th>8</th>\n",
       "      <th>9</th>\n",
       "      <th>...</th>\n",
       "      <th>9990</th>\n",
       "      <th>9991</th>\n",
       "      <th>9992</th>\n",
       "      <th>9993</th>\n",
       "      <th>9994</th>\n",
       "      <th>9995</th>\n",
       "      <th>9996</th>\n",
       "      <th>9997</th>\n",
       "      <th>9998</th>\n",
       "      <th>9999</th>\n",
       "    </tr>\n",
       "  </thead>\n",
       "  <tbody>\n",
       "    <tr>\n",
       "      <th>2023-06-21</th>\n",
       "      <td>-0.047540</td>\n",
       "      <td>-0.006548</td>\n",
       "      <td>0.030114</td>\n",
       "      <td>0.053040</td>\n",
       "      <td>0.026493</td>\n",
       "      <td>-0.026099</td>\n",
       "      <td>0.034642</td>\n",
       "      <td>-0.023794</td>\n",
       "      <td>0.038797</td>\n",
       "      <td>-0.003947</td>\n",
       "      <td>...</td>\n",
       "      <td>0.007382</td>\n",
       "      <td>0.085302</td>\n",
       "      <td>0.022289</td>\n",
       "      <td>0.012248</td>\n",
       "      <td>-0.019119</td>\n",
       "      <td>0.064385</td>\n",
       "      <td>-0.081852</td>\n",
       "      <td>0.039424</td>\n",
       "      <td>-0.006767</td>\n",
       "      <td>0.068841</td>\n",
       "    </tr>\n",
       "    <tr>\n",
       "      <th>2023-06-22</th>\n",
       "      <td>0.011175</td>\n",
       "      <td>0.052702</td>\n",
       "      <td>0.030240</td>\n",
       "      <td>0.020672</td>\n",
       "      <td>0.071759</td>\n",
       "      <td>0.010493</td>\n",
       "      <td>-0.001003</td>\n",
       "      <td>-0.010432</td>\n",
       "      <td>-0.036251</td>\n",
       "      <td>-0.012504</td>\n",
       "      <td>...</td>\n",
       "      <td>0.002030</td>\n",
       "      <td>0.031126</td>\n",
       "      <td>-0.020385</td>\n",
       "      <td>0.056394</td>\n",
       "      <td>-0.055984</td>\n",
       "      <td>0.066387</td>\n",
       "      <td>-0.029996</td>\n",
       "      <td>-0.034949</td>\n",
       "      <td>-0.048480</td>\n",
       "      <td>0.054883</td>\n",
       "    </tr>\n",
       "    <tr>\n",
       "      <th>2023-06-23</th>\n",
       "      <td>-0.014627</td>\n",
       "      <td>0.061078</td>\n",
       "      <td>-0.015312</td>\n",
       "      <td>0.002761</td>\n",
       "      <td>-0.049656</td>\n",
       "      <td>0.037487</td>\n",
       "      <td>0.020977</td>\n",
       "      <td>-0.040493</td>\n",
       "      <td>-0.068411</td>\n",
       "      <td>0.034905</td>\n",
       "      <td>...</td>\n",
       "      <td>0.015341</td>\n",
       "      <td>0.055966</td>\n",
       "      <td>-0.030483</td>\n",
       "      <td>0.000651</td>\n",
       "      <td>-0.051212</td>\n",
       "      <td>-0.023242</td>\n",
       "      <td>-0.052758</td>\n",
       "      <td>0.026713</td>\n",
       "      <td>-0.006326</td>\n",
       "      <td>0.008454</td>\n",
       "    </tr>\n",
       "    <tr>\n",
       "      <th>2023-06-24</th>\n",
       "      <td>0.006645</td>\n",
       "      <td>0.054101</td>\n",
       "      <td>0.065790</td>\n",
       "      <td>-0.026532</td>\n",
       "      <td>-0.045321</td>\n",
       "      <td>0.019117</td>\n",
       "      <td>-0.004387</td>\n",
       "      <td>0.024793</td>\n",
       "      <td>0.016352</td>\n",
       "      <td>-0.066129</td>\n",
       "      <td>...</td>\n",
       "      <td>0.011829</td>\n",
       "      <td>0.055677</td>\n",
       "      <td>-0.000655</td>\n",
       "      <td>0.030702</td>\n",
       "      <td>0.033964</td>\n",
       "      <td>-0.052860</td>\n",
       "      <td>-0.062308</td>\n",
       "      <td>-0.008327</td>\n",
       "      <td>-0.046940</td>\n",
       "      <td>0.084023</td>\n",
       "    </tr>\n",
       "    <tr>\n",
       "      <th>2023-06-25</th>\n",
       "      <td>0.003327</td>\n",
       "      <td>0.072987</td>\n",
       "      <td>-0.003505</td>\n",
       "      <td>-0.054758</td>\n",
       "      <td>0.067645</td>\n",
       "      <td>-0.029134</td>\n",
       "      <td>-0.016397</td>\n",
       "      <td>0.032497</td>\n",
       "      <td>-0.000708</td>\n",
       "      <td>0.031119</td>\n",
       "      <td>...</td>\n",
       "      <td>-0.047246</td>\n",
       "      <td>0.009130</td>\n",
       "      <td>0.022680</td>\n",
       "      <td>-0.024047</td>\n",
       "      <td>0.054349</td>\n",
       "      <td>0.008516</td>\n",
       "      <td>0.015368</td>\n",
       "      <td>0.045652</td>\n",
       "      <td>-0.013463</td>\n",
       "      <td>-0.107156</td>\n",
       "    </tr>\n",
       "  </tbody>\n",
       "</table>\n",
       "<p>5 rows × 10000 columns</p>\n",
       "</div>"
      ],
      "text/plain": [
       "                0         1         2         3         4         5     \\\n",
       "2023-06-21 -0.047540 -0.006548  0.030114  0.053040  0.026493 -0.026099   \n",
       "2023-06-22  0.011175  0.052702  0.030240  0.020672  0.071759  0.010493   \n",
       "2023-06-23 -0.014627  0.061078 -0.015312  0.002761 -0.049656  0.037487   \n",
       "2023-06-24  0.006645  0.054101  0.065790 -0.026532 -0.045321  0.019117   \n",
       "2023-06-25  0.003327  0.072987 -0.003505 -0.054758  0.067645 -0.029134   \n",
       "\n",
       "                6         7         8         9     ...      9990      9991  \\\n",
       "2023-06-21  0.034642 -0.023794  0.038797 -0.003947  ...  0.007382  0.085302   \n",
       "2023-06-22 -0.001003 -0.010432 -0.036251 -0.012504  ...  0.002030  0.031126   \n",
       "2023-06-23  0.020977 -0.040493 -0.068411  0.034905  ...  0.015341  0.055966   \n",
       "2023-06-24 -0.004387  0.024793  0.016352 -0.066129  ...  0.011829  0.055677   \n",
       "2023-06-25 -0.016397  0.032497 -0.000708  0.031119  ... -0.047246  0.009130   \n",
       "\n",
       "                9992      9993      9994      9995      9996      9997  \\\n",
       "2023-06-21  0.022289  0.012248 -0.019119  0.064385 -0.081852  0.039424   \n",
       "2023-06-22 -0.020385  0.056394 -0.055984  0.066387 -0.029996 -0.034949   \n",
       "2023-06-23 -0.030483  0.000651 -0.051212 -0.023242 -0.052758  0.026713   \n",
       "2023-06-24 -0.000655  0.030702  0.033964 -0.052860 -0.062308 -0.008327   \n",
       "2023-06-25  0.022680 -0.024047  0.054349  0.008516  0.015368  0.045652   \n",
       "\n",
       "                9998      9999  \n",
       "2023-06-21 -0.006767  0.068841  \n",
       "2023-06-22 -0.048480  0.054883  \n",
       "2023-06-23 -0.006326  0.008454  \n",
       "2023-06-24 -0.046940  0.084023  \n",
       "2023-06-25 -0.013463 -0.107156  \n",
       "\n",
       "[5 rows x 10000 columns]"
      ]
     },
     "execution_count": 45,
     "metadata": {},
     "output_type": "execute_result"
    }
   ],
   "source": [
    "R_TSLA.head()"
   ]
  },
  {
   "cell_type": "code",
   "execution_count": 46,
   "metadata": {
    "collapsed": true
   },
   "outputs": [
    {
     "data": {
      "text/html": [
       "<div>\n",
       "<style scoped>\n",
       "    .dataframe tbody tr th:only-of-type {\n",
       "        vertical-align: middle;\n",
       "    }\n",
       "\n",
       "    .dataframe tbody tr th {\n",
       "        vertical-align: top;\n",
       "    }\n",
       "\n",
       "    .dataframe thead th {\n",
       "        text-align: right;\n",
       "    }\n",
       "</style>\n",
       "<table border=\"1\" class=\"dataframe\">\n",
       "  <thead>\n",
       "    <tr style=\"text-align: right;\">\n",
       "      <th></th>\n",
       "      <th>0</th>\n",
       "      <th>1</th>\n",
       "      <th>2</th>\n",
       "      <th>3</th>\n",
       "      <th>4</th>\n",
       "      <th>5</th>\n",
       "      <th>6</th>\n",
       "      <th>7</th>\n",
       "      <th>8</th>\n",
       "      <th>9</th>\n",
       "      <th>...</th>\n",
       "      <th>9990</th>\n",
       "      <th>9991</th>\n",
       "      <th>9992</th>\n",
       "      <th>9993</th>\n",
       "      <th>9994</th>\n",
       "      <th>9995</th>\n",
       "      <th>9996</th>\n",
       "      <th>9997</th>\n",
       "      <th>9998</th>\n",
       "      <th>9999</th>\n",
       "    </tr>\n",
       "  </thead>\n",
       "  <tbody>\n",
       "    <tr>\n",
       "      <th>2023-06-21</th>\n",
       "      <td>0.952460</td>\n",
       "      <td>0.993452</td>\n",
       "      <td>1.030114</td>\n",
       "      <td>1.053040</td>\n",
       "      <td>1.026493</td>\n",
       "      <td>0.973901</td>\n",
       "      <td>1.034642</td>\n",
       "      <td>0.976206</td>\n",
       "      <td>1.038797</td>\n",
       "      <td>0.996053</td>\n",
       "      <td>...</td>\n",
       "      <td>1.007382</td>\n",
       "      <td>1.085302</td>\n",
       "      <td>1.022289</td>\n",
       "      <td>1.012248</td>\n",
       "      <td>0.980881</td>\n",
       "      <td>1.064385</td>\n",
       "      <td>0.918148</td>\n",
       "      <td>1.039424</td>\n",
       "      <td>0.993233</td>\n",
       "      <td>1.068841</td>\n",
       "    </tr>\n",
       "    <tr>\n",
       "      <th>2023-06-22</th>\n",
       "      <td>0.963103</td>\n",
       "      <td>1.045809</td>\n",
       "      <td>1.061264</td>\n",
       "      <td>1.074809</td>\n",
       "      <td>1.100153</td>\n",
       "      <td>0.984120</td>\n",
       "      <td>1.033604</td>\n",
       "      <td>0.966022</td>\n",
       "      <td>1.001140</td>\n",
       "      <td>0.983598</td>\n",
       "      <td>...</td>\n",
       "      <td>1.009427</td>\n",
       "      <td>1.119084</td>\n",
       "      <td>1.001450</td>\n",
       "      <td>1.069333</td>\n",
       "      <td>0.925967</td>\n",
       "      <td>1.135047</td>\n",
       "      <td>0.890607</td>\n",
       "      <td>1.003097</td>\n",
       "      <td>0.945081</td>\n",
       "      <td>1.127502</td>\n",
       "    </tr>\n",
       "    <tr>\n",
       "      <th>2023-06-23</th>\n",
       "      <td>0.949016</td>\n",
       "      <td>1.109686</td>\n",
       "      <td>1.045014</td>\n",
       "      <td>1.077777</td>\n",
       "      <td>1.045523</td>\n",
       "      <td>1.021012</td>\n",
       "      <td>1.055286</td>\n",
       "      <td>0.926905</td>\n",
       "      <td>0.932650</td>\n",
       "      <td>1.017931</td>\n",
       "      <td>...</td>\n",
       "      <td>1.024913</td>\n",
       "      <td>1.181715</td>\n",
       "      <td>0.970922</td>\n",
       "      <td>1.070028</td>\n",
       "      <td>0.878547</td>\n",
       "      <td>1.108666</td>\n",
       "      <td>0.843620</td>\n",
       "      <td>1.029893</td>\n",
       "      <td>0.939103</td>\n",
       "      <td>1.137034</td>\n",
       "    </tr>\n",
       "    <tr>\n",
       "      <th>2023-06-24</th>\n",
       "      <td>0.955323</td>\n",
       "      <td>1.169721</td>\n",
       "      <td>1.113765</td>\n",
       "      <td>1.049181</td>\n",
       "      <td>0.998140</td>\n",
       "      <td>1.040530</td>\n",
       "      <td>1.050657</td>\n",
       "      <td>0.949886</td>\n",
       "      <td>0.947900</td>\n",
       "      <td>0.950616</td>\n",
       "      <td>...</td>\n",
       "      <td>1.037036</td>\n",
       "      <td>1.247508</td>\n",
       "      <td>0.970286</td>\n",
       "      <td>1.102880</td>\n",
       "      <td>0.908385</td>\n",
       "      <td>1.050062</td>\n",
       "      <td>0.791056</td>\n",
       "      <td>1.021317</td>\n",
       "      <td>0.895021</td>\n",
       "      <td>1.232571</td>\n",
       "    </tr>\n",
       "    <tr>\n",
       "      <th>2023-06-25</th>\n",
       "      <td>0.958501</td>\n",
       "      <td>1.255096</td>\n",
       "      <td>1.109862</td>\n",
       "      <td>0.991731</td>\n",
       "      <td>1.065659</td>\n",
       "      <td>1.010215</td>\n",
       "      <td>1.033428</td>\n",
       "      <td>0.980755</td>\n",
       "      <td>0.947229</td>\n",
       "      <td>0.980198</td>\n",
       "      <td>...</td>\n",
       "      <td>0.988041</td>\n",
       "      <td>1.258898</td>\n",
       "      <td>0.992291</td>\n",
       "      <td>1.076360</td>\n",
       "      <td>0.957755</td>\n",
       "      <td>1.059005</td>\n",
       "      <td>0.803213</td>\n",
       "      <td>1.067942</td>\n",
       "      <td>0.882972</td>\n",
       "      <td>1.100493</td>\n",
       "    </tr>\n",
       "    <tr>\n",
       "      <th>...</th>\n",
       "      <td>...</td>\n",
       "      <td>...</td>\n",
       "      <td>...</td>\n",
       "      <td>...</td>\n",
       "      <td>...</td>\n",
       "      <td>...</td>\n",
       "      <td>...</td>\n",
       "      <td>...</td>\n",
       "      <td>...</td>\n",
       "      <td>...</td>\n",
       "      <td>...</td>\n",
       "      <td>...</td>\n",
       "      <td>...</td>\n",
       "      <td>...</td>\n",
       "      <td>...</td>\n",
       "      <td>...</td>\n",
       "      <td>...</td>\n",
       "      <td>...</td>\n",
       "      <td>...</td>\n",
       "      <td>...</td>\n",
       "      <td>...</td>\n",
       "    </tr>\n",
       "    <tr>\n",
       "      <th>2023-09-17</th>\n",
       "      <td>0.969081</td>\n",
       "      <td>2.111584</td>\n",
       "      <td>0.645303</td>\n",
       "      <td>1.825053</td>\n",
       "      <td>0.650547</td>\n",
       "      <td>1.104857</td>\n",
       "      <td>1.492064</td>\n",
       "      <td>0.833497</td>\n",
       "      <td>1.170558</td>\n",
       "      <td>1.474700</td>\n",
       "      <td>...</td>\n",
       "      <td>0.651970</td>\n",
       "      <td>1.500431</td>\n",
       "      <td>0.358072</td>\n",
       "      <td>1.398827</td>\n",
       "      <td>1.506513</td>\n",
       "      <td>1.224801</td>\n",
       "      <td>1.196638</td>\n",
       "      <td>1.406927</td>\n",
       "      <td>1.032852</td>\n",
       "      <td>1.695149</td>\n",
       "    </tr>\n",
       "    <tr>\n",
       "      <th>2023-09-18</th>\n",
       "      <td>1.002582</td>\n",
       "      <td>1.980324</td>\n",
       "      <td>0.633582</td>\n",
       "      <td>1.844166</td>\n",
       "      <td>0.640576</td>\n",
       "      <td>1.037093</td>\n",
       "      <td>1.492663</td>\n",
       "      <td>0.797939</td>\n",
       "      <td>1.136267</td>\n",
       "      <td>1.479123</td>\n",
       "      <td>...</td>\n",
       "      <td>0.647200</td>\n",
       "      <td>1.517439</td>\n",
       "      <td>0.354318</td>\n",
       "      <td>1.337376</td>\n",
       "      <td>1.514155</td>\n",
       "      <td>1.227796</td>\n",
       "      <td>1.213387</td>\n",
       "      <td>1.438251</td>\n",
       "      <td>1.019330</td>\n",
       "      <td>1.695000</td>\n",
       "    </tr>\n",
       "    <tr>\n",
       "      <th>2023-09-19</th>\n",
       "      <td>1.028711</td>\n",
       "      <td>2.050401</td>\n",
       "      <td>0.665521</td>\n",
       "      <td>1.911360</td>\n",
       "      <td>0.647866</td>\n",
       "      <td>1.049712</td>\n",
       "      <td>1.452063</td>\n",
       "      <td>0.822968</td>\n",
       "      <td>1.183009</td>\n",
       "      <td>1.383027</td>\n",
       "      <td>...</td>\n",
       "      <td>0.639637</td>\n",
       "      <td>1.551241</td>\n",
       "      <td>0.319752</td>\n",
       "      <td>1.225935</td>\n",
       "      <td>1.540453</td>\n",
       "      <td>1.263176</td>\n",
       "      <td>1.196627</td>\n",
       "      <td>1.479403</td>\n",
       "      <td>1.038209</td>\n",
       "      <td>1.739489</td>\n",
       "    </tr>\n",
       "    <tr>\n",
       "      <th>2023-09-20</th>\n",
       "      <td>1.033234</td>\n",
       "      <td>2.017527</td>\n",
       "      <td>0.680792</td>\n",
       "      <td>1.949135</td>\n",
       "      <td>0.593140</td>\n",
       "      <td>1.058989</td>\n",
       "      <td>1.558955</td>\n",
       "      <td>0.804352</td>\n",
       "      <td>1.311136</td>\n",
       "      <td>1.447386</td>\n",
       "      <td>...</td>\n",
       "      <td>0.632869</td>\n",
       "      <td>1.570763</td>\n",
       "      <td>0.327159</td>\n",
       "      <td>1.281085</td>\n",
       "      <td>1.560686</td>\n",
       "      <td>1.275190</td>\n",
       "      <td>1.197183</td>\n",
       "      <td>1.460379</td>\n",
       "      <td>1.004456</td>\n",
       "      <td>1.742355</td>\n",
       "    </tr>\n",
       "    <tr>\n",
       "      <th>2023-09-21</th>\n",
       "      <td>0.982461</td>\n",
       "      <td>2.041111</td>\n",
       "      <td>0.663049</td>\n",
       "      <td>1.983432</td>\n",
       "      <td>0.578525</td>\n",
       "      <td>0.985459</td>\n",
       "      <td>1.464927</td>\n",
       "      <td>0.817668</td>\n",
       "      <td>1.264439</td>\n",
       "      <td>1.461855</td>\n",
       "      <td>...</td>\n",
       "      <td>0.642700</td>\n",
       "      <td>1.638552</td>\n",
       "      <td>0.325098</td>\n",
       "      <td>1.312697</td>\n",
       "      <td>1.633810</td>\n",
       "      <td>1.275848</td>\n",
       "      <td>1.193040</td>\n",
       "      <td>1.358653</td>\n",
       "      <td>1.015903</td>\n",
       "      <td>1.638468</td>\n",
       "    </tr>\n",
       "  </tbody>\n",
       "</table>\n",
       "<p>93 rows × 10000 columns</p>\n",
       "</div>"
      ],
      "text/plain": [
       "                0         1         2         3         4         5     \\\n",
       "2023-06-21  0.952460  0.993452  1.030114  1.053040  1.026493  0.973901   \n",
       "2023-06-22  0.963103  1.045809  1.061264  1.074809  1.100153  0.984120   \n",
       "2023-06-23  0.949016  1.109686  1.045014  1.077777  1.045523  1.021012   \n",
       "2023-06-24  0.955323  1.169721  1.113765  1.049181  0.998140  1.040530   \n",
       "2023-06-25  0.958501  1.255096  1.109862  0.991731  1.065659  1.010215   \n",
       "...              ...       ...       ...       ...       ...       ...   \n",
       "2023-09-17  0.969081  2.111584  0.645303  1.825053  0.650547  1.104857   \n",
       "2023-09-18  1.002582  1.980324  0.633582  1.844166  0.640576  1.037093   \n",
       "2023-09-19  1.028711  2.050401  0.665521  1.911360  0.647866  1.049712   \n",
       "2023-09-20  1.033234  2.017527  0.680792  1.949135  0.593140  1.058989   \n",
       "2023-09-21  0.982461  2.041111  0.663049  1.983432  0.578525  0.985459   \n",
       "\n",
       "                6         7         8         9     ...      9990      9991  \\\n",
       "2023-06-21  1.034642  0.976206  1.038797  0.996053  ...  1.007382  1.085302   \n",
       "2023-06-22  1.033604  0.966022  1.001140  0.983598  ...  1.009427  1.119084   \n",
       "2023-06-23  1.055286  0.926905  0.932650  1.017931  ...  1.024913  1.181715   \n",
       "2023-06-24  1.050657  0.949886  0.947900  0.950616  ...  1.037036  1.247508   \n",
       "2023-06-25  1.033428  0.980755  0.947229  0.980198  ...  0.988041  1.258898   \n",
       "...              ...       ...       ...       ...  ...       ...       ...   \n",
       "2023-09-17  1.492064  0.833497  1.170558  1.474700  ...  0.651970  1.500431   \n",
       "2023-09-18  1.492663  0.797939  1.136267  1.479123  ...  0.647200  1.517439   \n",
       "2023-09-19  1.452063  0.822968  1.183009  1.383027  ...  0.639637  1.551241   \n",
       "2023-09-20  1.558955  0.804352  1.311136  1.447386  ...  0.632869  1.570763   \n",
       "2023-09-21  1.464927  0.817668  1.264439  1.461855  ...  0.642700  1.638552   \n",
       "\n",
       "                9992      9993      9994      9995      9996      9997  \\\n",
       "2023-06-21  1.022289  1.012248  0.980881  1.064385  0.918148  1.039424   \n",
       "2023-06-22  1.001450  1.069333  0.925967  1.135047  0.890607  1.003097   \n",
       "2023-06-23  0.970922  1.070028  0.878547  1.108666  0.843620  1.029893   \n",
       "2023-06-24  0.970286  1.102880  0.908385  1.050062  0.791056  1.021317   \n",
       "2023-06-25  0.992291  1.076360  0.957755  1.059005  0.803213  1.067942   \n",
       "...              ...       ...       ...       ...       ...       ...   \n",
       "2023-09-17  0.358072  1.398827  1.506513  1.224801  1.196638  1.406927   \n",
       "2023-09-18  0.354318  1.337376  1.514155  1.227796  1.213387  1.438251   \n",
       "2023-09-19  0.319752  1.225935  1.540453  1.263176  1.196627  1.479403   \n",
       "2023-09-20  0.327159  1.281085  1.560686  1.275190  1.197183  1.460379   \n",
       "2023-09-21  0.325098  1.312697  1.633810  1.275848  1.193040  1.358653   \n",
       "\n",
       "                9998      9999  \n",
       "2023-06-21  0.993233  1.068841  \n",
       "2023-06-22  0.945081  1.127502  \n",
       "2023-06-23  0.939103  1.137034  \n",
       "2023-06-24  0.895021  1.232571  \n",
       "2023-06-25  0.882972  1.100493  \n",
       "...              ...       ...  \n",
       "2023-09-17  1.032852  1.695149  \n",
       "2023-09-18  1.019330  1.695000  \n",
       "2023-09-19  1.038209  1.739489  \n",
       "2023-09-20  1.004456  1.742355  \n",
       "2023-09-21  1.015903  1.638468  \n",
       "\n",
       "[93 rows x 10000 columns]"
      ]
     },
     "execution_count": 46,
     "metadata": {},
     "output_type": "execute_result"
    }
   ],
   "source": [
    "# Multiplicación sucesiva\n",
    "(R_TSLA+1).cumprod()"
   ]
  },
  {
   "cell_type": "code",
   "execution_count": 65,
   "metadata": {
    "collapsed": true
   },
   "outputs": [
    {
     "data": {
      "text/html": [
       "<div>\n",
       "<style scoped>\n",
       "    .dataframe tbody tr th:only-of-type {\n",
       "        vertical-align: middle;\n",
       "    }\n",
       "\n",
       "    .dataframe tbody tr th {\n",
       "        vertical-align: top;\n",
       "    }\n",
       "\n",
       "    .dataframe thead th {\n",
       "        text-align: right;\n",
       "    }\n",
       "</style>\n",
       "<table border=\"1\" class=\"dataframe\">\n",
       "  <thead>\n",
       "    <tr style=\"text-align: right;\">\n",
       "      <th></th>\n",
       "      <th>0</th>\n",
       "      <th>1</th>\n",
       "      <th>2</th>\n",
       "      <th>3</th>\n",
       "      <th>4</th>\n",
       "      <th>5</th>\n",
       "      <th>6</th>\n",
       "      <th>7</th>\n",
       "      <th>8</th>\n",
       "      <th>9</th>\n",
       "      <th>...</th>\n",
       "      <th>99990</th>\n",
       "      <th>99991</th>\n",
       "      <th>99992</th>\n",
       "      <th>99993</th>\n",
       "      <th>99994</th>\n",
       "      <th>99995</th>\n",
       "      <th>99996</th>\n",
       "      <th>99997</th>\n",
       "      <th>99998</th>\n",
       "      <th>99999</th>\n",
       "    </tr>\n",
       "  </thead>\n",
       "  <tbody>\n",
       "    <tr>\n",
       "      <th>2023-06-21</th>\n",
       "      <td>272.711871</td>\n",
       "      <td>246.438859</td>\n",
       "      <td>257.089622</td>\n",
       "      <td>266.336834</td>\n",
       "      <td>254.916196</td>\n",
       "      <td>248.772686</td>\n",
       "      <td>250.556308</td>\n",
       "      <td>252.652699</td>\n",
       "      <td>263.531249</td>\n",
       "      <td>260.599149</td>\n",
       "      <td>...</td>\n",
       "      <td>280.299261</td>\n",
       "      <td>269.260811</td>\n",
       "      <td>249.111749</td>\n",
       "      <td>270.544474</td>\n",
       "      <td>273.645160</td>\n",
       "      <td>263.447619</td>\n",
       "      <td>263.501549</td>\n",
       "      <td>259.495401</td>\n",
       "      <td>244.358174</td>\n",
       "      <td>268.399396</td>\n",
       "    </tr>\n",
       "    <tr>\n",
       "      <th>2023-06-22</th>\n",
       "      <td>271.316250</td>\n",
       "      <td>254.560394</td>\n",
       "      <td>266.177434</td>\n",
       "      <td>269.985252</td>\n",
       "      <td>262.065641</td>\n",
       "      <td>247.420977</td>\n",
       "      <td>261.386551</td>\n",
       "      <td>254.314263</td>\n",
       "      <td>247.505314</td>\n",
       "      <td>253.244805</td>\n",
       "      <td>...</td>\n",
       "      <td>287.677222</td>\n",
       "      <td>247.822892</td>\n",
       "      <td>263.598999</td>\n",
       "      <td>276.309561</td>\n",
       "      <td>267.102196</td>\n",
       "      <td>265.451872</td>\n",
       "      <td>258.150912</td>\n",
       "      <td>267.784149</td>\n",
       "      <td>255.536856</td>\n",
       "      <td>276.575073</td>\n",
       "    </tr>\n",
       "    <tr>\n",
       "      <th>2023-06-23</th>\n",
       "      <td>280.323389</td>\n",
       "      <td>266.410373</td>\n",
       "      <td>248.645198</td>\n",
       "      <td>263.392723</td>\n",
       "      <td>259.467793</td>\n",
       "      <td>252.828597</td>\n",
       "      <td>267.296622</td>\n",
       "      <td>254.811526</td>\n",
       "      <td>236.695924</td>\n",
       "      <td>242.892540</td>\n",
       "      <td>...</td>\n",
       "      <td>298.275499</td>\n",
       "      <td>238.205858</td>\n",
       "      <td>257.631364</td>\n",
       "      <td>283.405760</td>\n",
       "      <td>255.061026</td>\n",
       "      <td>265.344646</td>\n",
       "      <td>255.540042</td>\n",
       "      <td>252.458964</td>\n",
       "      <td>262.838862</td>\n",
       "      <td>288.128245</td>\n",
       "    </tr>\n",
       "    <tr>\n",
       "      <th>2023-06-24</th>\n",
       "      <td>283.014527</td>\n",
       "      <td>263.259696</td>\n",
       "      <td>258.634479</td>\n",
       "      <td>262.371104</td>\n",
       "      <td>278.870873</td>\n",
       "      <td>241.567288</td>\n",
       "      <td>271.526085</td>\n",
       "      <td>255.858184</td>\n",
       "      <td>244.521378</td>\n",
       "      <td>244.212605</td>\n",
       "      <td>...</td>\n",
       "      <td>285.676001</td>\n",
       "      <td>235.439498</td>\n",
       "      <td>239.963487</td>\n",
       "      <td>278.240513</td>\n",
       "      <td>273.218935</td>\n",
       "      <td>270.540907</td>\n",
       "      <td>267.146115</td>\n",
       "      <td>254.409104</td>\n",
       "      <td>260.761322</td>\n",
       "      <td>277.351052</td>\n",
       "    </tr>\n",
       "    <tr>\n",
       "      <th>2023-06-25</th>\n",
       "      <td>292.554106</td>\n",
       "      <td>255.427769</td>\n",
       "      <td>251.396551</td>\n",
       "      <td>268.158124</td>\n",
       "      <td>269.238892</td>\n",
       "      <td>258.142033</td>\n",
       "      <td>278.130363</td>\n",
       "      <td>261.758568</td>\n",
       "      <td>247.752335</td>\n",
       "      <td>238.437553</td>\n",
       "      <td>...</td>\n",
       "      <td>274.973345</td>\n",
       "      <td>244.752476</td>\n",
       "      <td>235.012194</td>\n",
       "      <td>287.978426</td>\n",
       "      <td>265.989232</td>\n",
       "      <td>270.327406</td>\n",
       "      <td>256.619072</td>\n",
       "      <td>262.881318</td>\n",
       "      <td>265.718014</td>\n",
       "      <td>270.256076</td>\n",
       "    </tr>\n",
       "  </tbody>\n",
       "</table>\n",
       "<p>5 rows × 100000 columns</p>\n",
       "</div>"
      ],
      "text/plain": [
       "                 0           1           2           3           4      \\\n",
       "2023-06-21  272.711871  246.438859  257.089622  266.336834  254.916196   \n",
       "2023-06-22  271.316250  254.560394  266.177434  269.985252  262.065641   \n",
       "2023-06-23  280.323389  266.410373  248.645198  263.392723  259.467793   \n",
       "2023-06-24  283.014527  263.259696  258.634479  262.371104  278.870873   \n",
       "2023-06-25  292.554106  255.427769  251.396551  268.158124  269.238892   \n",
       "\n",
       "                 5           6           7           8           9      ...  \\\n",
       "2023-06-21  248.772686  250.556308  252.652699  263.531249  260.599149  ...   \n",
       "2023-06-22  247.420977  261.386551  254.314263  247.505314  253.244805  ...   \n",
       "2023-06-23  252.828597  267.296622  254.811526  236.695924  242.892540  ...   \n",
       "2023-06-24  241.567288  271.526085  255.858184  244.521378  244.212605  ...   \n",
       "2023-06-25  258.142033  278.130363  261.758568  247.752335  238.437553  ...   \n",
       "\n",
       "                 99990       99991       99992       99993       99994  \\\n",
       "2023-06-21  280.299261  269.260811  249.111749  270.544474  273.645160   \n",
       "2023-06-22  287.677222  247.822892  263.598999  276.309561  267.102196   \n",
       "2023-06-23  298.275499  238.205858  257.631364  283.405760  255.061026   \n",
       "2023-06-24  285.676001  235.439498  239.963487  278.240513  273.218935   \n",
       "2023-06-25  274.973345  244.752476  235.012194  287.978426  265.989232   \n",
       "\n",
       "                 99995       99996       99997       99998       99999  \n",
       "2023-06-21  263.447619  263.501549  259.495401  244.358174  268.399396  \n",
       "2023-06-22  265.451872  258.150912  267.784149  255.536856  276.575073  \n",
       "2023-06-23  265.344646  255.540042  252.458964  262.838862  288.128245  \n",
       "2023-06-24  270.540907  267.146115  254.409104  260.761322  277.351052  \n",
       "2023-06-25  270.327406  256.619072  262.881318  265.718014  270.256076  \n",
       "\n",
       "[5 rows x 100000 columns]"
      ]
     },
     "execution_count": 65,
     "metadata": {},
     "output_type": "execute_result"
    }
   ],
   "source": [
    "P_TSLA=datos['TSLA'].iloc[-1]*(R_TSLA+1).cumprod()\n",
    "P_TSLA.head()"
   ]
  },
  {
   "cell_type": "code",
   "execution_count": 66,
   "metadata": {},
   "outputs": [],
   "source": [
    "P_META=datos['META'].iloc[-1]*(R_META+1).cumprod()\n",
    "P_SP=datos['^GSPC'].iloc[-1]*(R_SP+1).cumprod()"
   ]
  },
  {
   "cell_type": "markdown",
   "metadata": {},
   "source": [
    "## 2.3 Probabilidad Precio-Umbral\n",
    "\n",
    "Ya que tenemos muchos escenarios de precios proyectados, podemos ver varias cosas. Por ejemplo, ¿cuál es la probabilidad de que el precio de cierre sobrepase algún valor umbral en algún momento?"
   ]
  },
  {
   "cell_type": "code",
   "execution_count": 49,
   "metadata": {},
   "outputs": [
    {
     "data": {
      "text/plain": [
       "META      309.100000\n",
       "TSLA      286.594009\n",
       "^GSPC    4850.548828\n",
       "Name: 2023-06-16 00:00:00, dtype: float64"
      ]
     },
     "execution_count": 49,
     "metadata": {},
     "output_type": "execute_result"
    }
   ],
   "source": [
    "# Umbral a superar\n",
    "U=datos.iloc[-1]*1.1\n",
    "U"
   ]
  },
  {
   "cell_type": "code",
   "execution_count": 67,
   "metadata": {},
   "outputs": [
    {
     "data": {
      "text/html": [
       "<div>\n",
       "<style scoped>\n",
       "    .dataframe tbody tr th:only-of-type {\n",
       "        vertical-align: middle;\n",
       "    }\n",
       "\n",
       "    .dataframe tbody tr th {\n",
       "        vertical-align: top;\n",
       "    }\n",
       "\n",
       "    .dataframe thead th {\n",
       "        text-align: right;\n",
       "    }\n",
       "</style>\n",
       "<table border=\"1\" class=\"dataframe\">\n",
       "  <thead>\n",
       "    <tr style=\"text-align: right;\">\n",
       "      <th></th>\n",
       "      <th>0</th>\n",
       "      <th>1</th>\n",
       "      <th>2</th>\n",
       "      <th>3</th>\n",
       "      <th>4</th>\n",
       "      <th>5</th>\n",
       "      <th>6</th>\n",
       "      <th>7</th>\n",
       "      <th>8</th>\n",
       "      <th>9</th>\n",
       "      <th>...</th>\n",
       "      <th>99990</th>\n",
       "      <th>99991</th>\n",
       "      <th>99992</th>\n",
       "      <th>99993</th>\n",
       "      <th>99994</th>\n",
       "      <th>99995</th>\n",
       "      <th>99996</th>\n",
       "      <th>99997</th>\n",
       "      <th>99998</th>\n",
       "      <th>99999</th>\n",
       "    </tr>\n",
       "  </thead>\n",
       "  <tbody>\n",
       "    <tr>\n",
       "      <th>2023-06-21</th>\n",
       "      <td>False</td>\n",
       "      <td>False</td>\n",
       "      <td>False</td>\n",
       "      <td>False</td>\n",
       "      <td>False</td>\n",
       "      <td>False</td>\n",
       "      <td>False</td>\n",
       "      <td>False</td>\n",
       "      <td>False</td>\n",
       "      <td>False</td>\n",
       "      <td>...</td>\n",
       "      <td>False</td>\n",
       "      <td>False</td>\n",
       "      <td>False</td>\n",
       "      <td>False</td>\n",
       "      <td>False</td>\n",
       "      <td>False</td>\n",
       "      <td>False</td>\n",
       "      <td>False</td>\n",
       "      <td>False</td>\n",
       "      <td>False</td>\n",
       "    </tr>\n",
       "    <tr>\n",
       "      <th>2023-06-22</th>\n",
       "      <td>False</td>\n",
       "      <td>False</td>\n",
       "      <td>False</td>\n",
       "      <td>False</td>\n",
       "      <td>False</td>\n",
       "      <td>False</td>\n",
       "      <td>False</td>\n",
       "      <td>False</td>\n",
       "      <td>False</td>\n",
       "      <td>False</td>\n",
       "      <td>...</td>\n",
       "      <td>True</td>\n",
       "      <td>False</td>\n",
       "      <td>False</td>\n",
       "      <td>False</td>\n",
       "      <td>False</td>\n",
       "      <td>False</td>\n",
       "      <td>False</td>\n",
       "      <td>False</td>\n",
       "      <td>False</td>\n",
       "      <td>False</td>\n",
       "    </tr>\n",
       "    <tr>\n",
       "      <th>2023-06-23</th>\n",
       "      <td>False</td>\n",
       "      <td>False</td>\n",
       "      <td>False</td>\n",
       "      <td>False</td>\n",
       "      <td>False</td>\n",
       "      <td>False</td>\n",
       "      <td>False</td>\n",
       "      <td>False</td>\n",
       "      <td>False</td>\n",
       "      <td>False</td>\n",
       "      <td>...</td>\n",
       "      <td>True</td>\n",
       "      <td>False</td>\n",
       "      <td>False</td>\n",
       "      <td>False</td>\n",
       "      <td>False</td>\n",
       "      <td>False</td>\n",
       "      <td>False</td>\n",
       "      <td>False</td>\n",
       "      <td>False</td>\n",
       "      <td>True</td>\n",
       "    </tr>\n",
       "  </tbody>\n",
       "</table>\n",
       "<p>3 rows × 100000 columns</p>\n",
       "</div>"
      ],
      "text/plain": [
       "            0      1      2      3      4      5      6      7      8      \\\n",
       "2023-06-21  False  False  False  False  False  False  False  False  False   \n",
       "2023-06-22  False  False  False  False  False  False  False  False  False   \n",
       "2023-06-23  False  False  False  False  False  False  False  False  False   \n",
       "\n",
       "            9      ...  99990  99991  99992  99993  99994  99995  99996  \\\n",
       "2023-06-21  False  ...  False  False  False  False  False  False  False   \n",
       "2023-06-22  False  ...   True  False  False  False  False  False  False   \n",
       "2023-06-23  False  ...   True  False  False  False  False  False  False   \n",
       "\n",
       "            99997  99998  99999  \n",
       "2023-06-21  False  False  False  \n",
       "2023-06-22  False  False  False  \n",
       "2023-06-23  False  False   True  \n",
       "\n",
       "[3 rows x 100000 columns]"
      ]
     },
     "execution_count": 67,
     "metadata": {},
     "output_type": "execute_result"
    }
   ],
   "source": [
    "# Variables de Bernoulli\n",
    "B_TSLA=P_TSLA>U['TSLA']\n",
    "B_META=P_META>U['META']\n",
    "B_SP=P_SP>U['^GSPC']\n",
    "\n",
    "B_TSLA.head(3)"
   ]
  },
  {
   "cell_type": "code",
   "execution_count": 68,
   "metadata": {
    "collapsed": true
   },
   "outputs": [
    {
     "data": {
      "text/plain": [
       "<Axes: >"
      ]
     },
     "execution_count": 68,
     "metadata": {},
     "output_type": "execute_result"
    },
    {
     "data": {
      "image/png": "[encoded data removed]",
      "text/plain": [
       "<Figure size 640x480 with 1 Axes>"
      ]
     },
     "metadata": {},
     "output_type": "display_data"
    }
   ],
   "source": [
    "M_TSLA=B_TSLA.mean(axis=1)\n",
    "M_TSLA.plot(grid=True)"
   ]
  },
  {
   "cell_type": "code",
   "execution_count": 69,
   "metadata": {},
   "outputs": [
    {
     "data": {
      "text/plain": [
       "<Axes: >"
      ]
     },
     "execution_count": 69,
     "metadata": {},
     "output_type": "execute_result"
    },
    {
     "data": {
      "image/png": "[encoded data removed]",
      "text/plain": [
       "<Figure size 640x480 with 1 Axes>"
      ]
     },
     "metadata": {},
     "output_type": "display_data"
    }
   ],
   "source": [
    "M_META=B_META.mean(axis=1)\n",
    "M_SP=B_SP.mean(axis=1)\n",
    "\n",
    "M_META.plot(label='META',legend=1)\n",
    "M_SP.plot(label='^GSPC',legend=1)\n",
    "M_TSLA.plot(grid=True,label='TSLA',legend=1)"
   ]
  },
  {
   "cell_type": "code",
   "execution_count": 58,
   "metadata": {},
   "outputs": [
    {
     "data": {
      "text/plain": [
       "(META     0.000766\n",
       " TSLA     0.002386\n",
       " ^GSPC    0.000475\n",
       " dtype: float64,\n",
       " META     0.026548\n",
       " TSLA     0.039566\n",
       " ^GSPC    0.012848\n",
       " dtype: float64)"
      ]
     },
     "execution_count": 58,
     "metadata": {},
     "output_type": "execute_result"
    }
   ],
   "source": [
    "R.mean(),R.std()"
   ]
  },
  {
   "cell_type": "markdown",
   "metadata": {},
   "source": [
    "___\n",
    "Entonces, ya aprendimos a bajar datos con pandas-datareader. En específico, a partir de los precios de cierre ajustados obtuvimos los rendimientos diarios.\n",
    "\n",
    "Suponiendo que los rendimientos diarios son un proceso estocástico estacionario de distribución normal, pudimos caracaterizarlo y proyectar varios escenarios de evolución de los precios (Montecarlo).\n",
    "\n",
    "Con estas proyecciones pudimos calcular probabilidades de sobrepasar cierto precio umbral: toma de decisiones."
   ]
  }
 ],
 "metadata": {
  "kernelspec": {
   "display_name": "Python 3 (ipykernel)",
   "language": "python",
   "name": "python3"
  },
  "language_info": {
   "codemirror_mode": {
    "name": "ipython",
    "version": 3
   },
   "file_extension": ".py",
   "mimetype": "text/x-python",
   "name": "python",
   "nbconvert_exporter": "python",
   "pygments_lexer": "ipython3",
   "version": "3.8.16"
  }
 },
 "nbformat": 4,
 "nbformat_minor": 2
}
