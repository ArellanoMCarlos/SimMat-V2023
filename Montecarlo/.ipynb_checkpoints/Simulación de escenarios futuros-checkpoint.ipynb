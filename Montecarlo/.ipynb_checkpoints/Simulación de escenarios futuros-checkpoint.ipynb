{
 "cells": [
  {
   "cell_type": "markdown",
   "metadata": {},
   "source": [
    "# Aplicando Python para análisis de precios"
   ]
  },
  {
   "cell_type": "markdown",
   "metadata": {},
   "source": [
    "<img style=\"float: right; margin: 0px 0px 15px 15px;\" src=\"https://upload.wikimedia.org/wikipedia/commons/0/0a/Python.svg\" width=\"300px\" height=\"100px\" />\n",
    "\n",
    "> Veremos un caso de aplicación de simulación montecarlo en la toma de decisiones. Para lograr este objetivo, primero veremos como manipular datos con *pandas*, tanto desde un archivo local de excel como remotamente desde Yahoo Finance.\n",
    "\n",
    "> Python Data Analysis Library: pandas es una librería de código abierto, fácil de usar y que provee alto rendimiento en structuras de datos y herramientas de análisis de datos para el lenguaje de programación Python.\n",
    "\n",
    "**Referencias:**\n",
    "- http://pandas.pydata.org/\n",
    "- http://www.learndatasci.com/python-finance-part-yahoo-finance-api-pandas-matplotlib/\n",
    "- https://www.datacamp.com/community/tutorials/python-excel-tutorial"
   ]
  },
  {
   "cell_type": "markdown",
   "metadata": {},
   "source": [
    "## 0. Motivación\n",
    "\n",
    "<img style=\"float: right; margin: 0px 0px 15px 15px;\" src=\"https://upload.wikimedia.org/wikipedia/commons/d/d7/Philippine-stock-market-board.jpg\" width=\"400px\" height=\"125px\" />\n",
    "\n",
    "Hace una década, los instrumentos financieros estaban en la cúspide de la popularidad. Las instituciones financieras de todo el mundo estaban negociando miles de millones de dólares de estos instrumentos a diario, y los analistas cuantitativos estaban modelándolos utilizando el cálculo estocástico y el poderoso `C++`.\n",
    "\n",
    "Sin embargo, el avance en los últimos años ha sido impresionante y las cosas han cambiado. Por una parte, la [crisis financiera del 2008](https://es.wikipedia.org/wiki/Crisis_financiera_de_2008) fue producida por los instrumentos financieros llamados *derivados*. Por otra parte, los volúmenes transaccionales han bajado y la demanda de modelado con `C++` se ha marchitado con ellos. Además, un nuevo jugador entró en la competencia... `¡Python!`\n",
    "\n",
    "`Python` ha estado ganando muchos seguidores en la industria financiera en los últimos años y con razón. No en vano, junto a `R` son los lenguajes de programación más utilizados en cuanto a análisis financiero."
   ]
  },
  {
   "cell_type": "markdown",
   "metadata": {},
   "source": [
    "# 1. Descarga, manejo y análisis de datos\n",
    "Para esto utilizaremos el paquete *yfinance*.\n",
    "\n",
    "**Nota**: Usualmente, las distribuciones de Python no cuentan, por defecto, con el paquete *yfinance*. Por lo que será necesario instalarlo aparte:\n",
    "\n",
    "- buscar en inicio \"Anaconda prompt\" y ejecutarlo como administrador;\n",
    "- el siguiente comando instala el paquete en Anaconda: `conda install yfinance`;\n",
    "\n",
    "otra forma, desde el notebook\n",
    "- `!pip install yfinance -y`\n",
    "\n",
    "- una vez finalice la instalación correr el comando: `conda list`, y buscar que sí se haya instalado yfinance\n"
   ]
  },
  {
   "cell_type": "code",
   "execution_count": 1,
   "metadata": {
    "collapsed": true
   },
   "outputs": [
    {
     "name": "stdout",
     "output_type": "stream",
     "text": [
      "# packages in environment at C:\\Users\\carlo\\anaconda3:\n",
      "#\n",
      "# Name                    Version                   Build  Channel\n",
      "_anaconda_depends         2023.03                  py38_0  \n",
      "_ipyw_jlab_nb_ext_conf    0.1.0                    py38_0  \n",
      "_tflow_select             2.3.0                     eigen  \n",
      "abseil-cpp                20211102.0           hd77b12b_0  \n",
      "absl-py                   1.3.0            py38haa95532_0  \n",
      "aiohttp                   3.8.3            py38h2bbff1b_0  \n",
      "aiosignal                 1.2.0              pyhd3eb1b0_0  \n",
      "alabaster                 0.7.12             pyhd3eb1b0_0  \n",
      "anaconda                  custom                   py38_1  \n",
      "anaconda-client           1.11.2           py38haa95532_0  \n",
      "anaconda-navigator        2.4.0            py38haa95532_0  \n",
      "anaconda-project          0.11.1           py38haa95532_0  \n",
      "anyio                     3.5.0            py38haa95532_0  \n",
      "appdirs                   1.4.4              pyhd3eb1b0_0  \n",
      "argon2-cffi               21.3.0             pyhd3eb1b0_0  \n",
      "argon2-cffi-bindings      21.2.0           py38h2bbff1b_0  \n",
      "arrow                     1.2.3            py38haa95532_1  \n",
      "arrow-cpp                 11.0.0           py38h3577439_0  \n",
      "astor                     0.8.1            py38haa95532_0  \n",
      "astroid                   2.14.2           py38haa95532_0  \n",
      "astropy                   5.1              py38h080aedc_0  \n",
      "asttokens                 2.0.5              pyhd3eb1b0_0  \n",
      "astunparse                1.6.3                      py_0  \n",
      "async-timeout             4.0.2            py38haa95532_0  \n",
      "atomicwrites              1.4.0                      py_0  \n",
      "attrs                     22.1.0           py38haa95532_0  \n",
      "automat                   20.2.0                     py_0  \n",
      "autopep8                  1.6.0              pyhd3eb1b0_1  \n",
      "aws-c-common              0.4.57               ha925a31_1  \n",
      "aws-c-event-stream        0.1.6                hd77b12b_5  \n",
      "aws-checksums             0.1.9                ha925a31_0  \n",
      "aws-sdk-cpp               1.8.185              hd77b12b_0  \n",
      "babel                     2.11.0           py38haa95532_0  \n",
      "backcall                  0.2.0              pyhd3eb1b0_0  \n",
      "backports                 1.1                pyhd3eb1b0_0  \n",
      "backports.functools_lru_cache 1.6.4              pyhd3eb1b0_0  \n",
      "backports.tempfile        1.0                pyhd3eb1b0_1  \n",
      "backports.weakref         1.0.post1                  py_1  \n",
      "bcrypt                    3.2.0            py38h2bbff1b_1  \n",
      "beautifulsoup4            4.12.2           py38haa95532_0  \n",
      "binaryornot               0.4.4              pyhd3eb1b0_1  \n",
      "black                     23.3.0           py38haa95532_0  \n",
      "blas                      1.0                         mkl  \n",
      "bleach                    4.1.0              pyhd3eb1b0_0  \n",
      "blinker                   1.4              py38haa95532_0  \n",
      "blosc                     1.21.3               h6c2663c_0  \n",
      "bokeh                     2.4.3            py38haa95532_0  \n",
      "boost-cpp                 1.73.0              h2bbff1b_12  \n",
      "bottleneck                1.3.5            py38h080aedc_0  \n",
      "brotli                    1.0.9                h2bbff1b_7  \n",
      "brotli-bin                1.0.9                h2bbff1b_7  \n",
      "brotlipy                  0.7.0           py38h2bbff1b_1003  \n",
      "bzip2                     1.0.8                he774522_0  \n",
      "c-ares                    1.19.0               h2bbff1b_0  \n",
      "ca-certificates           2023.01.10           haa95532_0  \n",
      "cachetools                4.2.2              pyhd3eb1b0_0  \n",
      "certifi                   2023.5.7         py38haa95532_0  \n",
      "cffi                      1.15.1           py38h2bbff1b_3  \n",
      "cfitsio                   3.470                h2bbff1b_7  \n",
      "chardet                   4.0.0           py38haa95532_1003  \n",
      "charls                    2.2.0                h6c2663c_0  \n",
      "charset-normalizer        2.0.4              pyhd3eb1b0_0  \n",
      "click                     8.0.4            py38haa95532_0  \n",
      "cloudpickle               2.2.1            py38haa95532_0  \n",
      "clyent                    1.2.2                    py38_1  \n",
      "colorama                  0.4.6            py38haa95532_0  \n",
      "colorcet                  3.0.1            py38haa95532_0  \n",
      "comm                      0.1.2            py38haa95532_0  \n",
      "conda                     4.12.0           py38haa95532_0  \n",
      "conda-build               3.21.4           py38haa95532_0  \n",
      "conda-content-trust       0.1.3            py38haa95532_0  \n",
      "conda-env                 2.6.0                         1  \n",
      "conda-pack                0.6.0              pyhd3eb1b0_0  \n",
      "conda-package-handling    2.1.0            py38haa95532_0  \n",
      "conda-package-streaming   0.8.0            py38haa95532_0  \n",
      "conda-repo-cli            1.0.41           py38haa95532_0  \n",
      "conda-token               0.4.0              pyhd3eb1b0_0  \n",
      "conda-verify              3.4.2                      py_1  \n",
      "console_shortcut          0.1.1                         4  \n",
      "constantly                15.1.0             pyh2b92418_0  \n",
      "contourpy                 1.0.5            py38h59b6b97_0  \n",
      "cookiecutter              1.7.3              pyhd3eb1b0_0  \n",
      "cryptography              39.0.1           py38h21b164f_0  \n",
      "cssselect                 1.1.0              pyhd3eb1b0_0  \n",
      "curl                      7.87.0               h2bbff1b_0  \n",
      "cycler                    0.11.0             pyhd3eb1b0_0  \n",
      "cytoolz                   0.12.0           py38h2bbff1b_0  \n",
      "daal4py                   2023.1.1         py38h757b272_0  \n",
      "dal                       2023.1.1         h59b6b97_48681  \n",
      "dask                      2023.4.1         py38haa95532_0  \n",
      "dask-core                 2023.4.1         py38haa95532_0  \n",
      "datasets                  2.12.0           py38haa95532_0  \n",
      "datashader                0.14.4           py38haa95532_1  \n",
      "datashape                 0.5.4            py38haa95532_1  \n",
      "debugpy                   1.5.1            py38hd77b12b_0  \n",
      "decorator                 5.1.1              pyhd3eb1b0_0  \n",
      "defusedxml                0.7.1              pyhd3eb1b0_0  \n",
      "deprecation               2.1.0              pyhd3eb1b0_0  \n",
      "diff-match-patch          20200713           pyhd3eb1b0_0  \n",
      "dill                      0.3.6            py38haa95532_0  \n",
      "distributed               2023.4.1         py38haa95532_0  \n",
      "docstring-to-markdown     0.11             py38haa95532_0  \n",
      "docutils                  0.18.1           py38haa95532_3  \n",
      "entrypoints               0.4              py38haa95532_0  \n",
      "et_xmlfile                1.1.0            py38haa95532_0  \n",
      "exceptiongroup            1.0.4            py38haa95532_0  \n",
      "executing                 0.8.3              pyhd3eb1b0_0  \n",
      "ffmpeg                    1.4                      pypi_0    pypi\n",
      "fftw                      3.3.9                h2bbff1b_1  \n",
      "filelock                  3.9.0            py38haa95532_0  \n",
      "flake8                    6.0.0            py38haa95532_0  \n",
      "flask                     2.2.2            py38haa95532_0  \n",
      "fonttools                 4.25.0             pyhd3eb1b0_0  \n",
      "freetype                  2.12.1               ha860e81_0  \n",
      "frozenlist                1.3.3            py38h2bbff1b_0  \n",
      "fsspec                    2023.4.0         py38haa95532_0  \n",
      "future                    0.18.3           py38haa95532_0  \n",
      "gast                      0.4.0                      py_0  \n",
      "gensim                    4.3.0            py38hd77b12b_0  \n",
      "gflags                    2.2.2                ha925a31_0  \n",
      "giflib                    5.2.1                h8cc25b3_3  \n",
      "glib                      2.69.1               h5dc1a3c_2  \n",
      "glob2                     0.7                pyhd3eb1b0_0  \n",
      "glog                      0.5.0                hd77b12b_0  \n",
      "google-auth               2.6.0              pyhd3eb1b0_0  \n",
      "google-auth-oauthlib      0.4.4              pyhd3eb1b0_0  \n",
      "google-pasta              0.2.0              pyhd3eb1b0_0  \n",
      "googleapis-common-protos  1.56.4           py38haa95532_0  \n",
      "greenlet                  2.0.1            py38hd77b12b_0  \n",
      "grpc-cpp                  1.48.2               hf108199_0  \n",
      "grpcio                    1.48.2           py38hf108199_0  \n",
      "gst-plugins-base          1.18.5               h9e645db_0  \n",
      "gstreamer                 1.18.5               hd78058f_0  \n",
      "h5py                      2.10.0           py38h5e291fa_0  \n",
      "hdf5                      1.10.4               h7ebc959_0  \n",
      "heapdict                  1.0.1              pyhd3eb1b0_0  \n",
      "holoviews                 1.16.0           py38haa95532_0  \n",
      "huggingface_hub           0.14.1           py38haa95532_0  \n",
      "hvplot                    0.8.3            py38haa95532_0  \n",
      "hyperlink                 21.0.0             pyhd3eb1b0_0  \n",
      "icc_rt                    2022.1.0             h6049295_2  \n",
      "icu                       58.2                 ha925a31_3  \n",
      "idna                      3.4              py38haa95532_0  \n",
      "imagecodecs               2021.8.26        py38h319e4f4_2  \n",
      "imageio                   2.26.0           py38haa95532_0  \n",
      "imagesize                 1.4.1            py38haa95532_0  \n",
      "imbalanced-learn          0.10.1           py38haa95532_1  \n",
      "importlib-metadata        6.0.0            py38haa95532_0  \n",
      "importlib_metadata        6.0.0                hd3eb1b0_0  \n",
      "importlib_resources       5.2.0              pyhd3eb1b0_1  \n",
      "incremental               21.3.0             pyhd3eb1b0_0  \n",
      "inflection                0.5.1            py38haa95532_0  \n",
      "iniconfig                 1.1.1              pyhd3eb1b0_0  \n",
      "intake                    0.6.8            py38haa95532_0  \n",
      "intel-openmp              2021.4.0          haa95532_3556  \n",
      "intervaltree              3.1.0              pyhd3eb1b0_0  \n",
      "ipykernel                 6.19.2           py38hd4e2768_0  \n",
      "ipython                   8.12.0           py38haa95532_0  \n",
      "ipython_genutils          0.2.0              pyhd3eb1b0_1  \n",
      "ipywidgets                8.0.4            py38haa95532_0  \n",
      "isort                     5.9.3              pyhd3eb1b0_0  \n",
      "itemadapter               0.3.0              pyhd3eb1b0_0  \n",
      "itemloaders               1.0.4              pyhd3eb1b0_1  \n",
      "itsdangerous              2.0.1              pyhd3eb1b0_0  \n",
      "jaraco.classes            3.2.1              pyhd3eb1b0_0  \n",
      "jedi                      0.18.1           py38haa95532_1  \n",
      "jellyfish                 0.9.0            py38h2bbff1b_0  \n",
      "jinja2                    3.1.2            py38haa95532_0  \n",
      "jinja2-time               0.2.0              pyhd3eb1b0_3  \n",
      "jmespath                  0.10.0             pyhd3eb1b0_0  \n",
      "joblib                    1.2.0            py38haa95532_0  \n",
      "jpeg                      9e                   h2bbff1b_1  \n",
      "jq                        1.6                  haa95532_1  \n",
      "json5                     0.9.6              pyhd3eb1b0_0  \n",
      "jsonschema                4.17.3           py38haa95532_0  \n",
      "jupyter                   1.0.0            py38haa95532_8  \n",
      "jupyter-packaging         0.12.0           py38haa95532_1  \n",
      "jupyter_client            8.1.0            py38haa95532_0  \n",
      "jupyter_console           6.6.3            py38haa95532_0  \n",
      "jupyter_core              5.3.0            py38haa95532_0  \n",
      "jupyter_server            1.23.4           py38haa95532_0  \n",
      "jupyterlab                3.5.3            py38haa95532_0  \n",
      "jupyterlab_pygments       0.1.2                      py_0  \n",
      "jupyterlab_server         2.22.0           py38haa95532_0  \n",
      "jupyterlab_widgets        3.0.5            py38haa95532_0  \n",
      "jxrlib                    1.1                  he774522_2  \n",
      "keras                     2.4.3                         0  \n",
      "keras-applications        1.0.8                      py_1  \n",
      "keras-base                2.4.3                      py_0  \n",
      "keras-preprocessing       1.1.2              pyhd3eb1b0_0  \n",
      "keyring                   23.13.1          py38haa95532_0  \n",
      "kiwisolver                1.4.4            py38hd77b12b_0  \n",
      "krb5                      1.19.4               h5b6d351_0  \n",
      "lazy-object-proxy         1.6.0            py38h2bbff1b_0  \n",
      "lazy_loader               0.1              py38haa95532_0  \n",
      "lcms2                     2.12                 h83e58a3_0  \n",
      "lerc                      3.0                  hd77b12b_0  \n",
      "libaec                    1.0.4                h33f27b4_1  \n",
      "libarchive                3.6.2                h2033e3e_1  \n",
      "libboost                  1.73.0              h6c2663c_12  \n",
      "libbrotlicommon           1.0.9                h2bbff1b_7  \n",
      "libbrotlidec              1.0.9                h2bbff1b_7  \n",
      "libbrotlienc              1.0.9                h2bbff1b_7  \n",
      "libclang                  14.0.6          default_hb5a9fac_1  \n",
      "libclang13                14.0.6          default_h8e68704_1  \n",
      "libcurl                   7.87.0               h86230a5_0  \n",
      "libdeflate                1.17                 h2bbff1b_0  \n",
      "libffi                    3.4.4                hd77b12b_0  \n",
      "libiconv                  1.16                 h2bbff1b_2  \n",
      "liblief                   0.12.3               hd77b12b_0  \n",
      "libllvm14                 14.0.6               h4157e71_3  \n",
      "libogg                    1.3.5                h2bbff1b_1  \n",
      "libpng                    1.6.39               h8cc25b3_0  \n",
      "libprotobuf               3.20.3               h23ce68f_0  \n",
      "libsodium                 1.0.18               h62dcd97_0  \n",
      "libspatialindex           1.9.3                h6c2663c_0  \n",
      "libssh2                   1.10.0               hcd4344a_0  \n",
      "libthrift                 0.15.0               he1d8c1a_0  \n",
      "libtiff                   4.5.0                h6c2663c_2  \n",
      "libuv                     1.44.2               h2bbff1b_0  \n",
      "libvorbis                 1.3.7                he774522_0  \n",
      "libwebp                   1.2.4                hbc33d0d_1  \n",
      "libwebp-base              1.2.4                h2bbff1b_1  \n",
      "libxml2                   2.10.3               h0ad7f3c_0  \n",
      "libxslt                   1.1.37               h2bbff1b_0  \n",
      "libzopfli                 1.0.3                ha925a31_0  \n",
      "llvmlite                  0.40.0           py38hf2fb9eb_0  \n",
      "locket                    1.0.0            py38haa95532_0  \n",
      "lxml                      4.9.2            py38h2bbff1b_0  \n",
      "lz4-c                     1.9.4                h2bbff1b_0  \n",
      "lzo                       2.10                 he774522_2  \n",
      "m2w64-libwinpthread-git   5.0.0.4634.697f757               2  \n",
      "markdown                  3.4.1            py38haa95532_0  \n",
      "markupsafe                2.1.1            py38h2bbff1b_0  \n",
      "matplotlib                3.7.1            py38haa95532_1  \n",
      "matplotlib-base           3.7.1            py38hf11a4ad_1  \n",
      "matplotlib-inline         0.1.6            py38haa95532_0  \n",
      "mccabe                    0.7.0              pyhd3eb1b0_0  \n",
      "menuinst                  1.4.19           py38h59b6b97_0  \n",
      "mistune                   0.8.4           py38he774522_1000  \n",
      "mkl                       2021.4.0           haa95532_640  \n",
      "mkl-service               2.4.0            py38h2bbff1b_0  \n",
      "mkl_fft                   1.3.1            py38h277e83a_0  \n",
      "mkl_random                1.2.2            py38hf11a4ad_0  \n",
      "mock                      4.0.3              pyhd3eb1b0_0  \n",
      "more-itertools            8.12.0             pyhd3eb1b0_0  \n",
      "mpmath                    1.2.1            py38haa95532_0  \n",
      "msgpack-python            1.0.3            py38h59b6b97_0  \n",
      "msys2-conda-epoch         20160418                      1  \n",
      "multidict                 6.0.2            py38h2bbff1b_0  \n",
      "multipledispatch          0.6.0                    py38_0  \n",
      "multiprocess              0.70.14          py38haa95532_0  \n",
      "munkres                   1.1.4                      py_0  \n",
      "mypy_extensions           0.4.3            py38haa95532_1  \n",
      "navigator-updater         0.2.1                    py38_0  \n",
      "nbclassic                 0.5.5            py38haa95532_0  \n",
      "nbclient                  0.5.13           py38haa95532_0  \n",
      "nbconvert                 6.5.4            py38haa95532_0  \n",
      "nbformat                  5.7.0            py38haa95532_0  \n",
      "nest-asyncio              1.5.6            py38haa95532_0  \n",
      "networkx                  2.8.4            py38haa95532_1  \n",
      "ninja                     1.10.2               haa95532_5  \n",
      "ninja-base                1.10.2               h6d14046_5  \n",
      "nltk                      3.7                pyhd3eb1b0_0  \n",
      "notebook                  6.5.4            py38haa95532_0  \n",
      "notebook-shim             0.2.2            py38haa95532_0  \n",
      "numba                     0.57.0           py38h4ed8f06_0  \n",
      "numexpr                   2.8.4            py38h5b0cc5e_0  \n",
      "numpy                     1.24.2                   pypi_0    pypi\n",
      "numpy-base                1.24.3           py38h005ec55_0  \n",
      "numpy-financial           1.0.0                    pypi_0    pypi\n",
      "numpydoc                  1.5.0            py38haa95532_0  \n",
      "oauthlib                  3.2.2            py38haa95532_0  \n",
      "openjpeg                  2.4.0                h4fc8c34_0  \n",
      "openpyxl                  3.0.10           py38h2bbff1b_0  \n",
      "openssl                   1.1.1t               h2bbff1b_0  \n",
      "opt_einsum                3.3.0              pyhd3eb1b0_1  \n",
      "orc                       1.7.4                h623e30f_1  \n",
      "packaging                 23.0             py38haa95532_0  \n",
      "pandas                    1.5.3            py38hf11a4ad_0  \n",
      "pandas-datareader         0.10.0             pyhd3eb1b0_0  \n",
      "pandocfilters             1.5.0              pyhd3eb1b0_0  \n",
      "panel                     0.14.3           py38haa95532_0  \n",
      "param                     1.13.0           py38haa95532_0  \n",
      "paramiko                  2.8.1              pyhd3eb1b0_0  \n",
      "parsel                    1.6.0            py38haa95532_0  \n",
      "parso                     0.8.3              pyhd3eb1b0_0  \n",
      "partd                     1.2.0              pyhd3eb1b0_1  \n",
      "pathlib                   1.0.1              pyhd3eb1b0_1  \n",
      "pathspec                  0.10.3           py38haa95532_0  \n",
      "patsy                     0.5.3            py38haa95532_0  \n",
      "pcre                      8.45                 hd77b12b_0  \n",
      "pep8                      1.7.1            py38haa95532_1  \n",
      "pexpect                   4.8.0              pyhd3eb1b0_3  \n",
      "pickleshare               0.7.5           pyhd3eb1b0_1003  \n",
      "pillow                    9.4.0            py38hd77b12b_0  \n",
      "pip                       23.0.1           py38haa95532_0  \n",
      "pkginfo                   1.9.6            py38haa95532_0  \n",
      "pkgutil-resolve-name      1.3.10           py38haa95532_0  \n",
      "platformdirs              2.5.2            py38haa95532_0  \n",
      "plotly                    5.9.0            py38haa95532_0  \n",
      "pluggy                    1.0.0            py38haa95532_1  \n",
      "ply                       3.11                     py38_0  \n",
      "powershell_shortcut       0.0.1                         3  \n",
      "poyo                      0.5.0              pyhd3eb1b0_0  \n",
      "prometheus_client         0.14.1           py38haa95532_0  \n",
      "promise                   2.3              py38haa95532_0  \n",
      "prompt-toolkit            3.0.36           py38haa95532_0  \n",
      "prompt_toolkit            3.0.36               hd3eb1b0_0  \n",
      "protego                   0.1.16                     py_0  \n",
      "protobuf                  3.20.3           py38hd77b12b_0  \n",
      "psutil                    5.9.0            py38h2bbff1b_0  \n",
      "ptyprocess                0.7.0              pyhd3eb1b0_2  \n",
      "pure_eval                 0.2.2              pyhd3eb1b0_0  \n",
      "py                        1.11.0             pyhd3eb1b0_0  \n",
      "py-lief                   0.12.3           py38hd77b12b_0  \n",
      "pyarrow                   11.0.0           py38haa45b5f_0  \n",
      "pyasn1                    0.4.8              pyhd3eb1b0_0  \n",
      "pyasn1-modules            0.2.8                      py_0  \n",
      "pycodestyle               2.10.0           py38haa95532_0  \n",
      "pycosat                   0.6.4            py38h2bbff1b_0  \n",
      "pycparser                 2.21               pyhd3eb1b0_0  \n",
      "pyct                      0.5.0            py38haa95532_0  \n",
      "pycurl                    7.45.2           py38hcd4344a_0  \n",
      "pydispatcher              2.0.5            py38haa95532_2  \n",
      "pydocstyle                6.3.0            py38haa95532_0  \n",
      "pyerfa                    2.0.0            py38h2bbff1b_0  \n",
      "pyflakes                  3.0.1            py38haa95532_0  \n",
      "pygments                  2.15.1           py38haa95532_1  \n",
      "pyjwt                     2.4.0            py38haa95532_0  \n",
      "pylint                    2.16.2           py38haa95532_0  \n",
      "pylint-venv               2.3.0            py38haa95532_0  \n",
      "pyls-spyder               0.4.0              pyhd3eb1b0_0  \n",
      "pynacl                    1.5.0            py38h8cc25b3_0  \n",
      "pyodbc                    4.0.34           py38hd77b12b_0  \n",
      "pyopenssl                 23.0.0           py38haa95532_0  \n",
      "pyparsing                 3.0.9            py38haa95532_0  \n",
      "pyqt                      5.15.7           py38hd77b12b_0  \n",
      "pyqt5-sip                 12.11.0          py38hd77b12b_0  \n",
      "pyqtwebengine             5.15.7           py38hd77b12b_0  \n",
      "pyreadline                2.1                      py38_1  \n",
      "pyrsistent                0.18.0           py38h196d8e1_0  \n",
      "pysocks                   1.7.1            py38haa95532_0  \n",
      "pytables                  3.6.1            py38ha5be198_0  \n",
      "pytest                    7.3.1            py38haa95532_0  \n",
      "python                    3.8.16               h6244533_3  \n",
      "python-dateutil           2.8.2              pyhd3eb1b0_0  \n",
      "python-fastjsonschema     2.16.2           py38haa95532_0  \n",
      "python-libarchive-c       2.9                pyhd3eb1b0_1  \n",
      "python-lmdb               1.4.1            py38hd77b12b_0  \n",
      "python-lsp-black          1.2.1            py38haa95532_0  \n",
      "python-lsp-jsonrpc        1.0.0              pyhd3eb1b0_0  \n",
      "python-lsp-server         1.7.2            py38haa95532_0  \n",
      "python-slugify            5.0.2              pyhd3eb1b0_0  \n",
      "python-snappy             0.6.1            py38hd77b12b_0  \n",
      "python-xxhash             2.0.2            py38h2bbff1b_1  \n",
      "pytoolconfig              1.2.5            py38haa95532_1  \n",
      "pytorch                   1.12.1          cpu_py38h5e1f01c_1  \n",
      "pytz                      2022.7           py38haa95532_0  \n",
      "pyviz_comms               2.3.0            py38haa95532_0  \n",
      "pywavelets                1.4.1            py38h2bbff1b_0  \n",
      "pywin32                   305              py38h2bbff1b_0  \n",
      "pywin32-ctypes            0.2.0                 py38_1000  \n",
      "pywinpty                  2.0.10           py38h5da7b33_0  \n",
      "pyyaml                    6.0              py38h2bbff1b_1  \n",
      "pyzmq                     25.0.2           py38hd77b12b_0  \n",
      "qdarkstyle                3.0.2              pyhd3eb1b0_0  \n",
      "qstylizer                 0.2.2            py38haa95532_0  \n",
      "qt                        5.15.7               haa95532_0  \n",
      "qt-main                   5.15.2               he8e5bd7_8  \n",
      "qt-webengine              5.15.9               hb9a9bb5_5  \n",
      "qtawesome                 1.2.2            py38haa95532_0  \n",
      "qtconsole                 5.4.2            py38haa95532_0  \n",
      "qtpy                      2.2.0            py38haa95532_0  \n",
      "qtwebkit                  5.212                h2bbfb41_5  \n",
      "queuelib                  1.5.0            py38haa95532_0  \n",
      "re2                       2022.04.01           hd77b12b_0  \n",
      "regex                     2022.7.9         py38h2bbff1b_0  \n",
      "requests                  2.29.0           py38haa95532_0  \n",
      "requests-file             1.5.1              pyhd3eb1b0_0  \n",
      "requests-oauthlib         1.3.0                      py_0  \n",
      "requests-toolbelt         0.9.1              pyhd3eb1b0_0  \n",
      "responses                 0.13.3             pyhd3eb1b0_0  \n",
      "rope                      1.7.0            py38haa95532_0  \n",
      "rsa                       4.7.2              pyhd3eb1b0_1  \n",
      "rtree                     1.0.1            py38h2eaa2aa_0  \n",
      "ruamel_yaml               0.15.100         py38h2bbff1b_0  \n",
      "sacremoses                0.0.43             pyhd3eb1b0_0  \n",
      "scikit-image              0.20.0           py38h3513d60_0  \n",
      "scikit-learn              1.2.2            py38hd77b12b_1  \n",
      "scikit-learn-intelex      2023.1.1         py38haa95532_0  \n",
      "scipy                     1.9.1            py38he11b74f_0  \n",
      "scrapy                    2.8.0            py38haa95532_0  \n",
      "seaborn                   0.12.2           py38haa95532_0  \n",
      "send2trash                1.8.0              pyhd3eb1b0_1  \n",
      "service_identity          18.1.0             pyhd3eb1b0_1  \n",
      "setuptools                67.8.0           py38haa95532_0  \n",
      "sip                       6.6.2            py38hd77b12b_0  \n",
      "six                       1.16.0             pyhd3eb1b0_1  \n",
      "smart_open                5.2.1            py38haa95532_0  \n",
      "snappy                    1.1.9                h6c2663c_0  \n",
      "sniffio                   1.2.0            py38haa95532_1  \n",
      "snowballstemmer           2.2.0              pyhd3eb1b0_0  \n",
      "sortedcontainers          2.4.0              pyhd3eb1b0_0  \n",
      "soupsieve                 2.4              py38haa95532_0  \n",
      "sphinx                    5.0.2            py38haa95532_0  \n",
      "sphinxcontrib-applehelp   1.0.2              pyhd3eb1b0_0  \n",
      "sphinxcontrib-devhelp     1.0.2              pyhd3eb1b0_0  \n",
      "sphinxcontrib-htmlhelp    2.0.0              pyhd3eb1b0_0  \n",
      "sphinxcontrib-jsmath      1.0.1              pyhd3eb1b0_0  \n",
      "sphinxcontrib-qthelp      1.0.3              pyhd3eb1b0_0  \n",
      "sphinxcontrib-serializinghtml 1.1.5              pyhd3eb1b0_0  \n",
      "spyder                    5.4.3            py38haa95532_1  \n",
      "spyder-kernels            2.4.3            py38haa95532_0  \n",
      "sqlalchemy                1.4.39           py38h2bbff1b_0  \n",
      "sqlite                    3.41.2               h2bbff1b_0  \n",
      "stack_data                0.2.0              pyhd3eb1b0_0  \n",
      "statsmodels               0.13.5           py38h080aedc_1  \n",
      "sympy                     1.11.1           py38haa95532_0  \n",
      "tabulate                  0.8.10           py38haa95532_0  \n",
      "tbb                       2021.8.0             h59b6b97_0  \n",
      "tbb4py                    2021.8.0         py38h59b6b97_0  \n",
      "tblib                     1.7.0              pyhd3eb1b0_0  \n",
      "tenacity                  8.2.2            py38haa95532_0  \n",
      "tensorboard               2.10.0           py38haa95532_0  \n",
      "tensorboard-data-server   0.6.1            py38haa95532_0  \n",
      "tensorboard-plugin-wit    1.8.1            py38haa95532_0  \n",
      "tensorflow                2.3.0           mkl_py38h8c0d9a2_0  \n",
      "tensorflow-base           2.3.0           eigen_py38h75a453f_0  \n",
      "tensorflow-datasets       1.2.0                    py38_0  \n",
      "tensorflow-eigen          2.3.0                h238604f_0  \n",
      "tensorflow-estimator      2.6.0              pyh7b7c402_0  \n",
      "tensorflow-metadata       0.14.0             pyhe6710b0_1  \n",
      "termcolor                 2.1.0            py38haa95532_0  \n",
      "terminado                 0.17.1           py38haa95532_0  \n",
      "text-unidecode            1.3                pyhd3eb1b0_0  \n",
      "textdistance              4.2.1              pyhd3eb1b0_0  \n",
      "threadpoolctl             2.2.0              pyh0d69192_0  \n",
      "three-merge               0.1.1              pyhd3eb1b0_0  \n",
      "tifffile                  2021.7.2           pyhd3eb1b0_2  \n",
      "tinycss2                  1.2.1            py38haa95532_0  \n",
      "tk                        8.6.12               h2bbff1b_0  \n",
      "tldextract                3.2.0              pyhd3eb1b0_0  \n",
      "tokenizers                0.11.4           py38he5181cf_1  \n",
      "toml                      0.10.2             pyhd3eb1b0_0  \n",
      "tomli                     2.0.1            py38haa95532_0  \n",
      "tomlkit                   0.11.1           py38haa95532_0  \n",
      "toolz                     0.12.0           py38haa95532_0  \n",
      "tornado                   6.2              py38h2bbff1b_0  \n",
      "tqdm                      4.65.0           py38hd4e2768_0  \n",
      "traitlets                 5.7.1            py38haa95532_0  \n",
      "transformers              4.29.2           py38haa95532_0  \n",
      "twisted                   22.10.0          py38h2bbff1b_0  \n",
      "twisted-iocpsupport       1.0.2            py38h2bbff1b_0  \n",
      "typing-extensions         4.5.0            py38haa95532_0  \n",
      "typing_extensions         4.5.0            py38haa95532_0  \n",
      "ujson                     5.4.0            py38hd77b12b_0  \n",
      "unidecode                 1.2.0              pyhd3eb1b0_0  \n",
      "urllib3                   1.26.15          py38haa95532_0  \n",
      "utf8proc                  2.6.1                h2bbff1b_0  \n",
      "vc                        14.2                 h21ff451_1  \n",
      "vs2015_runtime            14.27.29016          h5e58377_2  \n",
      "w3lib                     1.21.0             pyhd3eb1b0_0  \n",
      "watchdog                  2.1.6            py38haa95532_0  \n",
      "wcwidth                   0.2.5              pyhd3eb1b0_0  \n",
      "webencodings              0.5.1                    py38_1  \n",
      "websocket-client          0.58.0           py38haa95532_4  \n",
      "werkzeug                  2.2.3            py38haa95532_0  \n",
      "whatthepatch              1.0.2            py38haa95532_0  \n",
      "wheel                     0.38.4           py38haa95532_0  \n",
      "widgetsnbextension        4.0.5            py38haa95532_0  \n",
      "win_inet_pton             1.1.0            py38haa95532_0  \n",
      "winpty                    0.4.3                         4  \n",
      "wrapt                     1.14.1           py38h2bbff1b_0  \n",
      "xarray                    2022.11.0        py38haa95532_0  \n",
      "xlwings                   0.29.1           py38haa95532_0  \n",
      "xxhash                    0.8.0                h2bbff1b_3  \n",
      "xz                        5.4.2                h8cc25b3_0  \n",
      "yaml                      0.2.5                he774522_0  \n",
      "yapf                      0.31.0             pyhd3eb1b0_0  \n",
      "yarl                      1.8.1            py38h2bbff1b_0  \n",
      "zeromq                    4.3.4                hd77b12b_0  \n",
      "zfp                       0.5.5                hd77b12b_6  \n",
      "zict                      2.2.0            py38haa95532_0  \n",
      "zipp                      3.11.0           py38haa95532_0  \n",
      "zlib                      1.2.13               h8cc25b3_0  \n",
      "zope                      1.0                      py38_1  \n",
      "zope.interface            5.4.0            py38h2bbff1b_0  \n",
      "zstandard                 0.19.0           py38h2bbff1b_0  \n",
      "zstd                      1.5.5                hd43e919_0  \n"
     ]
    }
   ],
   "source": [
    "#!conda list"
   ]
  },
  {
   "cell_type": "code",
   "execution_count": 3,
   "metadata": {},
   "outputs": [],
   "source": [
    "#!pip install yfinance"
   ]
  },
  {
   "cell_type": "markdown",
   "metadata": {},
   "source": [
    "```python\n",
    "import sys\n",
    "\n",
    "sys.path.append('C:...')\n",
    "```"
   ]
  },
  {
   "cell_type": "code",
   "execution_count": 5,
   "metadata": {},
   "outputs": [],
   "source": [
    "import yfinance as yf\n",
    "import pandas as pd"
   ]
  },
  {
   "cell_type": "markdown",
   "metadata": {},
   "source": [
    "Primero importaremos datos desde un archivo con extensión `.csv`"
   ]
  },
  {
   "cell_type": "code",
   "execution_count": 6,
   "metadata": {},
   "outputs": [
    {
     "data": {
      "text/html": [
       "<div>\n",
       "<style scoped>\n",
       "    .dataframe tbody tr th:only-of-type {\n",
       "        vertical-align: middle;\n",
       "    }\n",
       "\n",
       "    .dataframe tbody tr th {\n",
       "        vertical-align: top;\n",
       "    }\n",
       "\n",
       "    .dataframe thead th {\n",
       "        text-align: right;\n",
       "    }\n",
       "</style>\n",
       "<table border=\"1\" class=\"dataframe\">\n",
       "  <thead>\n",
       "    <tr style=\"text-align: right;\">\n",
       "      <th></th>\n",
       "      <th>Date</th>\n",
       "      <th>Open</th>\n",
       "      <th>High</th>\n",
       "      <th>Low</th>\n",
       "      <th>Close</th>\n",
       "      <th>Adj Close</th>\n",
       "      <th>Volume</th>\n",
       "    </tr>\n",
       "  </thead>\n",
       "  <tbody>\n",
       "    <tr>\n",
       "      <th>0</th>\n",
       "      <td>2017-06-01</td>\n",
       "      <td>151.750000</td>\n",
       "      <td>152.289993</td>\n",
       "      <td>150.300003</td>\n",
       "      <td>151.529999</td>\n",
       "      <td>151.529999</td>\n",
       "      <td>14530600</td>\n",
       "    </tr>\n",
       "    <tr>\n",
       "      <th>1</th>\n",
       "      <td>2017-06-02</td>\n",
       "      <td>151.850006</td>\n",
       "      <td>153.630005</td>\n",
       "      <td>151.300003</td>\n",
       "      <td>153.610001</td>\n",
       "      <td>153.610001</td>\n",
       "      <td>16854400</td>\n",
       "    </tr>\n",
       "    <tr>\n",
       "      <th>2</th>\n",
       "      <td>2017-06-05</td>\n",
       "      <td>153.639999</td>\n",
       "      <td>154.710007</td>\n",
       "      <td>153.410004</td>\n",
       "      <td>153.630005</td>\n",
       "      <td>153.630005</td>\n",
       "      <td>12520400</td>\n",
       "    </tr>\n",
       "    <tr>\n",
       "      <th>3</th>\n",
       "      <td>2017-06-06</td>\n",
       "      <td>153.410004</td>\n",
       "      <td>154.520004</td>\n",
       "      <td>152.479996</td>\n",
       "      <td>152.809998</td>\n",
       "      <td>152.809998</td>\n",
       "      <td>13457100</td>\n",
       "    </tr>\n",
       "    <tr>\n",
       "      <th>4</th>\n",
       "      <td>2017-06-07</td>\n",
       "      <td>153.270004</td>\n",
       "      <td>153.750000</td>\n",
       "      <td>152.339996</td>\n",
       "      <td>153.119995</td>\n",
       "      <td>153.119995</td>\n",
       "      <td>12066700</td>\n",
       "    </tr>\n",
       "  </tbody>\n",
       "</table>\n",
       "</div>"
      ],
      "text/plain": [
       "         Date        Open        High         Low       Close   Adj Close  \\\n",
       "0  2017-06-01  151.750000  152.289993  150.300003  151.529999  151.529999   \n",
       "1  2017-06-02  151.850006  153.630005  151.300003  153.610001  153.610001   \n",
       "2  2017-06-05  153.639999  154.710007  153.410004  153.630005  153.630005   \n",
       "3  2017-06-06  153.410004  154.520004  152.479996  152.809998  152.809998   \n",
       "4  2017-06-07  153.270004  153.750000  152.339996  153.119995  153.119995   \n",
       "\n",
       "     Volume  \n",
       "0  14530600  \n",
       "1  16854400  \n",
       "2  12520400  \n",
       "3  13457100  \n",
       "4  12066700  "
      ]
     },
     "execution_count": 6,
     "metadata": {},
     "output_type": "execute_result"
    }
   ],
   "source": [
    "datos=pd.read_csv('META.csv')\n",
    "datos.head() # Muestra las primeras 5 filas"
   ]
  },
  {
   "cell_type": "code",
   "execution_count": 8,
   "metadata": {},
   "outputs": [
    {
     "data": {
      "text/html": [
       "<div>\n",
       "<style scoped>\n",
       "    .dataframe tbody tr th:only-of-type {\n",
       "        vertical-align: middle;\n",
       "    }\n",
       "\n",
       "    .dataframe tbody tr th {\n",
       "        vertical-align: top;\n",
       "    }\n",
       "\n",
       "    .dataframe thead th {\n",
       "        text-align: right;\n",
       "    }\n",
       "</style>\n",
       "<table border=\"1\" class=\"dataframe\">\n",
       "  <thead>\n",
       "    <tr style=\"text-align: right;\">\n",
       "      <th></th>\n",
       "      <th>Date</th>\n",
       "      <th>Open</th>\n",
       "      <th>High</th>\n",
       "      <th>Low</th>\n",
       "      <th>Close</th>\n",
       "      <th>Adj Close</th>\n",
       "      <th>Volume</th>\n",
       "    </tr>\n",
       "  </thead>\n",
       "  <tbody>\n",
       "    <tr>\n",
       "      <th>1261</th>\n",
       "      <td>2022-06-03</td>\n",
       "      <td>195.979996</td>\n",
       "      <td>196.610001</td>\n",
       "      <td>189.779999</td>\n",
       "      <td>190.779999</td>\n",
       "      <td>190.779999</td>\n",
       "      <td>19447300</td>\n",
       "    </tr>\n",
       "    <tr>\n",
       "      <th>1262</th>\n",
       "      <td>2022-06-06</td>\n",
       "      <td>193.990005</td>\n",
       "      <td>196.919998</td>\n",
       "      <td>188.399994</td>\n",
       "      <td>194.250000</td>\n",
       "      <td>194.250000</td>\n",
       "      <td>30574200</td>\n",
       "    </tr>\n",
       "    <tr>\n",
       "      <th>1263</th>\n",
       "      <td>2022-06-07</td>\n",
       "      <td>191.929993</td>\n",
       "      <td>196.529999</td>\n",
       "      <td>191.490005</td>\n",
       "      <td>195.649994</td>\n",
       "      <td>195.649994</td>\n",
       "      <td>18828700</td>\n",
       "    </tr>\n",
       "    <tr>\n",
       "      <th>1264</th>\n",
       "      <td>2022-06-08</td>\n",
       "      <td>194.669998</td>\n",
       "      <td>202.029999</td>\n",
       "      <td>194.410004</td>\n",
       "      <td>196.639999</td>\n",
       "      <td>196.639999</td>\n",
       "      <td>22267200</td>\n",
       "    </tr>\n",
       "    <tr>\n",
       "      <th>1265</th>\n",
       "      <td>2022-06-09</td>\n",
       "      <td>194.279999</td>\n",
       "      <td>199.449997</td>\n",
       "      <td>183.679993</td>\n",
       "      <td>184.000000</td>\n",
       "      <td>184.000000</td>\n",
       "      <td>23501600</td>\n",
       "    </tr>\n",
       "    <tr>\n",
       "      <th>1266</th>\n",
       "      <td>2022-06-10</td>\n",
       "      <td>183.039993</td>\n",
       "      <td>183.100006</td>\n",
       "      <td>175.020004</td>\n",
       "      <td>175.570007</td>\n",
       "      <td>175.570007</td>\n",
       "      <td>27450800</td>\n",
       "    </tr>\n",
       "    <tr>\n",
       "      <th>1267</th>\n",
       "      <td>2022-06-13</td>\n",
       "      <td>170.589996</td>\n",
       "      <td>172.580002</td>\n",
       "      <td>164.029999</td>\n",
       "      <td>164.259995</td>\n",
       "      <td>164.259995</td>\n",
       "      <td>31749300</td>\n",
       "    </tr>\n",
       "    <tr>\n",
       "      <th>1268</th>\n",
       "      <td>2022-06-14</td>\n",
       "      <td>166.029999</td>\n",
       "      <td>166.750000</td>\n",
       "      <td>161.360001</td>\n",
       "      <td>163.729996</td>\n",
       "      <td>163.729996</td>\n",
       "      <td>27244300</td>\n",
       "    </tr>\n",
       "    <tr>\n",
       "      <th>1269</th>\n",
       "      <td>2022-06-15</td>\n",
       "      <td>167.199997</td>\n",
       "      <td>172.160004</td>\n",
       "      <td>163.979996</td>\n",
       "      <td>169.350006</td>\n",
       "      <td>169.350006</td>\n",
       "      <td>30008300</td>\n",
       "    </tr>\n",
       "    <tr>\n",
       "      <th>1270</th>\n",
       "      <td>2022-06-16</td>\n",
       "      <td>163.720001</td>\n",
       "      <td>165.080002</td>\n",
       "      <td>159.610001</td>\n",
       "      <td>160.869995</td>\n",
       "      <td>160.869995</td>\n",
       "      <td>26944100</td>\n",
       "    </tr>\n",
       "  </tbody>\n",
       "</table>\n",
       "</div>"
      ],
      "text/plain": [
       "            Date        Open        High         Low       Close   Adj Close  \\\n",
       "1261  2022-06-03  195.979996  196.610001  189.779999  190.779999  190.779999   \n",
       "1262  2022-06-06  193.990005  196.919998  188.399994  194.250000  194.250000   \n",
       "1263  2022-06-07  191.929993  196.529999  191.490005  195.649994  195.649994   \n",
       "1264  2022-06-08  194.669998  202.029999  194.410004  196.639999  196.639999   \n",
       "1265  2022-06-09  194.279999  199.449997  183.679993  184.000000  184.000000   \n",
       "1266  2022-06-10  183.039993  183.100006  175.020004  175.570007  175.570007   \n",
       "1267  2022-06-13  170.589996  172.580002  164.029999  164.259995  164.259995   \n",
       "1268  2022-06-14  166.029999  166.750000  161.360001  163.729996  163.729996   \n",
       "1269  2022-06-15  167.199997  172.160004  163.979996  169.350006  169.350006   \n",
       "1270  2022-06-16  163.720001  165.080002  159.610001  160.869995  160.869995   \n",
       "\n",
       "        Volume  \n",
       "1261  19447300  \n",
       "1262  30574200  \n",
       "1263  18828700  \n",
       "1264  22267200  \n",
       "1265  23501600  \n",
       "1266  27450800  \n",
       "1267  31749300  \n",
       "1268  27244300  \n",
       "1269  30008300  \n",
       "1270  26944100  "
      ]
     },
     "execution_count": 8,
     "metadata": {},
     "output_type": "execute_result"
    }
   ],
   "source": [
    "datos.tail(10) # Muestra las últimas 10 filas"
   ]
  },
  {
   "cell_type": "code",
   "execution_count": 10,
   "metadata": {},
   "outputs": [
    {
     "data": {
      "text/html": [
       "<div>\n",
       "<style scoped>\n",
       "    .dataframe tbody tr th:only-of-type {\n",
       "        vertical-align: middle;\n",
       "    }\n",
       "\n",
       "    .dataframe tbody tr th {\n",
       "        vertical-align: top;\n",
       "    }\n",
       "\n",
       "    .dataframe thead th {\n",
       "        text-align: right;\n",
       "    }\n",
       "</style>\n",
       "<table border=\"1\" class=\"dataframe\">\n",
       "  <thead>\n",
       "    <tr style=\"text-align: right;\">\n",
       "      <th></th>\n",
       "      <th>Open</th>\n",
       "      <th>High</th>\n",
       "      <th>Low</th>\n",
       "      <th>Close</th>\n",
       "      <th>Adj Close</th>\n",
       "      <th>Volume</th>\n",
       "    </tr>\n",
       "    <tr>\n",
       "      <th>Date</th>\n",
       "      <th></th>\n",
       "      <th></th>\n",
       "      <th></th>\n",
       "      <th></th>\n",
       "      <th></th>\n",
       "      <th></th>\n",
       "    </tr>\n",
       "  </thead>\n",
       "  <tbody>\n",
       "    <tr>\n",
       "      <th>2017-06-01</th>\n",
       "      <td>151.750000</td>\n",
       "      <td>152.289993</td>\n",
       "      <td>150.300003</td>\n",
       "      <td>151.529999</td>\n",
       "      <td>151.529999</td>\n",
       "      <td>14530600</td>\n",
       "    </tr>\n",
       "    <tr>\n",
       "      <th>2017-06-02</th>\n",
       "      <td>151.850006</td>\n",
       "      <td>153.630005</td>\n",
       "      <td>151.300003</td>\n",
       "      <td>153.610001</td>\n",
       "      <td>153.610001</td>\n",
       "      <td>16854400</td>\n",
       "    </tr>\n",
       "  </tbody>\n",
       "</table>\n",
       "</div>"
      ],
      "text/plain": [
       "                  Open        High         Low       Close   Adj Close  \\\n",
       "Date                                                                     \n",
       "2017-06-01  151.750000  152.289993  150.300003  151.529999  151.529999   \n",
       "2017-06-02  151.850006  153.630005  151.300003  153.610001  153.610001   \n",
       "\n",
       "              Volume  \n",
       "Date                  \n",
       "2017-06-01  14530600  \n",
       "2017-06-02  16854400  "
      ]
     },
     "execution_count": 10,
     "metadata": {},
     "output_type": "execute_result"
    }
   ],
   "source": [
    "# Leemos de nuevo para nombrar 'Date' como index\n",
    "datos=pd.read_csv('META.csv',index_col='Date')\n",
    "datos.head(2)"
   ]
  },
  {
   "cell_type": "code",
   "execution_count": 11,
   "metadata": {},
   "outputs": [
    {
     "data": {
      "text/plain": [
       "153.610001"
      ]
     },
     "execution_count": 11,
     "metadata": {},
     "output_type": "execute_result"
    }
   ],
   "source": [
    "# Para conocer el precio en una fecha específica\n",
    "datos.loc['2017-06-02','Adj Close']              # ['fila','columna']"
   ]
  },
  {
   "cell_type": "code",
   "execution_count": 12,
   "metadata": {
    "collapsed": true
   },
   "outputs": [
    {
     "data": {
      "text/plain": [
       "Open         1.518500e+02\n",
       "High         1.536300e+02\n",
       "Low          1.513000e+02\n",
       "Close        1.536100e+02\n",
       "Adj Close    1.536100e+02\n",
       "Volume       1.685440e+07\n",
       "Name: 2017-06-02, dtype: float64"
      ]
     },
     "execution_count": 12,
     "metadata": {},
     "output_type": "execute_result"
    }
   ],
   "source": [
    "# Ahora todos los precios\n",
    "datos.loc['2017-06-02']"
   ]
  },
  {
   "cell_type": "code",
   "execution_count": 14,
   "metadata": {
    "collapsed": true
   },
   "outputs": [
    {
     "data": {
      "text/plain": [
       "Open         1.536400e+02\n",
       "High         1.547100e+02\n",
       "Low          1.534100e+02\n",
       "Close        1.536300e+02\n",
       "Adj Close    1.536300e+02\n",
       "Volume       1.252040e+07\n",
       "Name: 2017-06-05, dtype: float64"
      ]
     },
     "execution_count": 14,
     "metadata": {},
     "output_type": "execute_result"
    }
   ],
   "source": [
    "# Buscamos el tercer valor\n",
    "# datos.loc['2017-06-03'] # No existe la fecha\n",
    "\n",
    "datos.iloc[2] # La tercer fecha es la posición 2  ( 0,1,2 )"
   ]
  },
  {
   "cell_type": "code",
   "execution_count": 18,
   "metadata": {
    "collapsed": true
   },
   "outputs": [
    {
     "data": {
      "text/plain": [
       "<Axes: xlabel='Date'>"
      ]
     },
     "execution_count": 18,
     "metadata": {},
     "output_type": "execute_result"
    },
    {
     "data": {
      "image/png": "[encoded data removed]",
      "text/plain": [
       "<Figure size 1000x500 with 1 Axes>"
      ]
     },
     "metadata": {},
     "output_type": "display_data"
    }
   ],
   "source": [
    "datos.iloc[:,:-1].plot(grid=True,figsize=(10,5))"
   ]
  },
  {
   "cell_type": "code",
   "execution_count": 20,
   "metadata": {
    "collapsed": true
   },
   "outputs": [
    {
     "data": {
      "text/plain": [
       "<Axes: xlabel='Date'>"
      ]
     },
     "execution_count": 20,
     "metadata": {},
     "output_type": "execute_result"
    },
    {
     "data": {
      "image/png": "[encoded data removed]",
      "text/plain": [
       "<Figure size 1000x500 with 1 Axes>"
      ]
     },
     "metadata": {},
     "output_type": "display_data"
    }
   ],
   "source": [
    "datos['Adj Close'].plot(grid=True,figsize=(10,5))"
   ]
  },
  {
   "cell_type": "code",
   "execution_count": 21,
   "metadata": {
    "collapsed": true
   },
   "outputs": [
    {
     "data": {
      "text/html": [
       "<div>\n",
       "<style scoped>\n",
       "    .dataframe tbody tr th:only-of-type {\n",
       "        vertical-align: middle;\n",
       "    }\n",
       "\n",
       "    .dataframe tbody tr th {\n",
       "        vertical-align: top;\n",
       "    }\n",
       "\n",
       "    .dataframe thead th {\n",
       "        text-align: right;\n",
       "    }\n",
       "</style>\n",
       "<table border=\"1\" class=\"dataframe\">\n",
       "  <thead>\n",
       "    <tr style=\"text-align: right;\">\n",
       "      <th></th>\n",
       "      <th>Open</th>\n",
       "      <th>High</th>\n",
       "      <th>Low</th>\n",
       "      <th>Close</th>\n",
       "      <th>Adj Close</th>\n",
       "      <th>Volume</th>\n",
       "    </tr>\n",
       "  </thead>\n",
       "  <tbody>\n",
       "    <tr>\n",
       "      <th>count</th>\n",
       "      <td>1271.000000</td>\n",
       "      <td>1271.000000</td>\n",
       "      <td>1271.000000</td>\n",
       "      <td>1271.000000</td>\n",
       "      <td>1271.000000</td>\n",
       "      <td>1.271000e+03</td>\n",
       "    </tr>\n",
       "    <tr>\n",
       "      <th>mean</th>\n",
       "      <td>220.325271</td>\n",
       "      <td>223.155838</td>\n",
       "      <td>217.499205</td>\n",
       "      <td>220.366680</td>\n",
       "      <td>220.366680</td>\n",
       "      <td>2.191758e+07</td>\n",
       "    </tr>\n",
       "    <tr>\n",
       "      <th>std</th>\n",
       "      <td>63.422716</td>\n",
       "      <td>64.165274</td>\n",
       "      <td>62.723751</td>\n",
       "      <td>63.438394</td>\n",
       "      <td>63.438394</td>\n",
       "      <td>1.429516e+07</td>\n",
       "    </tr>\n",
       "    <tr>\n",
       "      <th>min</th>\n",
       "      <td>123.099998</td>\n",
       "      <td>129.740005</td>\n",
       "      <td>123.019997</td>\n",
       "      <td>124.059998</td>\n",
       "      <td>124.059998</td>\n",
       "      <td>6.046300e+06</td>\n",
       "    </tr>\n",
       "    <tr>\n",
       "      <th>25%</th>\n",
       "      <td>174.459999</td>\n",
       "      <td>176.000000</td>\n",
       "      <td>172.049996</td>\n",
       "      <td>174.090004</td>\n",
       "      <td>174.090004</td>\n",
       "      <td>1.374605e+07</td>\n",
       "    </tr>\n",
       "    <tr>\n",
       "      <th>50%</th>\n",
       "      <td>194.380005</td>\n",
       "      <td>197.070007</td>\n",
       "      <td>191.570007</td>\n",
       "      <td>194.110001</td>\n",
       "      <td>194.110001</td>\n",
       "      <td>1.815240e+07</td>\n",
       "    </tr>\n",
       "    <tr>\n",
       "      <th>75%</th>\n",
       "      <td>267.150010</td>\n",
       "      <td>270.159988</td>\n",
       "      <td>263.515000</td>\n",
       "      <td>266.619995</td>\n",
       "      <td>266.619995</td>\n",
       "      <td>2.504500e+07</td>\n",
       "    </tr>\n",
       "    <tr>\n",
       "      <th>max</th>\n",
       "      <td>381.679993</td>\n",
       "      <td>384.329987</td>\n",
       "      <td>378.809998</td>\n",
       "      <td>382.179993</td>\n",
       "      <td>382.179993</td>\n",
       "      <td>1.881199e+08</td>\n",
       "    </tr>\n",
       "  </tbody>\n",
       "</table>\n",
       "</div>"
      ],
      "text/plain": [
       "              Open         High          Low        Close    Adj Close  \\\n",
       "count  1271.000000  1271.000000  1271.000000  1271.000000  1271.000000   \n",
       "mean    220.325271   223.155838   217.499205   220.366680   220.366680   \n",
       "std      63.422716    64.165274    62.723751    63.438394    63.438394   \n",
       "min     123.099998   129.740005   123.019997   124.059998   124.059998   \n",
       "25%     174.459999   176.000000   172.049996   174.090004   174.090004   \n",
       "50%     194.380005   197.070007   191.570007   194.110001   194.110001   \n",
       "75%     267.150010   270.159988   263.515000   266.619995   266.619995   \n",
       "max     381.679993   384.329987   378.809998   382.179993   382.179993   \n",
       "\n",
       "             Volume  \n",
       "count  1.271000e+03  \n",
       "mean   2.191758e+07  \n",
       "std    1.429516e+07  \n",
       "min    6.046300e+06  \n",
       "25%    1.374605e+07  \n",
       "50%    1.815240e+07  \n",
       "75%    2.504500e+07  \n",
       "max    1.881199e+08  "
      ]
     },
     "execution_count": 21,
     "metadata": {},
     "output_type": "execute_result"
    }
   ],
   "source": [
    "# Resumen estadístico\n",
    "datos.describe()"
   ]
  },
  {
   "cell_type": "code",
   "execution_count": 22,
   "metadata": {},
   "outputs": [
    {
     "data": {
      "text/plain": [
       "220.36667979150275"
      ]
     },
     "execution_count": 22,
     "metadata": {},
     "output_type": "execute_result"
    }
   ],
   "source": [
    "# Media de 'Adj Close'\n",
    "datos['Adj Close'].mean()"
   ]
  },
  {
   "cell_type": "code",
   "execution_count": 23,
   "metadata": {
    "collapsed": true
   },
   "outputs": [
    {
     "data": {
      "text/plain": [
       "Open         6.342272e+01\n",
       "High         6.416527e+01\n",
       "Low          6.272375e+01\n",
       "Close        6.343839e+01\n",
       "Adj Close    6.343839e+01\n",
       "Volume       1.429516e+07\n",
       "dtype: float64"
      ]
     },
     "execution_count": 23,
     "metadata": {},
     "output_type": "execute_result"
    }
   ],
   "source": [
    "# Desviación estandar de todos los precios\n",
    "datos.std()"
   ]
  },
  {
   "cell_type": "markdown",
   "metadata": {},
   "source": [
    "Ahora lo haremos desde Yahoo Finance"
   ]
  },
  {
   "cell_type": "code",
   "execution_count": null,
   "metadata": {},
   "outputs": [],
   "source": []
  },
  {
   "cell_type": "markdown",
   "metadata": {},
   "source": [
    "¿Cómo lucen estos datos?"
   ]
  },
  {
   "cell_type": "code",
   "execution_count": null,
   "metadata": {},
   "outputs": [],
   "source": []
  },
  {
   "cell_type": "markdown",
   "metadata": {},
   "source": [
    "Una vez tenemos los datos, podemos operar con ellos. Por ejemplo un resumen de datos estadísticos se podría obtener con"
   ]
  },
  {
   "cell_type": "code",
   "execution_count": null,
   "metadata": {},
   "outputs": [],
   "source": []
  },
  {
   "cell_type": "markdown",
   "metadata": {},
   "source": [
    "## 1.2. Rendimientos diarios\n",
    "\n",
    "Para una sucesión de precios $\\{S_t\\}_{t=0}^{n}$, el rendimiento simple $R_t$ se define como el el cambio porcentual\n",
    "$$\n",
    "R_t=\\frac{S_t-S_{t-1}}{S_{t-1}}\n",
    "$$\n",
    "para $t=1,\\ldots,n$.\n",
    "\n",
    "Para el ejemplo en curso, ¿cómo calcular esto?"
   ]
  },
  {
   "cell_type": "code",
   "execution_count": 30,
   "metadata": {},
   "outputs": [
    {
     "data": {
      "text/html": [
       "<div>\n",
       "<style scoped>\n",
       "    .dataframe tbody tr th:only-of-type {\n",
       "        vertical-align: middle;\n",
       "    }\n",
       "\n",
       "    .dataframe tbody tr th {\n",
       "        vertical-align: top;\n",
       "    }\n",
       "\n",
       "    .dataframe thead th {\n",
       "        text-align: right;\n",
       "    }\n",
       "</style>\n",
       "<table border=\"1\" class=\"dataframe\">\n",
       "  <thead>\n",
       "    <tr style=\"text-align: right;\">\n",
       "      <th></th>\n",
       "      <th>Adj Close</th>\n",
       "    </tr>\n",
       "    <tr>\n",
       "      <th>Date</th>\n",
       "      <th></th>\n",
       "    </tr>\n",
       "  </thead>\n",
       "  <tbody>\n",
       "    <tr>\n",
       "      <th>2017-06-01</th>\n",
       "      <td>151.529999</td>\n",
       "    </tr>\n",
       "    <tr>\n",
       "      <th>2017-06-02</th>\n",
       "      <td>153.610001</td>\n",
       "    </tr>\n",
       "    <tr>\n",
       "      <th>2017-06-05</th>\n",
       "      <td>153.630005</td>\n",
       "    </tr>\n",
       "    <tr>\n",
       "      <th>2017-06-06</th>\n",
       "      <td>152.809998</td>\n",
       "    </tr>\n",
       "    <tr>\n",
       "      <th>2017-06-07</th>\n",
       "      <td>153.119995</td>\n",
       "    </tr>\n",
       "  </tbody>\n",
       "</table>\n",
       "</div>"
      ],
      "text/plain": [
       "             Adj Close\n",
       "Date                  \n",
       "2017-06-01  151.529999\n",
       "2017-06-02  153.610001\n",
       "2017-06-05  153.630005\n",
       "2017-06-06  152.809998\n",
       "2017-06-07  153.119995"
      ]
     },
     "execution_count": 30,
     "metadata": {},
     "output_type": "execute_result"
    }
   ],
   "source": [
    "META=datos[['Adj Close']]\n",
    "META.head()"
   ]
  },
  {
   "cell_type": "code",
   "execution_count": 31,
   "metadata": {},
   "outputs": [
    {
     "data": {
      "text/html": [
       "<div>\n",
       "<style scoped>\n",
       "    .dataframe tbody tr th:only-of-type {\n",
       "        vertical-align: middle;\n",
       "    }\n",
       "\n",
       "    .dataframe tbody tr th {\n",
       "        vertical-align: top;\n",
       "    }\n",
       "\n",
       "    .dataframe thead th {\n",
       "        text-align: right;\n",
       "    }\n",
       "</style>\n",
       "<table border=\"1\" class=\"dataframe\">\n",
       "  <thead>\n",
       "    <tr style=\"text-align: right;\">\n",
       "      <th></th>\n",
       "      <th>Adj Close</th>\n",
       "    </tr>\n",
       "    <tr>\n",
       "      <th>Date</th>\n",
       "      <th></th>\n",
       "    </tr>\n",
       "  </thead>\n",
       "  <tbody>\n",
       "    <tr>\n",
       "      <th>2017-06-01</th>\n",
       "      <td>NaN</td>\n",
       "    </tr>\n",
       "    <tr>\n",
       "      <th>2017-06-02</th>\n",
       "      <td>151.529999</td>\n",
       "    </tr>\n",
       "    <tr>\n",
       "      <th>2017-06-05</th>\n",
       "      <td>153.610001</td>\n",
       "    </tr>\n",
       "    <tr>\n",
       "      <th>2017-06-06</th>\n",
       "      <td>153.630005</td>\n",
       "    </tr>\n",
       "    <tr>\n",
       "      <th>2017-06-07</th>\n",
       "      <td>152.809998</td>\n",
       "    </tr>\n",
       "  </tbody>\n",
       "</table>\n",
       "</div>"
      ],
      "text/plain": [
       "             Adj Close\n",
       "Date                  \n",
       "2017-06-01         NaN\n",
       "2017-06-02  151.529999\n",
       "2017-06-05  153.610001\n",
       "2017-06-06  153.630005\n",
       "2017-06-07  152.809998"
      ]
     },
     "execution_count": 31,
     "metadata": {},
     "output_type": "execute_result"
    }
   ],
   "source": [
    "META.shift().head() # .shift()  ->  recorre los valores una casilla"
   ]
  },
  {
   "cell_type": "code",
   "execution_count": 34,
   "metadata": {},
   "outputs": [
    {
     "data": {
      "text/html": [
       "<div>\n",
       "<style scoped>\n",
       "    .dataframe tbody tr th:only-of-type {\n",
       "        vertical-align: middle;\n",
       "    }\n",
       "\n",
       "    .dataframe tbody tr th {\n",
       "        vertical-align: top;\n",
       "    }\n",
       "\n",
       "    .dataframe thead th {\n",
       "        text-align: right;\n",
       "    }\n",
       "</style>\n",
       "<table border=\"1\" class=\"dataframe\">\n",
       "  <thead>\n",
       "    <tr style=\"text-align: right;\">\n",
       "      <th></th>\n",
       "      <th>Adj Close</th>\n",
       "    </tr>\n",
       "    <tr>\n",
       "      <th>Date</th>\n",
       "      <th></th>\n",
       "    </tr>\n",
       "  </thead>\n",
       "  <tbody>\n",
       "    <tr>\n",
       "      <th>2017-06-02</th>\n",
       "      <td>0.013727</td>\n",
       "    </tr>\n",
       "    <tr>\n",
       "      <th>2017-06-05</th>\n",
       "      <td>0.000130</td>\n",
       "    </tr>\n",
       "    <tr>\n",
       "      <th>2017-06-06</th>\n",
       "      <td>-0.005338</td>\n",
       "    </tr>\n",
       "    <tr>\n",
       "      <th>2017-06-07</th>\n",
       "      <td>0.002029</td>\n",
       "    </tr>\n",
       "    <tr>\n",
       "      <th>2017-06-08</th>\n",
       "      <td>0.010384</td>\n",
       "    </tr>\n",
       "  </tbody>\n",
       "</table>\n",
       "</div>"
      ],
      "text/plain": [
       "            Adj Close\n",
       "Date                 \n",
       "2017-06-02   0.013727\n",
       "2017-06-05   0.000130\n",
       "2017-06-06  -0.005338\n",
       "2017-06-07   0.002029\n",
       "2017-06-08   0.010384"
      ]
     },
     "execution_count": 34,
     "metadata": {},
     "output_type": "execute_result"
    }
   ],
   "source": [
    "R=((META-META.shift())/META.shift()).dropna() # dropna()  ->  elimina las filas con NaN\n",
    "R.head()"
   ]
  },
  {
   "cell_type": "markdown",
   "metadata": {},
   "source": [
    "y la gráfica de los rendimientos se puede obtener como..."
   ]
  },
  {
   "cell_type": "code",
   "execution_count": 36,
   "metadata": {},
   "outputs": [
    {
     "data": {
      "text/plain": [
       "array([[<Axes: title={'center': 'Adj Close'}>]], dtype=object)"
      ]
     },
     "execution_count": 36,
     "metadata": {},
     "output_type": "execute_result"
    },
    {
     "data": {
      "image/png": "[encoded data removed]",
      "text/plain": [
       "<Figure size 640x480 with 1 Axes>"
      ]
     },
     "metadata": {},
     "output_type": "display_data"
    }
   ],
   "source": [
    "# Histograma\n",
    "R.hist(bins=50)"
   ]
  },
  {
   "cell_type": "code",
   "execution_count": 38,
   "metadata": {},
   "outputs": [
    {
     "data": {
      "text/plain": [
       "(Adj Close    0.000351\n",
       " dtype: float64,\n",
       " Adj Close    0.024362\n",
       " dtype: float64)"
      ]
     },
     "execution_count": 38,
     "metadata": {},
     "output_type": "execute_result"
    }
   ],
   "source": [
    "# Media y std\n",
    "R.mean(),R.std()"
   ]
  },
  {
   "cell_type": "markdown",
   "metadata": {},
   "source": [
    "Donde se observa que el rendimiento tiene una tendencia constante y, por tanto, se puede plantear la hipótesis de que se puede modelar usando un proceso estocástico estacionario en media."
   ]
  },
  {
   "cell_type": "markdown",
   "metadata": {},
   "source": [
    "Otro rendimiento usado con frecuencia es el rendimiento continuamente compuesto o rendimiento logaritmico. Éste, está definido como\n",
    "\n",
    "$$\n",
    "r_t=\\ln\\left(\\frac{S_t}{S_{t-1}}\\right).\n",
    "$$\n",
    "\n",
    "**Esta ecuación sólo es válida cuando se tienen periodos cortos de tiempo**\n",
    "Es fácil darse cuenta que $r_t=\\ln(1+R_t)$.\n",
    "\n",
    "**Nota:** ver gráficamente que si $0\\leq|x|\\ll 1$, entonces $\\ln(1+x)\\approx x$.\n",
    "\n",
    "Para este caso, la fórmula del rendimiento continuamente compuesto se translada facilmente a código Python (obtener, graficar y comparar)."
   ]
  },
  {
   "cell_type": "code",
   "execution_count": null,
   "metadata": {},
   "outputs": [],
   "source": []
  },
  {
   "cell_type": "markdown",
   "metadata": {},
   "source": [
    "Donde se observa que el rendimiento tiene una tendencia constante y, por tanto, se puede plantear la hipótesis de que se puede modelar usando un proceso estocástico estacionario en media.\n",
    "\n",
    "Podemos incluso plantear la hipótesis de que los log rendimientos son normales..."
   ]
  },
  {
   "cell_type": "code",
   "execution_count": null,
   "metadata": {},
   "outputs": [],
   "source": []
  },
  {
   "cell_type": "markdown",
   "metadata": {},
   "source": [
    "___\n",
    "# 2. Simulación de escenarios futuros de precios"
   ]
  },
  {
   "cell_type": "markdown",
   "metadata": {},
   "source": [
    "Entonces, suponemos que el cambio porcentual de los precios (rendimientos diarios) tiene una distribución normal.\n",
    "\n",
    "¿Cómo se caracteriza una [distribución normal](https://es.wikipedia.org/wiki/Distribuci%C3%B3n_normal)?"
   ]
  },
  {
   "cell_type": "code",
   "execution_count": null,
   "metadata": {},
   "outputs": [],
   "source": []
  },
  {
   "cell_type": "markdown",
   "metadata": {},
   "source": [
    "Habiendo caracterizado los rendimientos diarios como una variable aleatoria normal con la media y la varianza muestral obtenida de los datos del 2018, podemos generar números aleatorios con estas características para simular el comportamiento de los precios de cierre de las acciones en el 2019 (hay un supuesto de que las cosas no cambiarán fundamentalmente).\n",
    "\n",
    "Sin embargo, cada simulación que hagamos nos conducirá a distintos resultados (los precios siguen evolucionando aleatoriamente). Entonces, lo que haremos es simular varios escenarios para así ver alguna tendencia y tomar decisiones.\n",
    "\n",
    "Hagamos una una función que simule varios escenarios de rendimientos diarios y que devuelva un dataframe con esta simulación."
   ]
  },
  {
   "cell_type": "code",
   "execution_count": null,
   "metadata": {},
   "outputs": [],
   "source": []
  },
  {
   "cell_type": "markdown",
   "metadata": {},
   "source": [
    "## 2.2 Proyección de precios"
   ]
  },
  {
   "cell_type": "markdown",
   "metadata": {},
   "source": [
    "Por tanto, para calcular los precios, tenemos:\n",
    "\n",
    "$$\\begin{align}\n",
    "p_i&=p_{i-1}(R_i+1)\\\\\n",
    "p_{i+1}&=p_i(R_{i+1}+1)=p_{i-1}(R_i+1)(R_{i+1}+1)\\\\\n",
    "&\\vdots\\\\\n",
    "p_{i+k}&=p_{i-1}(R_i+1)\\cdots(R_{i+k}+1).\n",
    "\\end{align}$$\n",
    "\n",
    "Si hacemos $i=0$ en la última ecuación, tenemos que $p_{k}=p_{-1}(R_0+1)\\cdots(R_{k}+1)$, donde $p_{-1}$ es el último precio reportado en el actual año."
   ]
  },
  {
   "cell_type": "code",
   "execution_count": null,
   "metadata": {},
   "outputs": [],
   "source": []
  },
  {
   "cell_type": "markdown",
   "metadata": {},
   "source": [
    "## 2.3 Probabilidad Precio-Umbral\n",
    "\n",
    "Ya que tenemos muchos escenarios de precios proyectados, podemos ver varias cosas. Por ejemplo, ¿cuál es la probabilidad de que el precio de cierre sobrepase algún valor umbral en algún momento?"
   ]
  },
  {
   "cell_type": "code",
   "execution_count": null,
   "metadata": {},
   "outputs": [],
   "source": []
  },
  {
   "cell_type": "markdown",
   "metadata": {},
   "source": [
    "___\n",
    "Entonces, ya aprendimos a bajar datos con pandas-datareader. En específico, a partir de los precios de cierre ajustados obtuvimos los rendimientos diarios.\n",
    "\n",
    "Suponiendo que los rendimientos diarios son un proceso estocástico estacionario de distribución normal, pudimos caracaterizarlo y proyectar varios escenarios de evolución de los precios (Montecarlo).\n",
    "\n",
    "Con estas proyecciones pudimos calcular probabilidades de sobrepasar cierto precio umbral: toma de decisiones."
   ]
  }
 ],
 "metadata": {
  "kernelspec": {
   "display_name": "Python 3 (ipykernel)",
   "language": "python",
   "name": "python3"
  },
  "language_info": {
   "codemirror_mode": {
    "name": "ipython",
    "version": 3
   },
   "file_extension": ".py",
   "mimetype": "text/x-python",
   "name": "python",
   "nbconvert_exporter": "python",
   "pygments_lexer": "ipython3",
   "version": "3.8.16"
  }
 },
 "nbformat": 4,
 "nbformat_minor": 2
}
